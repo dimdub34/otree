{
 "cells": [
  {
   "cell_type": "markdown",
   "id": "lonely-wisdom",
   "metadata": {
    "editable": true,
    "slideshow": {
     "slide_type": ""
    },
    "tags": [],
    "toc-hr-collapsed": true
   },
   "source": [
    "# oTree - An open-source platform for behavioral research \n",
    "\n",
    "Dimitri DUBOIS  \n",
    "[dimitri.dubois@umontpellier.fr](mailto:dimitri.dubois@umontpellier.fr)\n",
    "\n",
    "[https://www.duboishome.info/dimitri/cours/otree](https://www.duboishome.info/dimitri/cours/otree)"
   ]
  },
  {
   "cell_type": "markdown",
   "id": "broadband-appraisal",
   "metadata": {
    "editable": true,
    "slideshow": {
     "slide_type": "subslide"
    },
    "tags": []
   },
   "source": [
    "<span style=\"font-size: 1.5em;font-weight: 500\">Content</span>\n",
    "\n",
    "1. [Introduction](#/1)\n",
    "2. [Python](#/2)\n",
    "3. [HTML](#/3)\n",
    "4. [Getting started with oTree](#/4)\n",
    "5. [Building an oTree application](#/5)\n",
    "6. [Customizing models and fields](#6)\n",
    "7. [Managing flow and pages](#7)\n",
    "8. [Constants, Groups and multiplayer interactions](#/8)\n",
    "9. [Roles, Sequentiel Games, and Conditional Structures](#/9)\n",
    "10. [Simulations](#/10)\n",
    "11. [Data Wrangling](#/11)\n",
    "12. [Rooms and Admin Report](#/12)\n",
    "14. [Real-Time Interactions](#/13)\n",
    "15. [Highcharts](#/14)\n",
    "16. [Bootstrap](#/15)\n",
    "17. [Internationalisation](#/16)\n",
    "18. [Tips & Tricks](#/17)"
   ]
  },
  {
   "cell_type": "markdown",
   "id": "located-algebra",
   "metadata": {
    "editable": true,
    "slideshow": {
     "slide_type": "slide"
    },
    "tags": []
   },
   "source": [
    "# Introduction"
   ]
  },
  {
   "cell_type": "markdown",
   "id": "beed2ce4-3435-4f82-8e81-995426110c38",
   "metadata": {
    "editable": true,
    "slideshow": {
     "slide_type": "subslide"
    },
    "tags": []
   },
   "source": [
    "- **oTree** is an open-source framework built in Python.\n",
    "- It is used for creating **economic games** and **surveys**.\n",
    "- It is used in different fields like **economics, psychology, political science, management, finance, etc.** for running **online experiments, lab-in-the-field experiments and lab experiments**."
   ]
  },
  {
   "cell_type": "markdown",
   "id": "2dda571c-2be9-4fc5-844f-3bc2767c48d4",
   "metadata": {
    "editable": true,
    "slideshow": {
     "slide_type": "subslide"
    },
    "tags": []
   },
   "source": [
    "## Key Features\n",
    "\n",
    "- Supports multiplayer interactions.\n",
    "- Runs on web browsers, making it easy to use in both labs and online.\n",
    "- Can be integrated with custom Python code (and JavaScript) for added flexibility.\n",
    "\n",
    "<figure style=\"margin-top: 20px\">\n",
    "<img src=\"img/otree_devices.png\" style=\"height: 200px\">\n",
    "</figure>"
   ]
  },
  {
   "cell_type": "markdown",
   "id": "0921fa27-73a3-4a3f-bf54-53fa941db52e",
   "metadata": {
    "editable": true,
    "slideshow": {
     "slide_type": "subslide"
    },
    "tags": []
   },
   "source": [
    "<figure style=\"display: inline-block\">\n",
    "<img src=\"img/leem.jpg\" alt=\"LEEM\">\n",
    "    <figcaption>Lab experiment</figcaption>\n",
    "</figure>\n"
   ]
  },
  {
   "cell_type": "markdown",
   "id": "1c587838-f398-4a91-b8b2-e2dcbddf3973",
   "metadata": {
    "editable": true,
    "slideshow": {
     "slide_type": "subslide"
    },
    "tags": []
   },
   "source": [
    "<figure style=\"display: inline-block\">\n",
    "    <img src=\"img/indonesie.jpg\" alt=\"Field experiment (Indonesia)\" alt=\"Indonésie\">\n",
    "    <figcaption>Lab-in-the-field experiment</figcaption>\n",
    "</figure>"
   ]
  },
  {
   "cell_type": "markdown",
   "id": "fd5e0eb4-8e60-4d14-9ee4-71b14615a8f1",
   "metadata": {
    "editable": true,
    "slideshow": {
     "slide_type": "subslide"
    },
    "tags": []
   },
   "source": [
    "<figure style=\"display: inline-block\">\n",
    "    <img src=\"img/internet.jpg\" alt=\"Online Experiment\" alt=\"Internet\">\n",
    "    <figcaption>Online experiment</figcaption>\n",
    "</figure>"
   ]
  },
  {
   "cell_type": "markdown",
   "id": "ffda5a43",
   "metadata": {
    "slideshow": {
     "slide_type": "subslide"
    }
   },
   "source": [
    "## Advantages of oTree\n",
    "\n",
    "- Flexible: Create various types of experiments (e.g., economic games, surveys).\n",
    "- Python-based: Allows advanced users to extend functionality.\n",
    "- Open-source: Free to use, supported by a growing community.\n",
    "- Cross-platform: Runs on browsers—participants only need a URL.\n",
    "- Real-time interactions: Enables multiplayer interactions and instant feedback."
   ]
  },
  {
   "cell_type": "markdown",
   "id": "448f96ee",
   "metadata": {
    "editable": true,
    "slideshow": {
     "slide_type": "subslide"
    },
    "tags": []
   },
   "source": [
    "## Usage of oTree\n",
    "\n",
    "- **Economic games with strategic interactions**  \n",
    "  Prisoner's Dilemma, Ultimatum Game, Public Goods Game, etc.\n",
    "  \n",
    "- **Individual attitudes**  \n",
    "    decision-making under risk and uncertainty, time preferences, pro-environmental behavior,  etc.\n",
    "\n",
    "- **Social preferences**  \n",
    "    fairness, trust, reciprocity, inequality aversion, etc.\n",
    "\n",
    "- **Markets**  \n",
    "    double auctions, etc.\n",
    "\n",
    "- **Public policy evaluation**  \n",
    "    taxes, subsidies, nudges, etc.\n",
    "\n",
    "\n",
    "**_💬 oTree enables controlled, interactive, and reproducible studies on all these topics — making it a powerful tool for both research and applied data science._**\n"
   ]
  },
  {
   "cell_type": "markdown",
   "id": "2c098359-8dec-4496-bca8-75cecaf7a978",
   "metadata": {
    "editable": true,
    "slideshow": {
     "slide_type": "subslide"
    },
    "tags": []
   },
   "source": [
    "## Why oTree Matters for Data Scientists\n",
    "\n",
    "> “In data science, **good data beats big data** — and oTree lets you **generate your own, high-quality data** tailored to your research question.”\n",
    "\n",
    "- Go beyond scraping or using pre-existing datasets  \n",
    "- Design your own experimental protocols  \n",
    "- Control what variables are observed, randomized, or manipulated  \n",
    "- Collect data that’s clean, interpretable, and purpose-built"
   ]
  },
  {
   "cell_type": "markdown",
   "id": "cf9aac32-b167-4c39-abbb-1786f5323007",
   "metadata": {
    "editable": true,
    "slideshow": {
     "slide_type": "subslide"
    },
    "tags": []
   },
   "source": [
    "## Who Uses Behavioral Science to Solve Societal Problems?\n",
    "\n",
    "### Government-Backed & International Units\n",
    "\n",
    "- **Behavioural Insights Team (UK)**  \n",
    "  Public-private organization solving issues in health, education, finance, etc.  \n",
    "  👉 https://www.bi.team/\n",
    "\n",
    "- **OECD Behavioural Insights Unit**  \n",
    "  Policy applications across member countries (taxes, environment, digital security)  \n",
    "  👉 https://www.oecd.org/gov/regulatory-policy/behavioural-insights.htm\n",
    "\n",
    "- **World Bank – eMBeDS**  \n",
    "  Behavioral research applied to development, governance, and financial inclusion  \n",
    "  👉 https://www.worldbank.org/en/programs/embed\n",
    "\n",
    "- **European Commission – JRC Behavioral Insights**  \n",
    "  Behavioral support for EU policy (energy, food, mobility, trust)  \n",
    "  👉 https://knowledge4policy.ec.europa.eu/behavioural-insights_en\n"
   ]
  },
  {
   "cell_type": "markdown",
   "id": "555fb06a-28b1-4c68-a2b6-72b3c865d2ae",
   "metadata": {
    "editable": true,
    "slideshow": {
     "slide_type": "subslide"
    },
    "tags": []
   },
   "source": [
    "### Behavioral Science in the Private Sector\n",
    "\n",
    "**_Nonprofits & Companies Using Experimental Design_**\n",
    "\n",
    "- **ideas42 (US)**  \n",
    "  Nonprofit using behavioral science in education, climate, justice, etc.  \n",
    "  👉 https://www.ideas42.org/\n",
    "\n",
    "- **BEworks (Canada/Global)**  \n",
    "  Consultancy founded by Dan Ariely, working with businesses & governments  \n",
    "  👉 https://www.beworks.com/\n",
    "\n",
    "- **Irrational Agency (UK)**  \n",
    "  Behavioral market research and innovation for private companies  \n",
    "  👉 https://www.irrationalagency.com/\n",
    "\n",
    "- **Common Cents Lab (US)**  \n",
    "  Focus on improving financial decisions and well-being  \n",
    "  👉 https://www.commoncentslab.org/\n"
   ]
  },
  {
   "cell_type": "markdown",
   "id": "awful-charge",
   "metadata": {
    "editable": true,
    "slideshow": {
     "slide_type": "subslide"
    },
    "tags": []
   },
   "source": [
    "## 🗒️ Licence and Documentation\n",
    "\n",
    "- Licensed under the MIT open source license\n",
    "- Website: https://www.otree.org/\n",
    "- Documentation: https://otree.readthedocs.io/en/latest/\n",
    "- Citation: Chen, D.L., Schonger, M. & Wickens, C., 2016, \"oTree - An open-source platform for laboratory, online, and field experiments\", Journal of Behavioral and Experimental Finance 9, pp. 88-97"
   ]
  },
  {
   "cell_type": "markdown",
   "id": "2c25ec4c-2f88-4838-88b5-25b83d87e2b4",
   "metadata": {
    "editable": true,
    "jp-MarkdownHeadingCollapsed": true,
    "slideshow": {
     "slide_type": "slide"
    },
    "tags": []
   },
   "source": [
    "# Python"
   ]
  },
  {
   "cell_type": "markdown",
   "id": "0154d0ce-f924-45f8-b43f-f14a835a79ba",
   "metadata": {
    "editable": true,
    "jp-MarkdownHeadingCollapsed": true,
    "slideshow": {
     "slide_type": "subslide"
    },
    "tags": []
   },
   "source": [
    "- **Python** is a high-level, interpreted and object-oriented programming language.\n",
    "- Created by **Guido van Rossum** in the late 1980s and released in **1991**.\n",
    "- Named after the British comedy group **Monty Python**, not the snake.\n",
    "- **Design philosophy**: Emphasizes code readability, simplicity, and ease of use.\n",
    "\n",
    "The latest stable version as of March 202: **Python 3.13.2**.\n"
   ]
  },
  {
   "cell_type": "markdown",
   "id": "1f0fa392-fdfd-46be-aa2b-f37427d48507",
   "metadata": {
    "editable": true,
    "jp-MarkdownHeadingCollapsed": true,
    "slideshow": {
     "slide_type": "subslide"
    },
    "tags": []
   },
   "source": [
    "**Key Features of Python**\n",
    "\n",
    "- **Simple and Readable Syntax**: Easy to learn, focuses on readability.\n",
    "- **Interpreted Language**: Python code is executed line by line, making it easy to debug.\n",
    "- **Dynamically Typed**: No need to declare variable types, which makes coding faster and more flexible.\n",
    "- **Extensive Standard Library**: Python comes with a vast range of libraries for handling everything from file I/O to web development, data processing, and machine learning.\n",
    "- **Cross-Platform**: Python runs on Windows, macOS, and Linux without any modification.\n",
    "- **Versatile**: Used in web development, data science, machine learning, automation, scientific computing, and more."
   ]
  },
  {
   "cell_type": "markdown",
   "id": "dc0cf5dd-1fd5-4f3c-84bb-b405c8b7f8e3",
   "metadata": {
    "editable": true,
    "slideshow": {
     "slide_type": "subslide"
    },
    "tags": []
   },
   "source": [
    "**Disadvantages of Python**\n",
    "\n",
    "- **Performance**: Python is **slower** than compiled languages like C++ or Java due to its interpreted nature.\n",
    "- **Mobile Development**: Python is not widely used for **mobile app development**."
   ]
  },
  {
   "cell_type": "markdown",
   "id": "f3ccc5b5-9000-41e5-846b-b8431e682996",
   "metadata": {
    "editable": true,
    "slideshow": {
     "slide_type": "subslide"
    },
    "tags": []
   },
   "source": [
    "## Python environment : Anaconda  \n",
    "\n",
    "- a Python distribution that includes all the packages needed for data science\n",
    "- easy to install and manage\n",
    "- <https://www.anaconda.com/download>\n",
    "- download and install the distribution\n",
    "\n",
    "<figure>\n",
    "    <img src=\"img/anaconda.png\" alt=\"Anaconda\" width=\"300px\" />\n",
    "</figure>"
   ]
  },
  {
   "cell_type": "markdown",
   "id": "03e5fba9-bdec-4321-98d3-a01c9a296a33",
   "metadata": {
    "editable": true,
    "slideshow": {
     "slide_type": "subslide"
    },
    "tags": []
   },
   "source": [
    "## Python Interpreter\n",
    "\n",
    "- The **Python interpreter** is a program that reads and executes Python code line by line.\n",
    "- It’s available directly from the terminal with the instruction\n",
    "    ```bash\n",
    "    python\n",
    "    ```\n",
    "- The interpreter can read and execute instructions directly, making it flexible for quick tests."
   ]
  },
  {
   "cell_type": "markdown",
   "id": "6ade9b3a-2d05-4e8b-93be-18a1f117f404",
   "metadata": {
    "editable": true,
    "slideshow": {
     "slide_type": "subslide"
    },
    "tags": []
   },
   "source": [
    "**JupyterLab**\n",
    "\n",
    "- A modern Python interpreter, executed in the browser.\n",
    "- It allows you to:\n",
    "  - Write and execute Python code in **cells**.\n",
    "  - Include **Markdown** for notes, documentation, and visual explanations.\n",
    "  - Visualize outputs (like charts or data frames) **inline**.\n",
    "- To start JupyterLab:\n",
    "  ```bash\n",
    "  jupyter-lab\n",
    "  ```\n"
   ]
  },
  {
   "cell_type": "markdown",
   "id": "ec483e5b-e2f1-4499-b6e5-585f61b7e6b5",
   "metadata": {
    "editable": true,
    "slideshow": {
     "slide_type": "subslide"
    },
    "tags": []
   },
   "source": [
    "## Variables and data types\n",
    "\n",
    "- **Integer**: Whole numbers\n",
    "   ```python\n",
    "   x = 10\n",
    "   ```\n",
    "- **Float**: Numbers with decimals\n",
    "  ```python\n",
    "  y = 3.14\n",
    "  ```\n",
    "- **String**: Text data\n",
    "  ```python\n",
    "  name = \"Alice\"\n",
    "  ```\n",
    "- **Boolean**: True or False values\n",
    "  ```python\n",
    "  is_displayed = True\n",
    "  ```\n",
    "- **None**: Represents an absence of value\n",
    "  ```python\n",
    "  result = None\n",
    "  ```"
   ]
  },
  {
   "cell_type": "markdown",
   "id": "d8bf5add-6585-4dff-972e-b18fcf0241f6",
   "metadata": {
    "editable": true,
    "slideshow": {
     "slide_type": "subslide"
    },
    "tags": []
   },
   "source": [
    "**List**  \n",
    "\n",
    "- Lists are used to store multiple values in a single variable.\n",
    "- Lists are **mutable** (you can change their content).\n",
    "\n",
    "Example:\n",
    "```python\n",
    "fruits = [\"apple\", \"banana\", \"cherry\"]\n",
    "fruits.append(\"orange\")  # Adds 'orange' to the list\n",
    "print(fruits[0])  # Outputs: 'apple'\n",
    "```"
   ]
  },
  {
   "cell_type": "markdown",
   "id": "5c1da756-a6a5-4cbc-a73d-df77fb4e5012",
   "metadata": {
    "editable": true,
    "slideshow": {
     "slide_type": "subslide"
    },
    "tags": []
   },
   "source": [
    "**Dictionaries**\n",
    "\n",
    "- Dictionaries store data as key-value pairs.\n",
    "- Keys are unique, and values can be of any type.\n",
    "\n",
    "```python\n",
    "player = {\"name\": \"John\", \"score\": 10}\n",
    "print(player[\"name\"])  # Outputs: 'John'\n",
    "player[\"score\"] += 5  # Updates score\n",
    "```"
   ]
  },
  {
   "cell_type": "markdown",
   "id": "93ddac34-a739-4455-87ea-a496a9a8187f",
   "metadata": {
    "editable": true,
    "slideshow": {
     "slide_type": "subslide"
    },
    "tags": []
   },
   "source": [
    "## Indentation\n",
    "\n",
    "- In Python, **indentation** is used to define the structure of the code.\n",
    "- Unlike other languages that use braces or keywords, Python uses **whitespace** (usually 4 spaces) to group code blocks.\n",
    "\n",
    "**_Key Rules_**:\n",
    "1. **Consistency**: Indentation must be consistent within a block of code (e.g., always 4 spaces).\n",
    "2. **Blocks of code**: Code inside loops, functions, conditionals, and other constructs must be indented."
   ]
  },
  {
   "cell_type": "markdown",
   "id": "a35f35b8-2b1a-45c5-9677-307fa830b35a",
   "metadata": {
    "editable": true,
    "slideshow": {
     "slide_type": "subslide"
    },
    "tags": []
   },
   "source": [
    "_Example_:\n",
    "```python\n",
    "def check_number(num):\n",
    "    if num > 0:\n",
    "        print(\"Positive\")\n",
    "    elif num == 0:\n",
    "        print(\"Zero\")\n",
    "    else:\n",
    "        print(\"Negative\")\n",
    "```\n",
    "\n",
    "- The if, elif, and else blocks are indented to indicate that they belong to the check_number() function.\n",
    "- Indentation Errors: If the indentation is inconsistent (e.g., mixing spaces and tabs), Python will raise an error."
   ]
  },
  {
   "cell_type": "markdown",
   "id": "add898eb-aaa7-415a-96a3-e0b60f867cef",
   "metadata": {
    "editable": true,
    "slideshow": {
     "slide_type": "subslide"
    },
    "tags": []
   },
   "source": [
    "## String Formatting with f-strings\n",
    "\n",
    "- **f-strings** (formatted string literals) are the recommended way to format strings in Python 3.6+.\n",
    "- They are concise, easy to read, and allow you to directly embed expressions inside curly braces `{}`.\n",
    "\n",
    "_Basic Usage_:\n",
    "```python\n",
    "name = \"Alice\"\n",
    "age = 30\n",
    "print(f\"Name: {name}, Age: {age}\")\n",
    "```\n",
    "The `f` before the string allows you to embed variables or expressions directly into the string."
   ]
  },
  {
   "cell_type": "markdown",
   "id": "7f27769c-7213-47d1-9f67-61a6c798d96c",
   "metadata": {
    "editable": true,
    "slideshow": {
     "slide_type": "subslide"
    },
    "tags": []
   },
   "source": [
    "_Example with Expressions_:\n",
    "```python\n",
    "x = 10\n",
    "y = 5\n",
    "print(f\"The sum of {x} and {y} is {x + y}\")\n",
    "```\n",
    "You can embed calculations or any valid Python expression inside an f-string.\n",
    "\n",
    "_Example with Formatting_:\n",
    "```python\n",
    "pi = 3.14159\n",
    "print(f\"Pi rounded to 2 decimals: {pi:.2f}\")\n",
    "```\n",
    "The : .2f syntax is used to format numbers (in this case, to show only 2 decimal places)."
   ]
  },
  {
   "cell_type": "markdown",
   "id": "58775cec-20d9-4200-99df-aef38eda27e7",
   "metadata": {
    "editable": true,
    "slideshow": {
     "slide_type": "subslide"
    },
    "tags": []
   },
   "source": [
    "## Control Flow\n",
    "\n",
    "### Conditionals: `if`, `elif`, `else`  \n",
    "Used to execute code based on certain conditions.\n",
    "\n",
    "Example:\n",
    "```python\n",
    "score = 85\n",
    "if score <= 80:\n",
    "    print(\"A\")\n",
    "elif score <= 90:\n",
    "    print(\"B\")\n",
    "else:\n",
    "    print(\"C\")\n",
    "```"
   ]
  },
  {
   "cell_type": "markdown",
   "id": "41f0c47a-43f1-4393-ba11-031056975c38",
   "metadata": {
    "editable": true,
    "slideshow": {
     "slide_type": "subslide"
    },
    "tags": []
   },
   "source": [
    "### Loops : `for`\n",
    "\n",
    "Used to iterate over a sequence (like a list, tuple, or range).\n",
    "\n",
    "Example:\n",
    "```python\n",
    "fruits = [\"apple\", \"banana\", \"cherry\"]\n",
    "for fruit in fruits:\n",
    "    print(fruit)\n",
    "```\n",
    "This will print each fruit in the list."
   ]
  },
  {
   "cell_type": "markdown",
   "id": "315d091e-e587-41fa-8de8-930d12de7957",
   "metadata": {
    "editable": true,
    "slideshow": {
     "slide_type": "subslide"
    },
    "tags": []
   },
   "source": [
    "### The `range()` Function\n",
    "\n",
    "Used to generate a sequence of numbers, commonly used in loops.\n",
    "\n",
    "Basic Usage:\n",
    "```python\n",
    "for i in range(5):\n",
    "    print(i)\n",
    "```\n",
    "This will print numbers from 0 to 4 (5 iterations, starting from 0)."
   ]
  },
  {
   "cell_type": "markdown",
   "id": "dda03cec-d61e-4ba8-97c2-0a34819f8513",
   "metadata": {
    "editable": true,
    "slideshow": {
     "slide_type": "subslide"
    },
    "tags": []
   },
   "source": [
    "**Parameters of range()**\n",
    "\n",
    "- Single argument: range(stop)  \n",
    "Generates numbers from 0 up to, but not including, `stop`.\n",
    "```python\n",
    "range(5)  # Generates [0, 1, 2, 3, 4]\n",
    "```\n",
    "\n",
    "- Two arguments: range(start, stop)  \n",
    "Generates numbers from `start` up to, but not including, `stop`.\n",
    "```python\n",
    "range(2, 6)  # Generates [2, 3, 4, 5]\n",
    "```\n",
    "\n",
    "- Three arguments: range(start, stop, step)  \n",
    "Generates numbers from `start` to `stop`, with increments of `step`.\n",
    "```python\n",
    "range(0, 10, 2)  # Generates [0, 2, 4, 6, 8]\n",
    "```\n",
    "\n",
    "- Negative Step: \n",
    "range() can also count backwards using a negative step:\n",
    "```python\n",
    "range(10, 0, -2)  # Generates [10, 8, 6, 4, 2]\n",
    "```"
   ]
  },
  {
   "cell_type": "markdown",
   "id": "9ed26fee-11f8-41c6-9895-5ed2b226fd68",
   "metadata": {
    "editable": true,
    "slideshow": {
     "slide_type": "subslide"
    },
    "tags": []
   },
   "source": [
    "### Loops : While\n",
    "\n",
    "Repeats code as long as a condition is True.  \n",
    "```python\n",
    "count = 0\n",
    "while count < 5:\n",
    "    print(count)\n",
    "    count += 1\n",
    "```"
   ]
  },
  {
   "cell_type": "markdown",
   "id": "459b7531-fadf-4d56-b5bb-969d91e1f8ed",
   "metadata": {
    "editable": true,
    "slideshow": {
     "slide_type": "subslide"
    },
    "tags": []
   },
   "source": [
    "## Functions\n",
    "\n",
    "- A **function** is a reusable block of code that performs a specific task.\n",
    "- Functions allow you to:\n",
    "  - **Encapsulate logic**: Organize your code into manageable parts.\n",
    "  - **Avoid repetition**: Use the same code multiple times.\n",
    "  - **Parameterize**: Pass data into the function for different use cases.\n",
    "\n",
    "Example :\n",
    "```python\n",
    "def greet(name):\n",
    "    return f\"Hello, {name}\"\n",
    "```\n",
    "\n",
    "**Calling of function**\n",
    "\n",
    "```python\n",
    "message = greet(\"Alice\")\n",
    "print(message)  # Outputs: Hello, Alice\n",
    "```"
   ]
  },
  {
   "cell_type": "markdown",
   "id": "103039bd-3484-4341-87c9-82976d86b241",
   "metadata": {
    "editable": true,
    "slideshow": {
     "slide_type": "subslide"
    },
    "tags": []
   },
   "source": [
    "### Parameters and Arguments\n",
    "\n",
    "**Parameters**:\n",
    "- Variables that are specified in the function definition.\n",
    "- These allow functions to accept input data.\n",
    "\n",
    "**Arguments**:\n",
    "- The actual values you pass to the function when calling it.\n",
    "\n",
    "Example:\n",
    "```python\n",
    "def add_numbers(a, b):\n",
    "    return a + b\n",
    "\n",
    "result = add_numbers(5, 3)\n",
    "print(result)  # Outputs: 8\n",
    "```\n",
    "a and b are **parameters**, and 5 and 3 are **arguments**."
   ]
  },
  {
   "cell_type": "markdown",
   "id": "7eada20f-0a8d-41dc-8e4b-f424cd744713",
   "metadata": {
    "editable": true,
    "slideshow": {
     "slide_type": "subslide"
    },
    "tags": []
   },
   "source": [
    "### Default arguments and keyword arguments\n",
    "**Default Arguments**\n",
    "\n",
    "You can assign a **default value** to a parameter, so it’s optional when calling the function.\n",
    "\n",
    "```python\n",
    "def greet(name, greeting=\"Hello\"):\n",
    "    return f\"{greeting}, {name}\"\n",
    "\n",
    "print(greet(\"Alice\"))         # Outputs: Hello, Alice\n",
    "print(greet(\"Alice\", \"Hi\"))   # Outputs: Hi, Alice\n",
    "```\n",
    "\n",
    "**Keyword Arguments**\n",
    "\n",
    "You can pass arguments by specifying the parameter name (makes the code more readable).\n",
    "\n",
    "```python\n",
    "def greet(name, greeting=\"Hello\"):\n",
    "    return f\"{greeting}, {name}\"\n",
    "\n",
    "print(greet(name=\"Alice\", greeting=\"Good Morning\"))\n",
    "```"
   ]
  },
  {
   "cell_type": "markdown",
   "id": "07b30ba2-4ad5-4cb7-af08-813332d636b3",
   "metadata": {
    "editable": true,
    "slideshow": {
     "slide_type": "subslide"
    },
    "tags": []
   },
   "source": [
    "### Variable Number of Arguments\n",
    "\n",
    "Python allows to define functions that accept a **variable number of arguments** using `*args` and `**kwargs`.\n",
    "\n",
    "**Using `*args` (non-keyword arguments):**\n",
    "```python\n",
    "def multiply(*numbers):\n",
    "    result = 1\n",
    "    for num in numbers:\n",
    "        result *= num\n",
    "    return result\n",
    "\n",
    "print(multiply(2, 3, 4))  # Outputs: 24\n",
    "```\n",
    "\n",
    "**Using `**kwargs` (keyword arguments):**\n",
    "```python\n",
    "def print_info(**kwargs):\n",
    "    for key, value in kwargs.items():\n",
    "        print(f\"{key}: {value}\")\n",
    "\n",
    "print_info(name=\"Alice\", age=30)\n",
    "```"
   ]
  },
  {
   "cell_type": "markdown",
   "id": "5304d7cc-6001-4984-aada-65c6cfbd8dc4",
   "metadata": {
    "editable": true,
    "slideshow": {
     "slide_type": "subslide"
    },
    "tags": []
   },
   "source": [
    "### `lambda` function\n",
    "\n",
    "- A **lambda function** is a small anonymous function that can have any number of arguments but only one expression.\n",
    "- It is useful for short, simple operations.\n",
    "\n",
    "Syntax:\n",
    "```python\n",
    "lambda arguments: expression\n",
    "```\n",
    "\n",
    "Example:\n",
    "```python\n",
    "add = lambda x, y: x + y\n",
    "print(add(3, 5))  # Outputs: 8\n",
    "```\n",
    "Often used in functions like map(), filter(), or sorting lists by custom criteria."
   ]
  },
  {
   "cell_type": "markdown",
   "id": "ca250533-4921-48e0-96c7-3c7f3148cc0d",
   "metadata": {
    "editable": true,
    "slideshow": {
     "slide_type": "subslide"
    },
    "tags": []
   },
   "source": [
    "## Classes and Objects\n",
    "\n",
    "- Python is an **object-oriented** programming language.\n",
    "- **Classes** are blueprints for creating objects (a way to bundle data and functionality together).\n",
    "- **Objects** are instances of classes.\n",
    "\n",
    "**Defining a Class:**\n",
    "```python\n",
    "class Player:\n",
    "    def __init__(self, name, score=0):\n",
    "        self.name = name\n",
    "        self.score = score\n",
    "```\n",
    "\n",
    "**Creating an Object:**  \n",
    "```python\n",
    "p1 = Player(\"Alice\")\n",
    "print(p1.name, p1.score)  # Outputs: Alice 0\n",
    "```"
   ]
  },
  {
   "cell_type": "markdown",
   "id": "90b6a83e-44c1-401a-b1c9-9daff80d51b6",
   "metadata": {
    "editable": true,
    "slideshow": {
     "slide_type": "subslide"
    },
    "tags": []
   },
   "source": [
    "### Methods and Attributes\n",
    "\n",
    "- **Attributes**: Variables that belong to an object (e.g., `self.name`, `self.score`).\n",
    "- **Methods**: Functions that belong to an object (defined inside a class).\n",
    "\n",
    "Example:\n",
    "```python\n",
    "class Player:\n",
    "    def __init__(self, name, score=0):\n",
    "        self.name = name\n",
    "        self.score = score\n",
    "\n",
    "    def increase_score(self, points):\n",
    "        self.score += points\n",
    "\n",
    "p1 = Player(\"Alice\")\n",
    "p1.increase_score(10)\n",
    "print(p1.score)  # Outputs: 10\n",
    "```"
   ]
  },
  {
   "cell_type": "markdown",
   "id": "29ba1502-8fe6-41fd-a912-90100fc8ab9f",
   "metadata": {
    "editable": true,
    "slideshow": {
     "slide_type": "subslide"
    },
    "tags": []
   },
   "source": [
    "### Inheritance\n",
    "\n",
    "- allows one class to inherit attributes and methods from another class.\n",
    "- This helps reuse code and extend functionality.\n",
    "\n",
    "Example:\n",
    "```python\n",
    "class Person:\n",
    "    def __init__(self, name):\n",
    "        self.name = name\n",
    "\n",
    "class Player(Person):\n",
    "    def __init__(self, name, score=0):\n",
    "        super().__init__(name)\n",
    "        self.score = score\n",
    "\n",
    "p1 = Player(\"Alice\")\n",
    "print(p1.name, p1.score)  # Outputs: Alice 0\n",
    "```"
   ]
  },
  {
   "cell_type": "markdown",
   "id": "0ff9e1e2-860d-40b4-8e2f-79e56840995a",
   "metadata": {
    "editable": true,
    "slideshow": {
     "slide_type": "subslide"
    },
    "tags": []
   },
   "source": [
    "### Encapsulation and Polymorphism\n",
    "\n",
    "**Encapsulation** : restricting direct access to some of an object's components.\n",
    "\n",
    "**Polymorphism** : allows different classes to be treated as instances of the same class through inheritance.\n",
    "\n",
    "Example of Encapsulation:\n",
    "```python\n",
    "class Player:\n",
    "    def __init__(self, name, score=0):\n",
    "        self.__score = score  # Private variable\n",
    "\n",
    "    def get_score(self):\n",
    "        return self.__score\n",
    "```"
   ]
  },
  {
   "cell_type": "markdown",
   "id": "1149dbc7-e319-4504-8abb-5f14de39ef10",
   "metadata": {
    "editable": true,
    "slideshow": {
     "slide_type": "subslide"
    },
    "tags": []
   },
   "source": [
    "## Exercices\n",
    "\n",
    "Create an new Notebook in Jupyterlab, and for each exercice copy and paste the instructions, and write your code in the cell below."
   ]
  },
  {
   "cell_type": "markdown",
   "id": "fe600158-8db2-4746-b7a7-795875cd4761",
   "metadata": {
    "editable": true,
    "slideshow": {
     "slide_type": "subslide"
    },
    "tags": []
   },
   "source": [
    "### Exercice 1 : Basic Variables and Data Types\n",
    "\n",
    "1. Create a variable `age` and assign it the value of your age.\n",
    "2. Create a variable `name` and assign it your name.\n",
    "3. Create a variable `height` that stores your height in meters (as a float).\n",
    "4. Print a sentence that uses all three variables in a formatted string. Example: \"My name is Alice, I'm 30 years old and 1.75 meters tall.\"\n"
   ]
  },
  {
   "cell_type": "markdown",
   "id": "7db462ff-0696-446d-9ce5-88fe01e57d9c",
   "metadata": {
    "editable": true,
    "slideshow": {
     "slide_type": "subslide"
    },
    "tags": []
   },
   "source": [
    "### Exercice 2 : Working with Lists\n",
    "\n",
    "1. Create a list `fruits` that contains the following elements: \"apple\", \"banana\", \"cherry\", \"date\".\n",
    "2. Add a new fruit to the list: \"orange\".\n",
    "3. Remove \"banana\" from the list.\n",
    "4. Print the number of fruits in the list.\n",
    "5. Print the third fruit in the list (remember that lists are zero-indexed)."
   ]
  },
  {
   "cell_type": "markdown",
   "id": "ccab387d-54fa-49c1-9360-df3b697ffbd4",
   "metadata": {
    "editable": true,
    "slideshow": {
     "slide_type": "subslide"
    },
    "tags": []
   },
   "source": [
    "### Exercise 3: Control Flow (Conditionals)\n",
    "\n",
    "1. Create a variable `score` and assign it a value between 0 and 100.\n",
    "2. Write an if-else statement to print:\n",
    "   - \"Grade A\" if the score is 90 or above,\n",
    "   - \"Grade B\" if the score is between 80 and 89,\n",
    "   - \"Grade C\" if the score is between 70 and 79,\n",
    "   - \"Grade D\" if the score is below 70."
   ]
  },
  {
   "cell_type": "markdown",
   "id": "0d636907-b7a7-4e10-a12c-ba69121a5c1d",
   "metadata": {
    "editable": true,
    "slideshow": {
     "slide_type": "subslide"
    },
    "tags": []
   },
   "source": [
    "### Exercise 4: Loops\n",
    "\n",
    "1. Write a for loop that prints all even numbers between 1 and 20.\n",
    "2. Write a while loop that starts with `n = 10` and decreases `n` by 1 in each iteration until `n` equals 0. Print the value of `n` in each iteration."
   ]
  },
  {
   "cell_type": "markdown",
   "id": "d00fd56b-b353-43ac-851f-00422ef60511",
   "metadata": {
    "editable": true,
    "slideshow": {
     "slide_type": "subslide"
    },
    "tags": []
   },
   "source": [
    "### Exercise 5: Functions\n",
    "\n",
    "1. Write a function `multiply(a, b)` that returns the product of two numbers `a` and `b`.\n",
    "2. Write a function `is_even(n)` that returns `True` if the number `n` is even, and `False` otherwise.\n",
    "3. Write a function `count_vowels(s)` that takes a string `s` and returns the number of vowels (a, e, i, o, u) in the string."
   ]
  },
  {
   "cell_type": "markdown",
   "id": "2b758f63-b617-4728-8cce-fcc4df56796e",
   "metadata": {
    "editable": true,
    "slideshow": {
     "slide_type": "subslide"
    },
    "tags": []
   },
   "source": [
    "### Exercise 6: Working with Dictionaries\n",
    "\n",
    "1. Create a dictionary `student` with the following keys: \"name\", \"age\", \"grade\".\n",
    "2. Assign \"Alice\" to name, 20 to age, and \"A\" to grade.\n",
    "3. Add a new key \"ID\" with a value of 12345.\n",
    "4. Update the student's grade to \"B\".\n",
    "5. Print the dictionary."
   ]
  },
  {
   "cell_type": "markdown",
   "id": "8fcfc1cb-b9f3-4232-ae92-a4f076ef864b",
   "metadata": {
    "editable": true,
    "slideshow": {
     "slide_type": "subslide"
    },
    "tags": []
   },
   "source": [
    "### Exercise 7: List Comprehensions\n",
    "\n",
    "1. Create a list `numbers` that contains the numbers from 1 to 10.\n",
    "2. Use a **list comprehension** to create a new list `squares` that contains the square of each number in `numbers`.\n",
    "3. Use another list comprehension to create a list `evens` that contains only the even numbers from `numbers`."
   ]
  },
  {
   "cell_type": "markdown",
   "id": "a92659e9-d5da-41a1-9f39-a8cf7074734b",
   "metadata": {
    "editable": true,
    "slideshow": {
     "slide_type": "subslide"
    },
    "tags": []
   },
   "source": [
    "## Solutions\n",
    "\n",
    "### Exercice 1: Basic variables and Data Types\n",
    "```python\n",
    "age = 25  # Replace with your age  \n",
    "name = \"Alice\"  # Replace with your name  \n",
    "height = 1.75  # Replace with your height  \n",
    "\n",
    "print(f\"My name is {name}, I'm {age} years old and {height} meters tall.\")\n"
   ]
  },
  {
   "cell_type": "markdown",
   "id": "34faa8b2-c3b7-4b54-8ee7-6fee83ec594e",
   "metadata": {
    "editable": true,
    "slideshow": {
     "slide_type": "subslide"
    },
    "tags": []
   },
   "source": [
    "### Exercice 2: Working with Lists\n",
    "\n",
    "```python\n",
    "fruits = [\"apple\", \"banana\", \"cherry\", \"date\"]\n",
    "fruits.append(\"orange\")\n",
    "fruits.remove(\"banana\")\n",
    "\n",
    "print(f\"Number of fruits: {len(fruits)}\")\n",
    "print(f\"The third fruit in the list is: {fruits[2]}\")\n",
    "```"
   ]
  },
  {
   "cell_type": "markdown",
   "id": "83f4e70e-3ac8-466c-b88d-a3efd88af7f0",
   "metadata": {
    "editable": true,
    "slideshow": {
     "slide_type": "subslide"
    },
    "tags": []
   },
   "source": [
    "### Exercice 3: Control flow (conditionals)\n",
    "\n",
    "```python\n",
    "score = 85  # Replace with any value between 0 and 100\n",
    "\n",
    "if score >= 90:\n",
    "    print(\"Grade A\")\n",
    "elif score >= 80:\n",
    "    print(\"Grade B\")\n",
    "elif score >= 70:\n",
    "    print(\"Grade C\")\n",
    "else:\n",
    "    print(\"Grade D\")\n",
    "```"
   ]
  },
  {
   "cell_type": "markdown",
   "id": "494e55d7-4645-418b-a54e-f70e81632752",
   "metadata": {
    "editable": true,
    "slideshow": {
     "slide_type": "subslide"
    },
    "tags": []
   },
   "source": [
    "### Exercice 4: Loops\n",
    "\n",
    "For loop for even numbers\n",
    "```python\n",
    "for i in range(2, 21, 2):\n",
    "    print(i)\n",
    "```\n",
    "\n",
    "While loop\n",
    "```python\n",
    "n = 10\n",
    "while n > 0:\n",
    "    print(n)\n",
    "    n -= 1\n",
    "```"
   ]
  },
  {
   "cell_type": "markdown",
   "id": "53f35a66-f2c1-49d4-b7fe-a97b9131e859",
   "metadata": {
    "editable": true,
    "slideshow": {
     "slide_type": "subslide"
    },
    "tags": []
   },
   "source": [
    "### Exercice 5: Functions\n",
    "\n",
    "Function to multiply two numbers\n",
    "```python\n",
    "def multiply(a, b):\n",
    "    return a * b\n",
    "\n",
    "print(multiply(3, 4))  # Output: 12\n",
    "```\n",
    "\n",
    "Function to check if a number is even\n",
    "```python\n",
    "def is_even(n):\n",
    "    return n % 2 == 0\n",
    "\n",
    "print(is_even(5))  # Output: False\n",
    "print(is_even(6))  # Output: True\n",
    "```"
   ]
  },
  {
   "cell_type": "markdown",
   "id": "4b043617-c11b-4182-bd8b-87702283e8f8",
   "metadata": {
    "editable": true,
    "slideshow": {
     "slide_type": "subslide"
    },
    "tags": []
   },
   "source": [
    "Function to count vowels in a string\n",
    "```python\n",
    "def count_vowels(s):\n",
    "    vowels = \"aeiouAEIOU\"\n",
    "    count = 0\n",
    "    for char in s:\n",
    "        if char in vowels:\n",
    "            count += 1\n",
    "    return count\n",
    "\n",
    "print(count_vowels(\"hello\"))  # Output: 2\n",
    "print(count_vowels(\"Python Programming\"))  # Output: 4\n",
    "```"
   ]
  },
  {
   "cell_type": "markdown",
   "id": "cd00f80a-e4a4-4765-b773-6147cd7bc8e1",
   "metadata": {
    "editable": true,
    "slideshow": {
     "slide_type": "subslide"
    },
    "tags": []
   },
   "source": [
    "### Exercice 6: Dictionaries\n",
    "```python\n",
    "student = {\n",
    "    \"name\": \"Alice\",\n",
    "    \"age\": 20,\n",
    "    \"grade\": \"A\"\n",
    "}\n",
    "\n",
    "# Add a new key\n",
    "student[\"ID\"] = 12345\n",
    "\n",
    "# Update the grade\n",
    "student[\"grade\"] = \"B\"\n",
    "\n",
    "# Print the dictionary\n",
    "print(student)\n",
    "```"
   ]
  },
  {
   "cell_type": "markdown",
   "id": "61b50fed-5f6a-46cd-9f44-443932fba2de",
   "metadata": {
    "editable": true,
    "slideshow": {
     "slide_type": "subslide"
    },
    "tags": []
   },
   "source": [
    "### Exercice 7: List-Comprehension\n",
    "```python\n",
    "numbers = list(range(1, 11))\n",
    "\n",
    "# List comprehension for squares\n",
    "squares = [n**2 for n in numbers]\n",
    "print(squares)\n",
    "\n",
    "# List comprehension for even numbers\n",
    "evens = [n for n in numbers if n % 2 == 0]\n",
    "print(evens)\n",
    "```"
   ]
  },
  {
   "cell_type": "markdown",
   "id": "1cdbb6b9-5c83-4a01-838d-dd8879fae5ed",
   "metadata": {
    "editable": true,
    "jp-MarkdownHeadingCollapsed": true,
    "slideshow": {
     "slide_type": "slide"
    },
    "tags": []
   },
   "source": [
    "# HTML, CSS and JavaScript"
   ]
  },
  {
   "cell_type": "markdown",
   "id": "0bb9cdcd-d62f-4b4c-a9b8-824f239fdca5",
   "metadata": {
    "editable": true,
    "jp-MarkdownHeadingCollapsed": true,
    "slideshow": {
     "slide_type": "subslide"
    },
    "tags": []
   },
   "source": [
    "## HTML \n",
    "- **HTML** stands for **HyperText Markup Language**.\n",
    "- It is the **standard markup language** used to create web pages.\n",
    "- HTML structures content on the web using **elements** and **tags**.\n",
    "\n",
    "**Basic HTML Structure:**\n",
    "```html\n",
    "<!DOCTYPE html>\n",
    "<html>\n",
    "<head>\n",
    "  <title>Page Title</title>\n",
    "</head>\n",
    "<body>\n",
    "  <h1>This is a Heading</h1>\n",
    "  <p>This is a paragraph.</p>\n",
    "</body>\n",
    "</html>\n",
    "```\n",
    "HTML elements are represented by tags enclosed in < >."
   ]
  },
  {
   "cell_type": "markdown",
   "id": "211a5aa2-c26b-4235-b34f-70f3b6b69192",
   "metadata": {
    "editable": true,
    "slideshow": {
     "slide_type": "subslide"
    },
    "tags": []
   },
   "source": [
    "### Common HTML Elements\n",
    "\n",
    "- **Headings**: Used to define titles and subtitles on a page.\n",
    "```html\n",
    "  <h1>Heading 1</h1>\n",
    "  <h2>Heading 2</h2>\n",
    "```\n",
    "- **Paragraphs**: Used to define blocks of text.\n",
    "```html\n",
    "<p>This is a paragraph.</p>\n",
    "```\n",
    "- **Links**: Used to create hyperlinks.\n",
    "```html\n",
    "<a href=\"https://www.example.com\">Visit Example</a>\n",
    "```\n",
    "- **Images**: Used to embed images.\n",
    "```html\n",
    "<img src=\"image.jpg\" alt=\"A description of the image\">\n",
    "```"
   ]
  },
  {
   "cell_type": "markdown",
   "id": "2cc04b8e-2745-4e15-8061-68be78c4c22e",
   "metadata": {
    "editable": true,
    "slideshow": {
     "slide_type": "subslide"
    },
    "tags": []
   },
   "source": [
    "- **Lists**: Used to create ordered or unordered lists.\n",
    "```html\n",
    "<ul>\n",
    "  <li>First item</li>\n",
    "  <li>Second item</li>\n",
    "</ul>\n",
    "```\n",
    "\n",
    "- **Forms**: Used to collect user input.\n",
    "```html\n",
    "<form>\n",
    "  <input type=\"text\" name=\"name\">\n",
    "  <button type=\"submit\">Submit</button>\n",
    "</form>\n",
    "```"
   ]
  },
  {
   "cell_type": "markdown",
   "id": "fc9a698f-03a7-4308-969a-9f9c9b60b862",
   "metadata": {
    "editable": true,
    "slideshow": {
     "slide_type": "subslide"
    },
    "tags": []
   },
   "source": [
    "### HTML Document Structure\n",
    "\n",
    "- Every HTML page has the following basic structure:\n",
    "  - `<!DOCTYPE html>`: Defines the document type (HTML5).\n",
    "  - `<html>`: Root element, contains the entire HTML document.\n",
    "  - `<head>`: Metadata, such as the title and links to external resources (CSS, scripts).\n",
    "  - `<body>`: The main content of the page, including text, images, links, etc.\n",
    "\n",
    "Example:\n",
    "```html\n",
    "<!DOCTYPE html>\n",
    "<html>\n",
    "<head>\n",
    "  <title>My First HTML Page</title>\n",
    "</head>\n",
    "<body>\n",
    "  <h1>Welcome to my page!</h1>\n",
    "  <p>This is a simple HTML example.</p>\n",
    "</body>\n",
    "</html>\n",
    "```"
   ]
  },
  {
   "cell_type": "markdown",
   "id": "6267b416-a307-4402-986c-8863c3e8d476",
   "metadata": {
    "editable": true,
    "slideshow": {
     "slide_type": "subslide"
    },
    "tags": []
   },
   "source": [
    "## CSS\n",
    "\n",
    "- **CSS** stands for **Cascading Style Sheets**.\n",
    "- CSS is used to control the **style** and **layout** of a web page.\n",
    "- You can use CSS to change colors, fonts, sizes, spacing, and positioning of elements.\n",
    "\n",
    "Example:\n",
    "```css\n",
    "body {\n",
    "  background-color: lightblue;\n",
    "}\n",
    "h1 {\n",
    "  color: navy;\n",
    "  text-align: center;\n",
    "}\n",
    "```\n",
    "CSS is usually written in a separate file (style.css) or within a `<style>` block in the HTML `<head>`."
   ]
  },
  {
   "cell_type": "markdown",
   "id": "381a34c0-c0c0-4994-a537-af352a2da256",
   "metadata": {
    "editable": true,
    "slideshow": {
     "slide_type": "subslide"
    },
    "tags": []
   },
   "source": [
    "### Syntax and Selectors\n",
    "\n",
    "**Syntax:**  \n",
    "A CSS rule consists of a **selector** and a **declaration block**.\n",
    "  ```css\n",
    "  selector {\n",
    "    property: value;\n",
    "  }\n",
    "```\n",
    "\n",
    "**CSS Selectors:**  \n",
    "Element Selector: Targets HTML elements.\n",
    "```css\n",
    "p {\n",
    "  color: red;\n",
    "}\n",
    "```\n",
    "Class Selector: Targets elements with a specific class (uses `.`).\n",
    "```css\n",
    ".my-class {\n",
    "  font-size: 18px;\n",
    "}\n",
    "```"
   ]
  },
  {
   "cell_type": "markdown",
   "id": "233053ee-6224-4e19-94d7-04a03d060fc2",
   "metadata": {
    "editable": true,
    "slideshow": {
     "slide_type": "subslide"
    },
    "tags": []
   },
   "source": [
    "ID Selector: Targets a single element with a specific ID (uses `#`).\n",
    "```css\n",
    "#my-id {\n",
    "  background-color: yellow;\n",
    "}\n",
    "```\n",
    "Grouping Selectors: Apply the same style to multiple elements.\n",
    "```css\n",
    "h1, p {\n",
    "  margin: 20px;\n",
    "}\n",
    "```"
   ]
  },
  {
   "cell_type": "markdown",
   "id": "5ab07189-0a1c-44fe-b769-ca2215229847",
   "metadata": {
    "editable": true,
    "slideshow": {
     "slide_type": "subslide"
    },
    "tags": []
   },
   "source": [
    "### Inline, Internal, and External CSS\n",
    "\n",
    "1. **Inline CSS**: Defined directly within an HTML element (not recommended for large projects).\n",
    "  ```html\n",
    "  <p style=\"color: red;\">This is red text</p>\n",
    "  ```\n",
    "2. **Internal CSS**: Written inside a `<style>` tag in the `<head>` of the HTML document.\n",
    "```html\n",
    "<head>\n",
    "  <style>\n",
    "    p { color: red; }\n",
    "  </style>\n",
    "</head>\n",
    "```\n",
    "3. **External CSS**: Linked from a separate CSS file.\n",
    "```html\n",
    "<head>\n",
    "  <link rel=\"stylesheet\" href=\"styles.css\">\n",
    "</head>\n",
    "```\n",
    "External CSS is the most common and scalable way to style web pages."
   ]
  },
  {
   "cell_type": "markdown",
   "id": "9b79b739-0c79-4a19-918d-05325aba3ec1",
   "metadata": {
    "editable": true,
    "slideshow": {
     "slide_type": "subslide"
    },
    "tags": []
   },
   "source": [
    "### Box Model\n",
    "\n",
    "- The **box model** is a fundamental concept in CSS.\n",
    "- Every HTML element is treated as a box, consisting of the following layers:\n",
    "  - **Content**: The actual content (text, images, etc.).\n",
    "  - **Padding**: Space between the content and the border.\n",
    "  - **Border**: Surrounds the padding.\n",
    "  - **Margin**: Space outside the border.\n",
    "\n",
    "Example:\n",
    "```css\n",
    "div {\n",
    "  width: 300px;\n",
    "  padding: 20px;\n",
    "  border: 5px solid black;\n",
    "  margin: 10px;\n",
    "}\n",
    "```\n",
    "Understanding the box model helps you design layouts and control spacing."
   ]
  },
  {
   "cell_type": "markdown",
   "id": "f538512d-cdd0-4014-ad54-657bc7cddbdb",
   "metadata": {
    "editable": true,
    "slideshow": {
     "slide_type": "subslide"
    },
    "tags": []
   },
   "source": [
    "## JavaScript\n",
    "\n",
    "- **JavaScript (JS)** is a programming language used to add **interactivity** to web pages.\n",
    "- It can be used for:\n",
    "  - **Manipulating HTML elements** (e.g., showing/hiding content, updating text).\n",
    "  - **Handling user events** (e.g., clicks, form submissions).\n",
    "  - **Performing calculations** and **dynamic updates** without refreshing the page.\n",
    "- JavaScript runs directly in the browser, making it the foundation of modern web apps."
   ]
  },
  {
   "cell_type": "markdown",
   "id": "5972cd55-ea07-4254-8f43-29782ef2331c",
   "metadata": {
    "editable": true,
    "slideshow": {
     "slide_type": "subslide"
    },
    "tags": []
   },
   "source": [
    "### Syntax\n",
    "\n",
    "- JavaScript code is usually placed inside a `<script>` tag or in an external file (`script.js`).\n",
    "- Variables are declared using `let` or `const`.\n",
    "\n",
    "Example:\n",
    "```javascript\n",
    "let message = \"Hello, World!\";\n",
    "console.log(message);  // Outputs: Hello, World!\n",
    "```"
   ]
  },
  {
   "cell_type": "markdown",
   "id": "816fdc1b-9d57-4dcc-83a2-51538f838934",
   "metadata": {
    "editable": true,
    "slideshow": {
     "slide_type": "subslide"
    },
    "tags": []
   },
   "source": [
    "### Basic JS Concepts\n",
    "\n",
    "- Variables: Store values.\n",
    "- Functions: Reusable blocks of code.\n",
    "- Events: Actions like clicks, form submissions, or keypresses."
   ]
  },
  {
   "cell_type": "markdown",
   "id": "3e357935-65c3-4cce-a0d2-7e0376dc4bde",
   "metadata": {
    "editable": true,
    "slideshow": {
     "slide_type": "subslide"
    },
    "tags": []
   },
   "source": [
    "### DOM Manipulation with JavaScript\n",
    "\n",
    "- **DOM (Document Object Model)** is a representation of the HTML page as objects.\n",
    "- JavaScript can **manipulate** these objects to change the structure, content, and style of the page.\n",
    "\n",
    "Example:\n",
    "```html\n",
    "<button onclick=\"changeText()\">Click Me!</button>\n",
    "<p id=\"demo\">This is a paragraph.</p>\n",
    "\n",
    "<script>\n",
    "  function changeText() {\n",
    "    document.querySelector(\"#demo\").innerHTML = \"Text has been changed!\";\n",
    "  }\n",
    "</script>\n",
    "```\n",
    "When the button is clicked, JavaScript changes the content of the `<p>` element."
   ]
  },
  {
   "cell_type": "markdown",
   "id": "75681bd3-37a4-447b-9891-75e6e81db9f7",
   "metadata": {
    "editable": true,
    "slideshow": {
     "slide_type": "subslide"
    },
    "tags": []
   },
   "source": [
    "### JavaScript Events\n",
    "\n",
    "- **Events** allow JavaScript to respond to user interactions.\n",
    "- Common events include:\n",
    "  - `onclick`: Triggered when an element is clicked.\n",
    "  - `onmouseover`: Triggered when the mouse is over an element.\n",
    "  - `onchange`: Triggered when an input field's value changes.\n",
    "\n",
    "Example:\n",
    "```html\n",
    "<input type=\"text\" onchange=\"alert('You changed the input!')\">\n",
    "<button onclick=\"alert('Button clicked!')\">Click Me!</button>\n",
    "```\n",
    "JavaScript makes web pages interactive by responding to these events."
   ]
  },
  {
   "cell_type": "markdown",
   "id": "bb52684d-59d0-47e9-8b01-e3d7fe15565e",
   "metadata": {
    "editable": true,
    "slideshow": {
     "slide_type": "subslide"
    },
    "tags": []
   },
   "source": [
    "## Summary\n",
    "\n",
    "- **HTML**: Provides the structure of a web page using elements like headings, paragraphs, links, and lists.\n",
    "- **CSS**: Controls the appearance and layout of the page through styles like colors, fonts, margins, and borders.\n",
    "- **JavaScript**: Adds interactivity, making web pages dynamic and responsive to user actions."
   ]
  },
  {
   "cell_type": "markdown",
   "id": "ef57a848-f8c2-47d2-8f1c-6b3c49a696b1",
   "metadata": {
    "editable": true,
    "slideshow": {
     "slide_type": "subslide"
    },
    "tags": []
   },
   "source": [
    "## Exercices\n",
    "\n",
    "### Exercice 1: A Simple HTML Page\n",
    "\n",
    "1. Create a simple HTML page with the following structure:\n",
    "   - A title (`<h1>`) that says \"My Webpage\".\n",
    "   - A paragraph (`<p>`) introducing yourself.\n",
    "   - An unordered list (`<ul>`) of your 3 favorite hobbies.\n",
    "   - A link (`<a>`) to a website you visit often (e.g., a news site, social media, etc.).\n",
    "\n",
    "2. Add an image (`<img>`) to the page. You can use any image URL from the web."
   ]
  },
  {
   "cell_type": "markdown",
   "id": "cbcec2ff-1d1d-46a0-a968-0d3217dc2add",
   "metadata": {
    "editable": true,
    "slideshow": {
     "slide_type": "subslide"
    },
    "tags": []
   },
   "source": [
    "### Exercise 2: Styling with CSS\n",
    "\n",
    "1. Add some **CSS styles** to the HTML page from Exercise 1.\n",
    "   - Change the background color of the page to light gray.\n",
    "   - Center the text inside the `<h1>` element.\n",
    "   - Set the font color of the paragraph text to dark blue.\n",
    "   - Add padding and a border to the image.\n",
    "\n",
    "2. Write the CSS in a `<style>` block inside the `<head>` of your HTML document."
   ]
  },
  {
   "cell_type": "markdown",
   "id": "1b44325e-7e6e-4a39-b7c6-677d6b70d6d4",
   "metadata": {
    "editable": true,
    "slideshow": {
     "slide_type": "subslide"
    },
    "tags": []
   },
   "source": [
    "### Exercise 3: Add JavaScript Interactivity\n",
    "\n",
    "1. Add a button below the list of hobbies that says \"Click Me!\".\n",
    "2. When the button is clicked, a **JavaScript alert** should display the message \"Hello from JavaScript!\".\n",
    "3. Change the text of the paragraph (`<p>`) to \"You clicked the button!\" after the button is clicked.\n",
    "4. Write the JavaScript inside a `<script>` tag at the bottom of your HTML document."
   ]
  },
  {
   "cell_type": "markdown",
   "id": "74bb3800-ed6d-4e96-b4d5-1d86ec836174",
   "metadata": {
    "editable": true,
    "slideshow": {
     "slide_type": "subslide"
    },
    "tags": []
   },
   "source": [
    "## Solutions\n",
    "\n",
    "### Exercice 1: A simple HTML page\n",
    "```html\n",
    "<!DOCTYPE html>\n",
    "<html lang=\"en\">\n",
    "<head>\n",
    "  <meta charset=\"UTF-8\">\n",
    "  <title>My Webpage</title>\n",
    "</head>\n",
    "<body>\n",
    "  <h1>My Webpage</h1>\n",
    "  <p>Hi, I'm a student learning web development!</p>\n",
    "  \n",
    "  <h2>My Hobbies</h2>\n",
    "  <ul>\n",
    "    <li>Reading</li>\n",
    "    <li>Traveling</li>\n",
    "    <li>Cooking</li>\n",
    "  </ul>\n",
    "  \n",
    "  <p>Visit my favorite website: <a href=\"https://www.example.com\">Example Website</a></p>\n",
    "  \n",
    "  <img src=\"https://via.placeholder.com/150\" alt=\"Placeholder Image\">\n",
    "</body>\n",
    "</html>\n",
    "```"
   ]
  },
  {
   "cell_type": "markdown",
   "id": "f87818e4-021c-4ca8-ad34-a837ecbb6db4",
   "metadata": {
    "editable": true,
    "slideshow": {
     "slide_type": "subslide"
    },
    "tags": []
   },
   "source": [
    "### Exercice 2: Styling with CSS\n",
    "\n",
    "```html\n",
    "<style>\n",
    "    body {\n",
    "      background-color: lightgray;\n",
    "    }\n",
    "    h1 {\n",
    "      text-align: center;\n",
    "    }\n",
    "    p {\n",
    "      color: darkblue;\n",
    "    }\n",
    "    img {\n",
    "      padding: 10px;\n",
    "      border: 2px solid black;\n",
    "    }\n",
    "  </style>\n",
    "  ```"
   ]
  },
  {
   "cell_type": "markdown",
   "id": "a1c49814-55ae-49c9-ae7b-dc572091e21c",
   "metadata": {
    "editable": true,
    "slideshow": {
     "slide_type": "subslide"
    },
    "tags": []
   },
   "source": [
    "### Exercise 3: Add JavaScript Interactivity\n",
    "\n",
    "The button\n",
    "```html\n",
    "<button onclick=\"sayHello()\">Click Me!</button>\n",
    "```\n",
    "\n",
    "The JavaScript\n",
    "```html\n",
    "<script>\n",
    "    function sayHello() {\n",
    "      alert(\"Hello from JavaScript!\");\n",
    "      document.querySelector(\"p\").innerHTML = \"You clicked the button!\";\n",
    "    }\n",
    "  </script>\n",
    "```"
   ]
  },
  {
   "cell_type": "markdown",
   "id": "atomic-criterion",
   "metadata": {
    "editable": true,
    "slideshow": {
     "slide_type": "slide"
    },
    "tags": [],
    "toc-hr-collapsed": true
   },
   "source": [
    "# Getting Started with oTree"
   ]
  },
  {
   "cell_type": "markdown",
   "id": "9c8aec56-1e03-49e3-a3fe-e99afe0b6def",
   "metadata": {
    "editable": true,
    "slideshow": {
     "slide_type": "subslide"
    },
    "tags": []
   },
   "source": [
    "## Dedicated environment in Anaconda\n",
    "\n",
    "**_With Anaconda Navigator_** \n",
    "- click on *Environments* \n",
    "- click on *Create*\n",
    "- enter a name, *otree_env* for example and click on *Python*  and choose Python 3.11\n",
    "\n",
    "**_Without Anaconda Navigator_**  \n",
    "\n",
    "Open the Anaconda Prompt (or terminal)\n",
    "- On Windows: Search for \"Anaconda Prompt\".\n",
    "- On macOS/Linux: Use the terminal.\n",
    "- Run the following command in the Anaconda Prompt or terminal:\n",
    "```bash\n",
    "  conda create --name otree_env python=3.11\n",
    "```"
   ]
  },
  {
   "cell_type": "markdown",
   "id": "b57917a4-0b70-47d8-b9e1-cc0baff2b99b",
   "metadata": {
    "editable": true,
    "slideshow": {
     "slide_type": "subslide"
    },
    "tags": []
   },
   "source": [
    "## Installation of otree\n",
    "\n",
    "In the Anaconda Prompt, activate the `otree_env` environment\n",
    "```bash\n",
    "conda activate otree_env\n",
    "```\n",
    "\n",
    "Install oTree with:\n",
    "```bash\n",
    "pip install otree\n",
    "```\n",
    "\n",
    "To check if oTree was installed correctly: \n",
    "```bash\n",
    "otree --version\n",
    "```\n",
    "This should display the installed version of oTree."
   ]
  },
  {
   "cell_type": "markdown",
   "id": "e5424079-d5e2-41ac-adf8-1436f2d762a0",
   "metadata": {
    "background": "ligthgray",
    "editable": true,
    "slideshow": {
     "slide_type": "subslide"
    },
    "tags": []
   },
   "source": [
    "ℹ️ **`pip`** stands for **P**ython **I**nstaller **P**rogram, and it’s the standard tool for installing Python packages.  \n",
    "\n",
    "With `pip`, you can download and install libraries and dependencies directly from the Python Package Index (PyPI).\n",
    "\n",
    "__With `pip`__\n",
    "- Easily install external libraries (like `oTree`) and manage dependencies.\n",
    "- Keep packages updated or remove unused ones.\n",
    "- Ensure your Python environment has all the necessary tools for your project.\n",
    "\n",
    "__Basic Commands__:\n",
    "- **Install a package**:\n",
    "```bash\n",
    "pip install package_name\n",
    "```\n",
    "- **Upgrade a package**:\n",
    "```bash\n",
    "pip install --upgrade package_name\n",
    "```\n",
    "- **List installed packages**:\n",
    "```bash\n",
    "pip list\n",
    "```"
   ]
  },
  {
   "cell_type": "markdown",
   "id": "c169e5bf-3cae-420b-a477-100a2163aa93",
   "metadata": {
    "editable": true,
    "slideshow": {
     "slide_type": "subslide"
    },
    "tags": []
   },
   "source": [
    "## Creating a New oTree Project\n",
    "\n",
    "- Run the following command to create an oTree project:\n",
    "  ```bash\n",
    "  otree startproject my_otree_project\n",
    "  ```\n",
    "This will create a folder my_otree_project with the project structure.  \n",
    "\n",
    "Navigate to your project folder\n",
    "```bash\n",
    "cd my_otree_project\n",
    "```\n",
    "At this point, we have a basic oTree project."
   ]
  },
  {
   "cell_type": "markdown",
   "id": "5abe36fc-9bb2-4558-86c8-fee1121f4f7e",
   "metadata": {
    "editable": true,
    "slideshow": {
     "slide_type": "subslide"
    },
    "tags": []
   },
   "source": [
    "## Python IDE : Pycharm\n",
    "\n",
    "- IDE  = Integrated Development Environment\n",
    "- https://www.jetbrains.com/pycharm/\n",
    "- Download the Pycharm **Community version** and install it\n",
    "\n",
    "<img src=\"img/pycharm.png\" alt=\"Pycharm\" style=\"height:200px\"/>"
   ]
  },
  {
   "cell_type": "markdown",
   "id": "63db9b5d-c13b-4809-9119-c3a917996054",
   "metadata": {
    "editable": true,
    "slideshow": {
     "slide_type": "subslide"
    },
    "tags": []
   },
   "source": [
    "**Intégration of the otree project in PyCharm**  \n",
    "\n",
    "- once done, click on \"new project\", and in the location select the directory of your oTree project (my_otree_project)\n",
    "- for the python interpreter, select \"Custom environment\", then \"Conda environment\" and click on the *browse* button to get the environment created with anaconda navigator (otree_env).\n",
    "\n",
    "**Now PyCharm will use the correct Python version and environment for your oTree project.**\n",
    "\n",
    "*⚠️ On Windows, the otree_env environment is located in AppData (hidden directory)*"
   ]
  },
  {
   "cell_type": "markdown",
   "id": "643c0542-9b5c-46d4-9be9-1ff99dfb618c",
   "metadata": {
    "editable": true,
    "slideshow": {
     "slide_type": "subslide"
    },
    "tags": []
   },
   "source": [
    "## Running the oTree Development Server\n",
    "\n",
    "- **Start the oTree server** : Inside PyCharm's terminal or the Anaconda Prompt, run\n",
    "  ```bash\n",
    "  otree devserver\n",
    "  ```  \n",
    "\n",
    "- **Access the local server**: Open your web browser and go to\n",
    "`http://localhost:8000`\n",
    "\n",
    "\n",
    "You’ll see the oTree demo page where you can configure and run experiments.\n",
    "With the development server running, you can now start building apps in your oTree project."
   ]
  },
  {
   "cell_type": "markdown",
   "id": "6d678833-f5eb-4f8e-a435-17812c4daa61",
   "metadata": {
    "editable": true,
    "slideshow": {
     "slide_type": "subslide"
    },
    "tags": []
   },
   "source": [
    "## Summary\n",
    "\n",
    "1. **Created a dedicated environment** for oTree using Anaconda (`otree_env`).\n",
    "2. **Installed oTree** in the environment using `pip install otree`.\n",
    "3. **Created a new oTree project** using `otree startproject my_otree_project`.\n",
    "4. **Installed and configured PyCharm**, linking it to the Anaconda environment.\n",
    "5. **Ran the oTree development server** to test the project."
   ]
  },
  {
   "cell_type": "markdown",
   "id": "awful-canberra",
   "metadata": {
    "editable": true,
    "slideshow": {
     "slide_type": "slide"
    },
    "tags": [],
    "toc-hr-collapsed": true
   },
   "source": [
    "# Building an oTree App"
   ]
  },
  {
   "cell_type": "markdown",
   "id": "afacb70a-ff5a-4920-a942-6b3b78a0a22f",
   "metadata": {
    "editable": true,
    "jp-MarkdownHeadingCollapsed": true,
    "slideshow": {
     "slide_type": "subslide"
    },
    "tags": []
   },
   "source": [
    "## oTree Project Structure\n",
    "\n",
    "- An oTree project consists of **apps**. Each app represents a game or survey.\n",
    "- **Apps** are independent and reusable components.\n",
    "- `otree startapp my_app` to create an app called `my_app`\n",
    "\n",
    "**Structure of an oTree Project:**\n",
    "```\n",
    "my_otree_project/\n",
    "├── settings.py   # Project settings (apps, currency, etc.)\n",
    "├── my_app/   # An individual app\n",
    "│   ├── __init__.py  # Defines the logic and handles the UI\n",
    "│   ├── MyPage.html  # HTML template for rendering the page\n",
    "│   ├── Results.html \n",
    "``` "
   ]
  },
  {
   "cell_type": "markdown",
   "id": "282655c3-436d-4b2d-a748-b35539864309",
   "metadata": {
    "editable": true,
    "slideshow": {
     "slide_type": "subslide"
    },
    "tags": []
   },
   "source": [
    "## Core Components of an oTree App\n",
    "\n",
    "1. **models**:\n",
    "   - Defines the **data models** for players, groups, and subsessions.\n",
    "   - Contains the rules and structure of the game (e.g., payoffs, rounds).\n",
    "\n",
    "2. **pages**:\n",
    "   - Manages the flow of the game.\n",
    "   - Defines the user interface (UI) pages that participants see.\n",
    "   - Controls the order of pages and interactions.\n",
    "\n",
    "3. **templates**:\n",
    "   - Contains the **HTML files** for rendering each page.\n",
    "   - Allows for customization of the interface using HTML and Jinja2 templates.\n",
    "\n",
    "\n",
    "*💬 models and pages* are in the `__init__.py` file, templates are in the app directory with `*.html` extension."
   ]
  },
  {
   "cell_type": "markdown",
   "id": "5bc18481-9b79-4bb4-a804-320a311bca0a",
   "metadata": {
    "editable": true,
    "slideshow": {
     "slide_type": "subslide"
    },
    "tags": []
   },
   "source": [
    "## Creating an oTree App\n",
    "\n",
    "**Step 1: Create a new app** : Run the following command to create a new app in your project:\n",
    "```bash\n",
    "  otree startapp my_first_app\n",
    "```\n",
    "  \n",
    "**Step 2: Add the app to your project**\n",
    "\n",
    "- Open settings.py in your project folder.\n",
    "- Add your new app to the SESSION_CONFIGS list:\n",
    "\n",
    "```python\n",
    "SESSION_CONFIGS = [\n",
    "    {\n",
    "        'name': 'my_first_app',\n",
    "        'display_name': \"My First App\",\n",
    "        'num_demo_participants': 2,\n",
    "        'app_sequence': ['my_first_app'],\n",
    "    },\n",
    "]\n",
    "```"
   ]
  },
  {
   "cell_type": "markdown",
   "id": "c04ab427-b7ec-4142-abb8-aa31b06292bf",
   "metadata": {
    "editable": true,
    "slideshow": {
     "slide_type": "subslide"
    },
    "tags": []
   },
   "source": [
    "## Defining the models\n",
    "\n",
    "- **Players**, **Groups**, and **Subsessions** are the core models used to structure the game.\n",
    "\n",
    "Example:\n",
    "```python\n",
    "from otree.api import *\n",
    "\n",
    "class Subsession(BaseSubsession):\n",
    "    pass\n",
    "\n",
    "class Group(BaseGroup):\n",
    "    pass\n",
    "\n",
    "class Player(BasePlayer):\n",
    "    name = models.StringField(label=\"What is your name?\")\n",
    "    age = models.IntegerField(label=\"How old are you?\")\n",
    "```\n",
    "\n",
    "💬 This defines a simple app where participants will enter their name and age."
   ]
  },
  {
   "cell_type": "markdown",
   "id": "f6f796fc-5ed7-4885-a34e-b286dc4e978e",
   "metadata": {
    "editable": true,
    "slideshow": {
     "slide_type": "subslide"
    },
    "tags": []
   },
   "source": [
    "## Adding Fields to the Page Class and Controlling Flow\n",
    "\n",
    "The fields that must be displayed on the webpage **need to be listed** in the corresponding Python class.  \n",
    "The `page_sequence` list (at the bottom of the `__init__` file) controls the **sequence of pages** participants see during the experiment.\n",
    "\n",
    "Example:\n",
    "```python\n",
    "\n",
    "class MyPage(Page):\n",
    "    form_model = 'player'\n",
    "    form_fields = ['name', 'age']\n",
    "\n",
    "class Results(Page):\n",
    "    pass\n",
    "\n",
    "page_sequence = [MyPage, Results]\n",
    "```\n",
    "\n",
    "💬 This example shows two pages: one where participants enter their name and age, and a second (empty) that will display the results."
   ]
  },
  {
   "cell_type": "markdown",
   "id": "52b1c6d1-8f45-42bc-a023-f2b02961e5a8",
   "metadata": {
    "editable": true,
    "slideshow": {
     "slide_type": "subslide"
    },
    "tags": []
   },
   "source": [
    "## HTML Templates\n",
    "\n",
    "Templates are are used to render the HTML interface.\n",
    "\n",
    "Example:\n",
    "```html\n",
    "{{ block title }}\n",
    "{{ endblock }}\n",
    "\n",
    "{{ block content }}\n",
    "  <p>Please enter your information below:</p>\n",
    "  \n",
    "  {{ formfields }}\n",
    "  \n",
    "  {{ next_button }} \n",
    "  \n",
    "{{ endblock }}\n",
    "```\n",
    "\n",
    "💬 The `{{ formfields }}` block automatically renders the fields from MyPage (e.g., name, age).  "
   ]
  },
  {
   "cell_type": "markdown",
   "id": "f18ae332-c29f-4fed-90ab-5b01e6c69519",
   "metadata": {
    "editable": true,
    "slideshow": {
     "slide_type": "subslide"
    },
    "tags": []
   },
   "source": [
    "## Running the oTree App\n",
    "\n",
    "**Step 1: Run the development server** : \n",
    "  ```bash\n",
    "  otree devserver\n",
    "  ```\n",
    "\n",
    "**Step 2: Access the app in your browser**  \n",
    "```html\n",
    "http://localhost:8000\n",
    "```\n",
    "\n",
    "💬 From here, you can select your app and run it with the demo participants."
   ]
  },
  {
   "cell_type": "markdown",
   "id": "e6403e85-b70c-4118-aca9-2fa673963ded",
   "metadata": {
    "editable": true,
    "slideshow": {
     "slide_type": ""
    },
    "tags": []
   },
   "source": [
    "## 💻 Exercice: Create your first application\n",
    "\n",
    "- create your first application\n",
    "- display the application in the web browser"
   ]
  },
  {
   "cell_type": "markdown",
   "id": "documented-antibody",
   "metadata": {
    "editable": true,
    "slideshow": {
     "slide_type": "slide"
    },
    "tags": []
   },
   "source": [
    "# Customizing Models and Fields"
   ]
  },
  {
   "cell_type": "markdown",
   "id": "a28a4d83-f03b-4712-b664-d5fd1d123d33",
   "metadata": {
    "editable": true,
    "slideshow": {
     "slide_type": "subslide"
    },
    "tags": []
   },
   "source": [
    "In oTree, data is structured using three main models:\n",
    "  1. **Subsession**: Represents all the participants in the session.\n",
    "  2. **Group**: Represents a set of participants interacting together.\n",
    "  3. **Player**: Represents each participant in the experiment.\n",
    "\n",
    "These models are defined in `__init__.py` and are subclasses of:\n",
    "  - `BaseSubsession`\n",
    "  - `BaseGroup`\n",
    "  - `BasePlayer`"
   ]
  },
  {
   "cell_type": "markdown",
   "id": "0dfd962b-3baf-4dce-85a1-da361031e233",
   "metadata": {
    "editable": true,
    "slideshow": {
     "slide_type": "subslide"
    },
    "tags": []
   },
   "source": [
    "## Defining Custom Fields in Models\n",
    "\n",
    "- Fields in oTree are used to store data for **players, groups, and subsessions**.\n",
    "- You can define custom fields with different data types (e.g., strings, integers, currency, etc.).\n",
    "- Fields are stored in the application's table in the database.\n",
    "- Fields are **objects from the `models` module**."
   ]
  },
  {
   "cell_type": "markdown",
   "id": "d01bf35e-24d9-4c17-90d5-265a9a633cc9",
   "metadata": {
    "editable": true,
    "slideshow": {
     "slide_type": "subslide"
    },
    "tags": []
   },
   "source": [
    "### Common Field Types\n",
    "\n",
    "- **IntegerField**: Stores whole numbers.\n",
    "   ```python\n",
    "   score = models.IntegerField()\n",
    "   ```\n",
    "   \n",
    "- **FloatField** : Stores decimal numbers.\n",
    "  ```python\n",
    "  average = models.FloatField()\n",
    "  ```\n",
    "  \n",
    "- **StringField**: Stores text data.\n",
    "   ```python\n",
    "   name = models.StringField()\n",
    "    ```\n",
    "   \n",
    "- **BooleanField**: Stores True or False values.\n",
    "    ```python\n",
    "    student = models.BooleanField()\n",
    "    ```\n",
    "    \n",
    "- **CurrencyField**: Stores monetary values (custom oTree type).\n",
    "   ```python\n",
    "    payoff = models.CurrencyField()\n",
    "    ```"
   ]
  },
  {
   "cell_type": "markdown",
   "id": "7816303a-d6ae-45ed-a994-14baf3fd6552",
   "metadata": {
    "editable": true,
    "slideshow": {
     "slide_type": "subslide"
    },
    "tags": []
   },
   "source": [
    "### Adding Fields to the Player Class\n",
    "\n",
    "- The label argument defines what participants will see on the form.\n",
    "- The initial argument sets a default value (e.g., score starts at 0).\n",
    "\n",
    "```python\n",
    "class Player(BasePlayer):\n",
    "    name = models.StringField(label=\"What is your name?\")\n",
    "    age = models.IntegerField(label=\"How old are you?\")\n",
    "    score = models.IntegerField(initial=0)\n",
    "``` \n"
   ]
  },
  {
   "cell_type": "markdown",
   "id": "ae96210e-402a-4ba4-8ab7-be7b2837daaf",
   "metadata": {
    "editable": true,
    "slideshow": {
     "slide_type": "subslide"
    },
    "tags": []
   },
   "source": [
    "### Arguments in Fields for customization\n",
    "\n",
    "- **label**: Text that appears next to the input field.\n",
    "   ```python\n",
    "   age = models.IntegerField(label=\"Your Age\")\n",
    "   ```\n",
    "   \n",
    "- **choices**: Provide a list of options for multiple choice fields.\n",
    "    ```python\n",
    "    favorite_color = models.StringField(choices=[\"Red\", \"Blue\", \"Green\"])\n",
    "    ```\n",
    "    \n",
    "- **initial**: Set a default value.\n",
    "    ```python\n",
    "    score = models.IntegerField(initial=0)\n",
    "    ```\n",
    "    \n",
    "- **min and max**: Define boundaries for numeric inputs.\n",
    "  ```python\n",
    "    age = models.IntegerField(label=\"Your Age\", min=18, max=100)\n",
    "    ```"
   ]
  },
  {
   "cell_type": "markdown",
   "id": "125ce036-1983-4ecd-83b2-d521da582a76",
   "metadata": {
    "editable": true,
    "slideshow": {
     "slide_type": "subslide"
    },
    "tags": []
   },
   "source": [
    "- **blank**: Allows a field to be left empty by participants (default is False).\n",
    "If blank=True, the field can be optional.\n",
    "    ```python\n",
    "    age = models.IntegerField(label=\"Your Age\", min=18, max=100, blank=True)\n",
    "    ```\n",
    "    \n",
    "- **widget**: Customize the type of input type (e.g., radio buttons, sliders, etc.).\n",
    "    ```python\n",
    "    favorite_color = models.StringField(choices=[\"Red\", \"Blue\", \"Green\"], widget=widgets.RadioSelectHorizontal)\n",
    "    ```\n",
    "\n",
    "ℹ️ By default, fields with choices appear as a dropdown menu.  \n",
    "Other widget options include: RadioSelect, RadioSelectHorizontal, etc."
   ]
  },
  {
   "cell_type": "markdown",
   "id": "3255f684-7a33-4c1c-862a-2665073f758d",
   "metadata": {
    "editable": true,
    "slideshow": {
     "slide_type": "subslide"
    },
    "tags": []
   },
   "source": [
    "## Using Form Fields in Pages\n",
    "\n",
    "To display a form to the participant, list the corresponding field names in the `form_fields` attribute of the page class.\n",
    "\n",
    "Each name must match a field defined in the `Player`, `Group`, or `Subsession` model, depending on your `form_model`.\n",
    "\n",
    "\n",
    "Example:\n",
    "\n",
    "```python\n",
    "class MyPage(Page):\n",
    "    form_model = 'player'\n",
    "    form_fields = ['name', 'age', 'score']\n",
    "```"
   ]
  },
  {
   "cell_type": "markdown",
   "id": "visible-respondent",
   "metadata": {
    "editable": true,
    "slideshow": {
     "slide_type": "subslide"
    },
    "tags": []
   },
   "source": [
    "## 💻 Exercice : create a Demographics app\n",
    "\n",
    "**Fields to include**\n",
    "\n",
    "- sex: male / female\n",
    "- age\n",
    "- marital status: single, married, divorced, widowed\n",
    "- student: yes / no\n",
    "- level of study (Bac, Licence, Master, PhD)\n",
    "- field of study (Education, Sciences, Engineering, Law and Political Science, Agriculture and Food, Health, Economics and Management, Technical Studies)\n",
    "\n",
    "💡 **Steps:**\n",
    "\n",
    "1. create the new app : `otree startapp demographics`\n",
    "2. add the app in the `settings.py` file\n",
    "3. create the fields in the `__init__.py` file in the app\n",
    "4. launch and test your app"
   ]
  },
  {
   "cell_type": "markdown",
   "id": "e3ec4412-0a91-40af-bffd-f9439c854759",
   "metadata": {
    "editable": true,
    "slideshow": {
     "slide_type": "slide"
    },
    "tags": []
   },
   "source": [
    "# Managing Flow and Pages"
   ]
  },
  {
   "cell_type": "markdown",
   "id": "89d881d1-19da-40e3-be55-743caf5b89a2",
   "metadata": {
    "editable": true,
    "slideshow": {
     "slide_type": "subslide"
    },
    "tags": []
   },
   "source": [
    "- In oTree, experiments are structured into **pages** that control how participants interact with the app.\n",
    "- Pages determine:\n",
    "  - What is displayed to participants.\n",
    "  - The sequence in which the pages appear.\n",
    "  - How data is collected from participants.\n",
    "\n",
    "Three key components of experiment flow:\n",
    "1. **Pages**: Where the interaction occurs.\n",
    "2. **Page Sequence**: The order of the pages.\n",
    "3. **Wait Pages**: For synchronizing participants in multiplayer games.\n"
   ]
  },
  {
   "cell_type": "markdown",
   "id": "fe4bb20e-1f7c-4474-9c4c-fb92e22f3711",
   "metadata": {
    "editable": true,
    "slideshow": {
     "slide_type": "subslide"
    },
    "tags": []
   },
   "source": [
    "## Controlling Page Sequence\n",
    "\n",
    "- Pages are defined as classes that inherit from the `Page` class.\n",
    "- The order in which pages are presented is determined by the `page_sequence` list.\n",
    "\n",
    "```python\n",
    "class Introduction(Page):\n",
    "    pass\n",
    "\n",
    "class Survey(Page):\n",
    "    form_model = 'player'\n",
    "    form_fields = ['age', 'gender']\n",
    "\n",
    "class Results(Page):\n",
    "    pass\n",
    "\n",
    "page_sequence = [Introduction, Survey, Results]\n",
    "```\n",
    "\n",
    "**💬 The participant will first see the Introduction page, then the Survey page, and finally the Results page.**"
   ]
  },
  {
   "cell_type": "markdown",
   "id": "eb923956-b634-4931-8b2a-6344e95179e8",
   "metadata": {
    "editable": true,
    "slideshow": {
     "slide_type": "subslide"
    },
    "tags": []
   },
   "source": [
    "## Adding Logic to Pages\n",
    "\n",
    "**`is_displayed`**\n",
    "\n",
    "You can control whether a page is shown to a participant using the `is_displayed` method.\n",
    "\n",
    "Example:\n",
    "```python\n",
    "class ForStudent(Page):\n",
    "    form_model = 'player'\n",
    "    form_fields = ['level_of_study', \"studied_discipline\"]\n",
    "\n",
    "    def is_displayed(player: Player):\n",
    "        return player.student\n",
    "```\n",
    "\n",
    "**💬 The ForStudent page will only be displayed if the participant is a student** (information that should have been collected earlier)."
   ]
  },
  {
   "cell_type": "markdown",
   "id": "59c07d16-9a2c-4120-af86-d1b9b698aaed",
   "metadata": {
    "editable": true,
    "slideshow": {
     "slide_type": "subslide"
    },
    "tags": []
   },
   "source": [
    "## Before/After Page Submission\n",
    "\n",
    "**`before_next_page`**\n",
    "\n",
    "- The `before_next_page` method is used to run logic right before moving to the next page.\n",
    "\n",
    "```python\n",
    "class Choice(Page):\n",
    "    form_model = 'player'\n",
    "    form_fields = ['decision']\n",
    "\n",
    "    def before_next_page(player: Player, timeout_happened):\n",
    "        player.compute_payoff()\n",
    "\n",
    "class Results(Page):\n",
    "    pass\n",
    "```\n",
    "\n",
    "**💬 The player's payoff is calculated before the display of the Results.**"
   ]
  },
  {
   "cell_type": "markdown",
   "id": "fd0d0e22-6c6e-4838-89fe-fb8271868915",
   "metadata": {
    "editable": true,
    "slideshow": {
     "slide_type": "subslide"
    },
    "tags": []
   },
   "source": [
    "## Synchronizing Participants with Wait Pages\n",
    "\n",
    "- In multiplayer games, participants need to be synchronized before continuing. This is done using **Wait Pages**.\n",
    "- Wait pages ensure that all participants in a group reach the same point before proceeding.\n",
    "\n",
    "```python\n",
    "class WaitForGroup(WaitPage):\n",
    "    pass\n",
    "```\n",
    "\n",
    "ℹ️ If you want the page to wait **for all participants across all groups in a session**, use the `wait_for_all_groups = True` attribute.\n",
    "\n",
    "```python\n",
    "class WaitForAll(WaitPage):\n",
    "    wait_for_all_groups = True\n",
    "```\n",
    "\n",
    "💬 When `wait_for_all_groups = True`, the Wait Page will only proceed when **all groups in the session have reached the Wait Page**.\n",
    "\n",
    "This is useful in experiments where group actions affect each other, or you want to synchronize the entire session."
   ]
  },
  {
   "cell_type": "markdown",
   "id": "706c65b2-bbe9-4061-b124-31441610f64a",
   "metadata": {
    "editable": true,
    "slideshow": {
     "slide_type": "subslide"
    },
    "tags": []
   },
   "source": [
    "## Running Logic After All Players Arrive\n",
    "\n",
    "Use the `after_all_players_arrive` method to run custom logic **once all players reach a `WaitPage`**.\n",
    "\n",
    "### Wait for one group\n",
    "\n",
    "```python\n",
    "class WaitForGroup(WaitPage):\n",
    "    def after_all_players_arrive(group: Group):\n",
    "        group.compute_total_contributions()\n",
    "```\n",
    "\n",
    "💬 This method is called once all players in the group have arrived at the wait page."
   ]
  },
  {
   "cell_type": "markdown",
   "id": "68dec255-019b-4d3f-9fac-3255f69d1ae7",
   "metadata": {
    "editable": true,
    "slideshow": {
     "slide_type": "subslide"
    },
    "tags": []
   },
   "source": [
    "### Wait for all groups\n",
    "\n",
    "To synchronize across all groups, set wait_for_all_groups = True.\n",
    "\n",
    "In this case, `after_all_players_arrive` takes a Subsession object instead of a Group.\n",
    "\n",
    "```python\n",
    "class WaitForAll(WaitPage):\n",
    "    wait_for_all_groups = True\n",
    "    \n",
    "    def after_all_players_arrive(subsession: Subsession):\n",
    "        subsession.compute_players_payoffs()\n",
    "```"
   ]
  },
  {
   "cell_type": "markdown",
   "id": "00c03da3-11a0-4958-bc81-1846b659e87c",
   "metadata": {
    "editable": true,
    "slideshow": {
     "slide_type": "subslide"
    },
    "tags": []
   },
   "source": [
    "## Working with Timeout\n",
    "\n",
    "Pages in oTree can have time limits, allowing participants a limited amount of time to respond.\n",
    "\n",
    "Setting a Timeout:\n",
    "```python\n",
    "class Choice(Page):\n",
    "    form_model = 'player'\n",
    "    form_fields = ['decision']\n",
    "    timeout_seconds = 30\n",
    "```\n",
    "After 30 seconds, the page will automatically submit and move to the next one.\n"
   ]
  },
  {
   "cell_type": "markdown",
   "id": "f7e9e17a-15aa-4e1e-a2fe-b9a88a47cb8e",
   "metadata": {
    "editable": true,
    "slideshow": {
     "slide_type": "subslide"
    },
    "tags": []
   },
   "source": [
    "Use the timeout_happened argument in before_next_page to check if the page timed out.\n",
    "```python\n",
    "class Choice(Page):\n",
    "    form_model = 'player'\n",
    "    form_fields = ['decision']\n",
    "    timeout_seconds = 30\n",
    "\n",
    "    def before_next_page(player: Player, timeout_happened):\n",
    "        if timeout_happened:\n",
    "            player.participant._is_bot = True\n",
    "            player.decision = random.randint(0, 20)\n",
    "```"
   ]
  },
  {
   "cell_type": "markdown",
   "id": "27c0f046-4e84-4740-bfea-4bbef845c5fc",
   "metadata": {
    "editable": true,
    "jp-MarkdownHeadingCollapsed": true,
    "slideshow": {
     "slide_type": "subslide"
    },
    "tags": []
   },
   "source": [
    "## 💻 Exercise: Task with Synchronization \n",
    "\n",
    "**`number_sync`**\n",
    "\n",
    "Create a **multiplayer app** (`number_sync`) where each player enters a number between **0 and 100**.\n",
    "\n",
    "- Players have **45 seconds** to enter their number.\n",
    "- If time runs out, a **random number is assigned automatically**.\n",
    "- Once all players have submitted (or been assigned) a number, the **average is computed** and **displayed to all participants**."
   ]
  },
  {
   "cell_type": "markdown",
   "id": "8ee7eafe-9716-4e3b-921a-da3dc69a3eb2",
   "metadata": {
    "editable": true,
    "slideshow": {
     "slide_type": "subslide"
    },
    "tags": []
   },
   "source": [
    "## Passing Data to Templates\n",
    "\n",
    "**`vars_for_template`**\n",
    "\n",
    "Use `vars_for_template()` to **send variables from the Page class to the HTML template**.\n",
    "\n",
    "This method should return a dictionary of values you want to display.\n",
    "\n",
    "```python\n",
    "class Results(Page):\n",
    "    def vars_for_template(player: Player):\n",
    "        return dict(\n",
    "            my_number=player.number,\n",
    "            average=player.group.average\n",
    "        )\n",
    "```\n",
    "\n",
    "and in the html file\n",
    "\n",
    "```html\n",
    "<p>You chose: {{ my_number }}</p>\n",
    "<p>Group average: {{ average }}</p>\n",
    "```"
   ]
  },
  {
   "cell_type": "markdown",
   "id": "e9d13167-2657-4f94-97cc-d98b436bd6ad",
   "metadata": {
    "editable": true,
    "slideshow": {
     "slide_type": "subslide"
    },
    "tags": []
   },
   "source": [
    "**ℹ️ `js_vars`**\n",
    "\n",
    "Sometimes, you may want to use participant data **inside JavaScript** -- for timers, sliders, animations, or interactive visualizations.\n",
    "\n",
    "oTree provides a method called `js_vars()` to send Python variables to your JavaScript code inside the HTML page.\n",
    "\n",
    "💬 You’ll discover later when we start adding JavaScript to the templates"
   ]
  },
  {
   "cell_type": "markdown",
   "id": "d7619171-aa5f-4714-8eab-7fe090dbe5f1",
   "metadata": {
    "editable": true,
    "slideshow": {
     "slide_type": "subslide"
    },
    "tags": []
   },
   "source": [
    "## 💻 Exercise: Display Group Statistics\n",
    "\n",
    "Update your `number_sync` app to show the **distribution of chosen numbers** \n",
    "\n",
    "In the `Results` page, use `vars_for_template()` to pass the following values:\n",
    "\n",
    "- Minimum of the numbers\n",
    "- Maximum of the numbers\n",
    "- Median of the numbers\n",
    "\n",
    "💡 You may install `numpy` and/or `pandas` in your oTree environment to simplify these calculations \n",
    "\n",
    "```bash\n",
    "conda install -c conda-forge numpy pandas\n",
    "```"
   ]
  },
  {
   "cell_type": "markdown",
   "id": "agreed-hours",
   "metadata": {
    "editable": true,
    "slideshow": {
     "slide_type": "slide"
    },
    "tags": [],
    "toc-hr-collapsed": true
   },
   "source": [
    "# Constants, Groups and multiplayer interactions"
   ]
  },
  {
   "cell_type": "markdown",
   "id": "9c0dd3e6-f11c-4eac-ae03-7966b5216a03",
   "metadata": {
    "editable": true,
    "slideshow": {
     "slide_type": "subslide"
    },
    "tags": []
   },
   "source": [
    "## The Constants Class\n",
    "\n",
    "- Each oTree app has a class called `C` used to store constants\n",
    "- These values can be accessed from anywhere using C.VARIABLE_NAME\n",
    "- This makes it easy to change parameters for the whole app in one place.\n",
    "\n",
    "Built-in constants:\n",
    "- `NAME_IN_URL`: the displayed text in the URL for this application\n",
    "- `PLAYERS_PER_GROUP`: the number of players per group\n",
    "- `NUM_ROUNDS`: the number of rounds\n",
    "\n",
    "💬 You can also define **cumstom constants** for you app."
   ]
  },
  {
   "cell_type": "markdown",
   "id": "89da3a9e-0922-4a3e-9c05-c13921e554ef",
   "metadata": {
    "editable": true,
    "jp-MarkdownHeadingCollapsed": true,
    "slideshow": {
     "slide_type": "subslide"
    },
    "tags": []
   },
   "source": [
    "## The `creating_session` Method\n",
    "\n",
    "- In oTree, the **`creating_session`** method is used to initialize data at the start of the session.\n",
    "- It runs once, before the first round of the experiment, and is typically used to:\n",
    "  - Set initial values for fields.\n",
    "  - Group participants.\n",
    "  - Assign other session-wide variables.\n",
    "- If the application is repeated (NUM_ROUNDS > 1) this method is called once by round.\n",
    "\n",
    "\n",
    "```python\n",
    "def creating_session(subsession: Subsession):\n",
    "    # Group participants randomly\n",
    "    subsession.group_randomly()\n",
    "```"
   ]
  },
  {
   "cell_type": "markdown",
   "id": "b51eb312-90a6-4f64-92c5-2843758d7526",
   "metadata": {
    "editable": true,
    "slideshow": {
     "slide_type": "subslide"
    },
    "tags": []
   },
   "source": [
    "## Grouping Players\n",
    "\n",
    "- oTree forms groups **based on participant ID** and the value of `PLAYERS_PER_GROUP`.\n",
    "- Participant IDs are assigned **in the order participants join the session**.\n",
    "\n",
    "**Example with `PLAYERS_PER_GROUP = 4`**\n",
    "\n",
    "- Participants 1, 2, 3, 4 → **Group 1**  \n",
    "- Participants 5, 6, 7, 8 → **Group 2**  \n",
    "- Participants 9, 10, 11, 12 → **Group 3**  \n",
    "- etc.\n",
    "\n",
    "📌 By default, these groups will **remain fixed across all rounds**, unless you implement custom grouping logic or use dynamic grouping."
   ]
  },
  {
   "cell_type": "markdown",
   "id": "cbb2474d-1869-4524-b615-a5152e9a20d0",
   "metadata": {
    "editable": true,
    "slideshow": {
     "slide_type": "subslide"
    },
    "tags": []
   },
   "source": [
    "**💡 If your application is a repeated game, and players should be randomly grouped once at the start and then stay in the same group**\n",
    "\n",
    "- In **round 1**, participants are randomly assigned to groups\n",
    "- In **subsequent rounds**, the groups are **automatically retained** (unless you explicitly reassign them)\n",
    "\n",
    "```python\n",
    "def creating_session(subsession: Subsession):\n",
    "    if subsession.round_number == 1:\n",
    "        subsession.group_randomly()\n",
    "```\n",
    "\n",
    "📌 No need to group again in later rounds — oTree carries over the group structure by default."
   ]
  },
  {
   "cell_type": "markdown",
   "id": "5c5f0e14-83f5-4da2-9c92-2ac1905ac418",
   "metadata": {
    "editable": true,
    "slideshow": {
     "slide_type": "subslide"
    },
    "tags": []
   },
   "source": [
    "## 💻 Exercice : the public goods game\n",
    "\n",
    "**_Experiment Parameters_**:\n",
    "- **Group size**: 4 players.\n",
    "- **Endowment**: Each player is endowed with 100 €\n",
    "- **Private account**: Each token kept is worth 1 €\n",
    "- **Public account**: Each euro contributed to the public account is worth 0.5 € for **each group member**.\n",
    "- **Rounds**: one-shot game.\n",
    "\n",
    "**_Flow of the Experiment_**:\n",
    "1. **Instructions**: Display game instructions to all players.\n",
    "2. **WaitForAll**: Wait for all players to finish reading the instructions.\n",
    "3. **Decision**: Players decide how much of their 100 € endowment to contribute to the public pool.\n",
    "4. **WaitForGroup**: Synchronize the group after decisions are made.\n",
    "5. **Results**: Display the total group contribution and individual earnings."
   ]
  },
  {
   "cell_type": "markdown",
   "id": "3aab9255-d38b-4428-8447-ea30d7da317c",
   "metadata": {
    "editable": true,
    "slideshow": {
     "slide_type": "slide"
    },
    "tags": [],
    "toc-hr-collapsed": true
   },
   "source": [
    "# Roles, Sequential Games, and Conditional Structures"
   ]
  },
  {
   "cell_type": "markdown",
   "id": "f4249bba-7a25-4bbe-bcd4-35d5d9b624d3",
   "metadata": {
    "editable": true,
    "slideshow": {
     "slide_type": "subslide"
    },
    "tags": []
   },
   "source": [
    "## Defining Roles in oTree\n",
    "\n",
    "- Roles can be defined as constants in the **`C` class**, especially for 2-player games\n",
    "\n",
    "```python\n",
    "class C(BaseConstants):\n",
    "    PLAYERS_PER_GROUP = 2 \n",
    "    BUYER_ROLE = \"buyer\"\n",
    "    SELLER_ROLE = \"seller\"\n",
    "```\n",
    "\n",
    "By default:\n",
    "\n",
    "- Player with id_in_group = 1 → assigned role of buyer\n",
    "- Player with id_in_group = 2 → assigned role of seller\n",
    "\n",
    "💬 oTree automatically sets this value in the player.role field.\n",
    "\n",
    "⚠️ If the game involves more complex group structures (e.g., 2 buyers and 2 sellers in a 4-player group), roles must be assigned manually"
   ]
  },
  {
   "cell_type": "markdown",
   "id": "43b63931-61e6-4b6f-9262-f9e255b461bd",
   "metadata": {
    "editable": true,
    "slideshow": {
     "slide_type": "subslide"
    },
    "tags": []
   },
   "source": [
    "## Role-Based Page Display\n",
    "\n",
    "- Pages in oTree can be displayed conditionally based on the player's role.\n",
    "\n",
    "```python\n",
    "class DecisionBuyer(Page):\n",
    "    def is_displayed(player: Player):\n",
    "        return player.role == C.BUYER_ROLE\n",
    "\n",
    "class DecisionSeller(Page):\n",
    "    def is_displayed(player: Player):\n",
    "        return player.role == C.SELLER_ROLE\n",
    "```\n",
    "\n",
    "📌 Only the buyer sees the DecisionBuyer page, and only the seller sees the DecisionSeller page."
   ]
  },
  {
   "cell_type": "markdown",
   "id": "f173811c-30d6-4877-a721-a38e067e8560",
   "metadata": {
    "editable": true,
    "slideshow": {
     "slide_type": "subslide"
    },
    "tags": []
   },
   "source": [
    "## Conditional Structures in HTML\n",
    "\n",
    "You can display different content on the same HTML page based on the player's role with a conditional structure.\n",
    "\n",
    "```html\n",
    "<p>\n",
    "    You have the role of \n",
    "    {{ if player.role == C.BUYER_ROLE }}\n",
    "        buyer.\n",
    "    {{ else }}\n",
    "        seller\n",
    "    {{ endif }}\n",
    "</p>\n",
    "```\n",
    "\n",
    "**💬 You can also use elif for more complex conditional structures.**"
   ]
  },
  {
   "cell_type": "markdown",
   "id": "ee7c7278-c743-4418-979e-c232d09363a0",
   "metadata": {
    "editable": true,
    "slideshow": {
     "slide_type": "subslide"
    },
    "tags": []
   },
   "source": [
    "## Dynamic Field Constraints\n",
    "\n",
    "In **sequential games**, a player's input may depend on another player's earlier decision.\n",
    "\n",
    "**Example: Buyer/Seller Game**\n",
    "\n",
    "- The **buyer** makes an offer.\n",
    "- The **seller** receives the offer and can **respond with a counter-offer** -- but this counter-offer must not exceed the amount offered.\n",
    "\n",
    "**Setting a Dynamic Constraint**\n",
    "\n",
    "You can limit a player's input dynamically using the `fieldname_max` method.\n",
    "\n",
    "```python\n",
    "def offer_max(player: Player):\n",
    "    return player.amount_received\n",
    "```\n",
    "\n",
    "This will:\n",
    "- Automatically apply a max constraint in the form field for offer\n",
    "- Adjust the upper limit based on a previous decision or value\n",
    "\n",
    "**💬 Similarly, you can use `fieldname_min()` to set a dynamic minimum.**"
   ]
  },
  {
   "cell_type": "markdown",
   "id": "1812a1e6-264c-4dc2-95f5-88325031b30e",
   "metadata": {
    "editable": true,
    "slideshow": {
     "slide_type": "subslide"
    },
    "tags": []
   },
   "source": [
    "## 💻 Exercice: The Investment Game\n",
    "\n",
    "### Groups and Roles\n",
    "\n",
    "Players are paired in groups of 2 with predefined roles:\n",
    "\n",
    "- **Trustor** (Player 1)\n",
    "- **Trustee** (Player 2)\n",
    "\n",
    "Both players start with **10 Euros**.\n",
    "  \n",
    "### Game Flow\n",
    "\n",
    "1. The **Trustor** decides how much to send to the Trustee (from 0 to 10 €)\n",
    "2. The amount sent is **tripled** by the experimenter → Trustee receives `3 × amount_sent`\n",
    "3. The **Trustee** chooses how much to send back (between 0 and the amount received)\n",
    "\n",
    "*➡️ to be continued on the next slide*"
   ]
  },
  {
   "cell_type": "markdown",
   "id": "2a50b735-4905-458e-95ac-05dc3c0995a4",
   "metadata": {
    "editable": true,
    "slideshow": {
     "slide_type": "subslide"
    },
    "tags": []
   },
   "source": [
    "### Payoff Calculations\n",
    "\n",
    "- **Trustor's payoff**: 10 - amount sent + amount returned by the trustee.\n",
    "- **Trustee's payoff**: 10 + 3 × amount sent by the trustor - amount sent back.\n",
    "\n",
    "\n",
    "### Page Sequence\n",
    "`[Instructions, Role, DecisionTrustor, DecisionTrustorWaitForGroup, DecisionTrustee, DecisionTrusteeWaitForGroup, Results]`\n",
    "\n",
    "*➡️ to be continued on the next slide*"
   ]
  },
  {
   "cell_type": "markdown",
   "id": "44635ad6-8fc4-4423-baad-58ea91933e6b",
   "metadata": {
    "editable": true,
    "slideshow": {
     "slide_type": "subslide"
    },
    "tags": []
   },
   "source": [
    "### Key Fields\n",
    "\n",
    "- **Trustor**:\n",
    "  - `amount_sent`: How much the trustor sends to the trustee.\n",
    "  - `amount_returned`: How much the trustor receives back.\n",
    "  \n",
    "- **Trustee**:\n",
    "  - `amount_received`: The amount the trustee receives (3× amount sent).\n",
    "  - `amount_sent_back`: How much the trustee sends back to the trustor.\n",
    "\n",
    "\n",
    "### Methods to Implement\n",
    "\n",
    "- `set_amount_received`: Calculate and set the amount the trustee receives.\n",
    "- `set_amount_returned`: Calculate and set the amount returned to the trustor.\n",
    "- `amount_sent_back_max`: Set the maximum amount the trustee can send back.\n",
    "- `compute_payoffs`: individual payoff, depending on the role\n",
    "\n"
   ]
  },
  {
   "cell_type": "markdown",
   "id": "4000212b-061a-46af-bfd6-26f87a295a85",
   "metadata": {
    "editable": true,
    "slideshow": {
     "slide_type": "slide"
    },
    "tags": []
   },
   "source": [
    "# Simulations"
   ]
  },
  {
   "cell_type": "markdown",
   "id": "8ffd6e05-c50f-462b-abf2-5398c31cede0",
   "metadata": {
    "editable": true,
    "slideshow": {
     "slide_type": "subslide"
    },
    "tags": []
   },
   "source": [
    "Simulations are useful to test your experiment **without real participants**.\n",
    "\n",
    "In this section, you'll learn two main techniques:\n",
    "\n",
    "1. **Simulate participants in the browser**\n",
    "   - Useful for manually exploring how pages look and behave\n",
    "   - Uses `before_next_page` and the option \"Advance slowest users\"\n",
    "\n",
    "2. **Simulate full sessions with `test.py`**\n",
    "   - Useful for automated testing and data inspection\n",
    "   - Runs entire sessions with bots that follow predefined logic\n",
    "\n",
    "These tools help you debug and improve your experiment efficiently."
   ]
  },
  {
   "cell_type": "markdown",
   "id": "6dbe104b-81a3-478f-8ad4-c85613705c67",
   "metadata": {
    "editable": true,
    "slideshow": {
     "slide_type": "subslide"
    },
    "tags": []
   },
   "source": [
    "## Using `before_next_page` for Automated Execution\n",
    "\n",
    "- The `before_next_page` method can be used to automate certain actions before moving to the next page.\n",
    "- The timeout_happened parameter is triggered when the experimenter clicks **`Advance slowest users`** in the admin interface under the Monitor tab.\n",
    "\n",
    "```python\n",
    "def before_next_page(player, timeout_happened):\n",
    "    if timeout_happened:\n",
    "        player.contribution = random.randint(0, C.ENDOWMENT)\n",
    "    player.keep = C.ENDOWMENT - player.contribution\n",
    "```\n",
    "\n",
    "**Explanation**:\n",
    "- If the timeout_happened flag is triggered (e.g., using the `Advance slowest users` button), the amount a player allocates to the public account is automatically set to a random value.\n",
    "- For pages without data collection, simply clicking \"Advance slowest users\" will move the players to the next page without any additional action."
   ]
  },
  {
   "cell_type": "markdown",
   "id": "7b386395-be0a-4284-aaa8-dd04351d8fa2",
   "metadata": {
    "editable": true,
    "slideshow": {
     "slide_type": "subslide"
    },
    "tags": []
   },
   "source": [
    "**How to Test it**\n",
    "\n",
    "- Start a demo session from the admin page.\n",
    "- Open a player link in a new tab and navigate to the Monitor tab.\n",
    "- Go to the Monitor tab and click `Advance slowest users`\n",
    "- observe\n",
    "    - page transitions\n",
    "    - data appearing in the Data tab.\n",
    "\n",
    "\n",
    "💬 This method helps you ensure that pages transition correctly and that data is being properly generated during automated play.  \n",
    "💡 You can simulate a full session by **opening multiple player links** in separate tabs."
   ]
  },
  {
   "cell_type": "markdown",
   "id": "bc498d76-b7f5-4ef6-af16-fddf90798585",
   "metadata": {
    "editable": true,
    "slideshow": {
     "slide_type": "subslide"
    },
    "tags": []
   },
   "source": [
    "## Writing Test Scripts with `tests.py`\n",
    "\n",
    "Automated tests let you **simulate players** and **generate data** via the terminal.\n",
    "\n",
    "- Useful for testing your logic without opening multiple browser tabs\n",
    "- Helps debug or produce clean CSVs for analysis\n",
    "\n",
    "### Step 1: Create a tests file\n",
    "\n",
    "In the folder of your oTree app (e.g., public_goods), create a new Python file called `tests.py`.  \n",
    "Add the first line below.\n",
    "\n",
    "```python\n",
    "from . import *\n",
    "```"
   ]
  },
  {
   "cell_type": "markdown",
   "id": "ebf8d644-76e2-4b3b-b97a-1a8a493af000",
   "metadata": {
    "editable": true,
    "slideshow": {
     "slide_type": "subslide"
    },
    "tags": []
   },
   "source": [
    "### Step 2: Create the PlayerBot Class\n",
    "\n",
    "- Define a `PlayerBot` class, which simulates participant behavior.\n",
    "- Use the `play_round()` method to specify the behavior for each round.\n",
    "\n",
    "```python\n",
    "class PlayerBot(Bot):\n",
    "    def play_round(self):\n",
    "        if self.round_number == 1:\n",
    "            yield Instructions\n",
    "        yield Submission(Decision, timeout_happened=True)\n",
    "```\n",
    "\n",
    "- Use `yield` to submit pages normally.\n",
    "- Use `Submission(PageName, timeout_happened=True)` to simulate timeout behavior\n",
    "- WaitPages are handled automatically -- no need to yield them."
   ]
  },
  {
   "cell_type": "markdown",
   "id": "7fc2aea6-1c5b-4131-8c2b-72727e053735",
   "metadata": {
    "editable": true,
    "slideshow": {
     "slide_type": "subslide"
    },
    "tags": []
   },
   "source": [
    "### Step 3: Run the test from the terminal\n",
    "\n",
    "In the terminal, run the tests using the following command\n",
    "\n",
    "```bash\n",
    "otree test public_goods\n",
    "```\n",
    "\n",
    "By default, this runs the test with the `num_demo_participants` defined in your session config. You can specify more players like this:\n",
    "\n",
    "```bash\n",
    "otree test public_goods 20  # Simulate 20 participants\n",
    "```"
   ]
  },
  {
   "cell_type": "markdown",
   "id": "759b621c-e1f2-423d-842c-3ac7b791cc20",
   "metadata": {
    "editable": true,
    "slideshow": {
     "slide_type": "subslide"
    },
    "tags": []
   },
   "source": [
    "### Export Simulated Data\n",
    "\n",
    "To export the simulated data as a CSV, add the `--export` argument and specify the file path where you want the data saved:\n",
    "```bash\n",
    "otree test public_goods 20 --export C:\\Users\\John_Doe\\Desktop\\public_goods\n",
    "```\n",
    "\n",
    "The CSV file will contain all data (players, groups, sessions), just like a real experiment.\n",
    "\n",
    "✅ Perfect for debugging, validating logic, and preparing demo datasets."
   ]
  },
  {
   "cell_type": "markdown",
   "id": "49875343-e4ae-4ea2-929b-8fd84ff00cb8",
   "metadata": {
    "editable": true,
    "slideshow": {
     "slide_type": "subslide"
    },
    "tags": []
   },
   "source": [
    "## 💻 Exercice: Simulate and Export Data\n",
    "\n",
    "### Part 1: Individual app testing\n",
    "\n",
    "In the following apps:\n",
    "- `demographics`\n",
    "- `public_goods`\n",
    "- `investment_game`\n",
    "\n",
    "1. Add `before_next_page` where appropriate to simulate player input  \n",
    "   → Test using **\"Advance slowest users\"** in the browser\n",
    "\n",
    "2. Create a `tests.py` file for each app  \n",
    "   → Simulate full sessions using `otree test` \n",
    "\n",
    "3. Export the data from simulations for inspection"
   ]
  },
  {
   "cell_type": "markdown",
   "id": "7133937a-e907-453e-ab98-ddbf90825322",
   "metadata": {
    "editable": true,
    "slideshow": {
     "slide_type": "subslide"
    },
    "tags": []
   },
   "source": [
    "### Part 2: Combined app testing\n",
    "\n",
    "Simulate **two apps played by the same participants**.  \n",
    "➡️ In your `settings.py`, create a new session config:\n",
    "\n",
    "```python\n",
    "dict(\n",
    "    name=\"pgg_demog\",\n",
    "    display_name=\"Public Goods Game with Demographics\",\n",
    "    app_sequence=[\"public_goods\", \"demographics\"],\n",
    "    num_demo_participants=4\n",
    ")\n",
    "```\n",
    "\n",
    "Run simulations with 40 players and export the data as a CSV file."
   ]
  },
  {
   "cell_type": "markdown",
   "id": "342bc467-88f4-4d83-807a-7fec5159619e",
   "metadata": {
    "editable": true,
    "slideshow": {
     "slide_type": "slide"
    },
    "tags": []
   },
   "source": [
    "# Data wrangling"
   ]
  },
  {
   "cell_type": "markdown",
   "id": "1b6459dd-8f8e-47a3-af8e-f95ad431d1b1",
   "metadata": {
    "editable": true,
    "slideshow": {
     "slide_type": "subslide"
    },
    "tags": []
   },
   "source": [
    "## Viewing data in real-time\n",
    "\n",
    "In the oTree **Admin Panel**, you can:\n",
    "\n",
    "- Monitor participant progress\n",
    "- See responses live as players submit data\n",
    "- View variables like contributions, payoffs, etc.\n",
    "\n",
    "Go to the **Monitor tab** during an active session to follow what's happening."
   ]
  },
  {
   "cell_type": "markdown",
   "id": "aed38d86-672f-4369-bd2d-d19e4d055ee9",
   "metadata": {
    "editable": true,
    "slideshow": {
     "slide_type": "subslide"
    },
    "tags": []
   },
   "source": [
    "## Exporting Session-Specific Data\n",
    "\n",
    "- This method exports **all data for a specific session**, including all apps that were played during the session. \n",
    "- This is useful when you want a **complete overview** of the entire session, including all rounds and all participants.\n",
    "\n",
    "1. **Go to the Session Tab** in the oTree Admin interface.\n",
    "2. Select the session you want to export data from.\n",
    "3. Click on the **Data Tab**\n",
    "4. Click on the **Plain/Excel** link (bottom right of the screen) to download the CSV file.\n",
    "\n",
    "What is Exported:\n",
    "\n",
    "- Data from all apps that were part of that session.\n",
    "- Includes:\n",
    "  - **Player-level data** (e.g., contributions, decisions, payoffs).\n",
    "  - **Group-level data** (e.g., total contributions, group decisions).\n",
    "  - **Subsession-level data** (e.g., round numbers, session configurations)."
   ]
  },
  {
   "cell_type": "markdown",
   "id": "5282e5a6-68a4-4563-a8cd-3e25e2392d72",
   "metadata": {
    "editable": true,
    "slideshow": {
     "slide_type": "subslide"
    },
    "tags": []
   },
   "source": [
    "## Exporting Application-Specific Data\n",
    "\n",
    "- This method exports data for **individual apps** in your project.\n",
    "- This is useful when you want to analyze data for a **single app** in isolation, without including other apps from the session.\n",
    "\n",
    "1. **Go to the Data Tab** in the oTree Admin Interface.\n",
    "2. Select the specific application from which you want to export data.\n",
    "3. Click **\"Download\"** to export the CSV file.\n",
    "\n",
    "What is Exported:\n",
    "\n",
    "- Data specific to the chosen app.\n",
    "- Focuses on the fields and variables defined in that app’s **Player**, **Group**, and **Subsession** models.\n",
    "- Includes all rounds and participants for that app only."
   ]
  },
  {
   "cell_type": "markdown",
   "id": "7e29356a-6f28-40b1-8397-e0edcd6f7181",
   "metadata": {
    "editable": true,
    "slideshow": {
     "slide_type": "subslide"
    },
    "tags": []
   },
   "source": [
    "## Wrangling oTree Data\n",
    "\n",
    "Once exported, use `pandas` to clean and prepare your data.\n",
    "\n",
    "### Common Data Wrangling Tasks\n",
    "\n",
    "1. **Remove Unnecessary Columns**:\n",
    "    Drop columns that are irrelevant to your analysis (e.g., internal ID fields or system-generated variables).\n",
    "\n",
    "3. **Rename Columns**:\n",
    "\n",
    "   - Rename columns to make them more meaningful or easier to work with in your analysis.\n",
    "   - For example, rename `participant.label` to `participant`."
   ]
  },
  {
   "cell_type": "markdown",
   "id": "c0d1d0f4-9526-4062-ac5c-ae7ae8d4f47b",
   "metadata": {
    "editable": true,
    "slideshow": {
     "slide_type": "subslide"
    },
    "tags": []
   },
   "source": [
    "3. **Check and Correct Data Types**:\n",
    "\n",
    "    - Ensure that columns have the correct data type (e.g., numeric columns are not mistakenly treated as strings).\n",
    "   - Convert columns like `round_number` and `payoff` to their appropriate types (integer, float).\n",
    "\n",
    "5. **Create New Variables**:\n",
    "\n",
    "    - Sometimes you need to derive new variables from existing data.\n",
    "   - Example: Calculate a **score** by summing up answers to multiple questions in a survey."
   ]
  },
  {
   "cell_type": "markdown",
   "id": "5d74e646-d3d9-4c99-918c-ccd655ac1918",
   "metadata": {
    "editable": true,
    "slideshow": {
     "slide_type": "subslide"
    },
    "tags": []
   },
   "source": [
    "### Data Wrangling Example\n",
    "\n",
    "In this example, we clean and merge data from two CSV files: **Public Goods Game data** and **Demographics data**.\n",
    "\n",
    "**Step-by-Step Code**:\n",
    "\n",
    "```python\n",
    "import pandas as pd\n",
    "\n",
    "# Load the Public Goods Game data\n",
    "df = pd.read_csv(\"public_goods.csv\")  # Load the CSV file\n",
    "print(df.shape)  # Output the number of rows and columns\n",
    "print(df.columns.to_list())  # List all column names\n",
    "```\n",
    "\n",
    "**🗒️ Explanation**\n",
    "- Load the data: The pd.read_csv() function reads in the CSV file.\n",
    "- Inspect the data: The shape function prints the dimensions (rows, columns), and columns.to_list() prints all the column names."
   ]
  },
  {
   "cell_type": "markdown",
   "id": "be09a804-a6a3-4ba0-b4ac-2fd51fb9f64c",
   "metadata": {
    "editable": true,
    "slideshow": {
     "slide_type": "subslide"
    },
    "tags": []
   },
   "source": [
    "```python\n",
    "# Keep only relevant columns\n",
    "columns_kept = [\"columns_to_keep\"]\n",
    "df = df[[columns_kept]].copy()\n",
    "\n",
    "# Rename columns for easier manipulation\n",
    "df.rename(columns={\"participant.code\": \"participant\", \"session.code\": \"session\"}, inplace=True)\n",
    "df.rename(columns={c: c.replace(\"player.\", \"\") for c in df.columns}, inplace=True)\n",
    "```\n",
    "\n",
    "**🗒️ Explanation**\n",
    "- Keep selected columns: The list *columns_kept* defines which columns to retain. This step helps in removing unnecessary columns.\n",
    "- Rename columns: We rename some columns (e.g., participant.code → participant and session.code → session) for easier handling.\n",
    "- Additionally, we simplify column names by removing the \"player.\" prefix for player-related data."
   ]
  },
  {
   "cell_type": "markdown",
   "id": "702d50a7-72c9-4783-97cc-fe04ba84d5ed",
   "metadata": {
    "editable": true,
    "slideshow": {
     "slide_type": "subslide"
    },
    "tags": []
   },
   "source": [
    "```python\n",
    "# Repeat the process for the socio-demographic data\n",
    "demog = pd.read_csv(\"demographics.csv\")  # Load the CSV file\n",
    "demog = demog[[columns_kept]].copy()  # Keep relevant columns\n",
    "demog.rename(columns={\"participant.code\": \"participant\", \"session.code\": \"session\"}, inplace=True)\n",
    "demog.rename(columns={c: c.replace(\"player.\", \"\") for c in demog.columns}, inplace=True)\n",
    "```\n",
    "\n",
    "Repeat for Demographics Data: The same process is applied to the demographics data—keep only selected columns, and rename them for consistency."
   ]
  },
  {
   "cell_type": "markdown",
   "id": "4e7bbdde-e025-4e8e-95fe-bf9318d477e1",
   "metadata": {
    "editable": true,
    "slideshow": {
     "slide_type": "subslide"
    },
    "tags": []
   },
   "source": [
    "**Merge the Public Goods data and Demographics data on the participant column**\n",
    "\n",
    "```python\n",
    "df = df.merge(demog, on=[\"participant\"])\n",
    "\n",
    "# Optional: Save the cleaned and merged data for further analysis\n",
    "df.to_csv(\"cleaned_data.csv\", index=False)\n",
    "```\n",
    "\n",
    "**🗒️ Explanation**\n",
    "\n",
    "Merge DataFrames: The merge() function combines the cleaned Public Goods data (df) with the Demographics data (demog) using the participant column as the key.  \n",
    "✅ Now you have one unified file with data from both apps."
   ]
  },
  {
   "cell_type": "markdown",
   "id": "25252331-15ae-4105-832e-49530b192963",
   "metadata": {
    "editable": true,
    "slideshow": {
     "slide_type": "subslide"
    },
    "tags": []
   },
   "source": [
    "## 💻 Exercice\n",
    "\n",
    "1. Open a **Jupyter notebook**\n",
    "2. Load your exported CSV files (e.g. `public_goods.csv`, `demographics.csv`)\n",
    "3. Keep only relevant columns\n",
    "4. Rename columns for clarity\n",
    "5. Merge files using the `participant` column\n",
    "6. Export the cleaned and merged data as `cleaned_data.csv`\n",
    "\n",
    "---\n",
    "\n",
    "**_Optional_** (if you finish early): Compute some **descriptive statistics**:\n",
    "\n",
    "- **Demographics**: Distribution of `age`, `sex`, `level_of_study`, etc.\n",
    "- **Game behavior**:  \n",
    "  - Average contribution per round  \n",
    "  - Average contribution per group  \n",
    "  - Compare contribution across categories (e.g. by `sex` or `student`)"
   ]
  },
  {
   "cell_type": "markdown",
   "id": "norwegian-implement",
   "metadata": {
    "editable": true,
    "slideshow": {
     "slide_type": "slide"
    },
    "tags": []
   },
   "source": [
    "# Rooms and Admin Report"
   ]
  },
  {
   "cell_type": "markdown",
   "id": "a0f65641-b0bc-4eec-ac1b-43632fea4abd",
   "metadata": {
    "editable": true,
    "slideshow": {
     "slide_type": "subslide"
    },
    "tags": []
   },
   "source": [
    "## Overview of the Admin Interface\n",
    "\n",
    "The **Admin Interface** in oTree is where you manage sessions, participants, and monitor experiment progress.\n",
    "  \n",
    "1. Create and manage sessions\n",
    "2. View live participant data\n",
    "3. Access the Admin Report for custom data views\n",
    "4. Use Rooms to manage participants and session links\n",
    "\n",
    "The Admin Interface is the central control hub for running and monitoring experiments."
   ]
  },
  {
   "cell_type": "markdown",
   "id": "b824b813-e133-4539-8665-c90ba253f097",
   "metadata": {
    "editable": true,
    "slideshow": {
     "slide_type": "subslide"
    },
    "tags": []
   },
   "source": [
    "## Rooms\n",
    "\n",
    "Rooms let you organize and manage **controlled access** to your experiment.\n",
    "\n",
    "- Run sessions where participants **enter a predefined code**\n",
    "- Allow players to **join one by one** without sending them individual links\n",
    "- Keep control over the session start and monitor who has joined\n",
    "- Perfect for **lab experiments**, classrooms, or public settings\n",
    "\n",
    "Rooms are defined in a configuration file and linked to a session in the admin interface."
   ]
  },
  {
   "cell_type": "markdown",
   "id": "0a672bc3-c572-4db7-8bbf-28da5c3ccf39",
   "metadata": {
    "editable": true,
    "slideshow": {
     "slide_type": "subslide"
    },
    "tags": []
   },
   "source": [
    "### How Rooms Work\n",
    "\n",
    "- Each room has its own URL where participants can join the session.\n",
    "- Room links are accessible through the Admin Interface under the **`Rooms`** tab.\n",
    "\n",
    "Example `settings.py` Configuration:\n",
    "```python\n",
    "ROOMS = [\n",
    "    dict(\n",
    "        name='my_lab',\n",
    "        display_name='My Lab',\n",
    "    ),\n",
    "]\n",
    "```\n",
    "You can now click on the \"Rooms\" tab, select the room and create a new session inside this room."
   ]
  },
  {
   "cell_type": "markdown",
   "id": "5022c04d-0373-4175-a32b-8e4f7eedb187",
   "metadata": {
    "editable": true,
    "slideshow": {
     "slide_type": "subslide"
    },
    "tags": []
   },
   "source": [
    "### Using Participant Labels to Restrict Access\n",
    "\n",
    "- When participants click the room link, they are automatically added to the session associated with the room.  \n",
    "- This method works well but has limitations, such as participants joining the room multiple times from different tabs.\n",
    "  \n",
    "To avoid this, we can restrict access using **participant labels**.\n",
    "\n",
    "- **Participant labels** allow you to limit the number of times a participant can join the room by assigning them a unique label.\n",
    "- Each participant will have a **unique label** that they must enter to join the session.\n",
    "- Alternatively, the label can be provided directly in the URL.\n",
    "\n",
    "**_Benefits_**:\n",
    "- **Prevents multiple logins**: If a participant clicks the link twice, they will always join with the same label, preventing duplicate entries.\n",
    "- **Participant labels** are shown in the **Monitor** and **Payments** tabs in the admin interface."
   ]
  },
  {
   "cell_type": "markdown",
   "id": "ab1bf648-57f4-4ea8-b18f-dafcecadc5c2",
   "metadata": {
    "editable": true,
    "slideshow": {
     "slide_type": "subslide"
    },
    "tags": []
   },
   "source": [
    "To enable participant labels, create a **`participant_label_file`** for the room.\n",
    "  \n",
    "**_Create a Room with Labels in `settings.py`_**:\n",
    "```python\n",
    "ROOMS = [\n",
    "    dict(\n",
    "        name='my_lab',\n",
    "        display_name='My Lab',\n",
    "        participant_label_file='_rooms/my_lab.txt',\n",
    "    ),\n",
    "]\n",
    "```\n",
    "\n",
    "**_Create the participant_label_file_**:\n",
    "At the root of your oTree project, create a folder named _rooms.\n",
    "Inside this folder, create a text file (e.g., my_lab.txt).\n",
    "In this file, list one participant label per row.\n",
    "\n",
    "```bash\n",
    "lab_001  \n",
    "lab_002  \n",
    "lab_003  \n",
    "lab_004  \n",
    "```\n"
   ]
  },
  {
   "cell_type": "markdown",
   "id": "42ec2d9c-ee2e-4ab8-be94-51dfa6ddfc6c",
   "metadata": {
    "editable": true,
    "slideshow": {
     "slide_type": "subslide"
    },
    "tags": []
   },
   "source": [
    "**_Two Ways to Use Participant Labels_**:\n",
    "\n",
    "1. **Manual Entry**: Participants are asked to enter their assigned label when they access the room URL.\n",
    "  \n",
    "2. **Automatic Label in URL**: You can include the label directly in the URL (e.g., `?participant_label=lab_001`).\n",
    "  \n",
    "This ensures that each participant joins the session with a **unique label** and avoids duplicate entries."
   ]
  },
  {
   "cell_type": "markdown",
   "id": "applicable-celtic",
   "metadata": {
    "editable": true,
    "slideshow": {
     "slide_type": "subslide"
    },
    "tags": []
   },
   "source": [
    "### 💻 Exercice\n",
    "\n",
    "- create a room\n",
    "- start a session in this room\n",
    "\n",
    "*To be tested : find you IP adress and then in terminal write ```otree devserver IP:8000``` and ask your neighbour to connect to IP:8000/rooms/your_room*"
   ]
  },
  {
   "cell_type": "markdown",
   "id": "d08349f0-df54-4d27-9956-ca4c0476a61f",
   "metadata": {
    "editable": true,
    "slideshow": {
     "slide_type": "subslide"
    },
    "tags": []
   },
   "source": [
    "## The Admin Report\n",
    "\n",
    "The **Admin Report** is a customizable page added to the admin interface under the tab labeled **\"Report\"**.\n",
    "  \n",
    "**_Why Use the Admin Report?_**\n",
    "- Create customized payment pages.\n",
    "- Display key information about players and groups.\n",
    "- Show live statistics from ongoing sessions.\n",
    "- Visualize data in tables or graphs (using tools like **Highcharts**).\n",
    "\n",
    "The Admin Report is useful for tracking session progress or summarizing results."
   ]
  },
  {
   "cell_type": "markdown",
   "id": "714e21e4-9f0c-418b-a12e-a2fc00219399",
   "metadata": {
    "editable": true,
    "slideshow": {
     "slide_type": "subslide"
    },
    "tags": []
   },
   "source": [
    "### Creating the Admin Report\n",
    "\n",
    "- To add data to the Admin Report, create a method called **`vars_for_admin_report()`** in the **Subsession** class.\n",
    "- This method returns a dictionary containing the data you want to display in the admin report.\n",
    "\n",
    "```python\n",
    "def vars_for_admin_report(subsession: Subsession):\n",
    "    infos_groups = list()\n",
    "    for g in subsession.get_groups():\n",
    "        trustor = g.get_player_by_role(C.TRUSTOR_ROLE)\n",
    "        trustee = g.get_player_by_role(C.TRUSTEE_ROLE)\n",
    "        infos_groups.append(\n",
    "            dict(\n",
    "                group_id=g.id_in_subsession,\n",
    "                trustor=trustor.id_in_subsession,\n",
    "                trustee=trustee.id_in_subsession,\n",
    "                amount_sent=trustor.field_maybe_none(\"amount_sent\"),\n",
    "                amount_sent_back=trustee.field_maybe_none(\"amount_sent_back\"),\n",
    "                trustor_payoff=trustor.payoff,\n",
    "                trustee_payoff=trustee.payoff\n",
    "            )\n",
    "        )\n",
    "    return dict(infos_groups=infos_groups)\n",
    "```"
   ]
  },
  {
   "cell_type": "markdown",
   "id": "d09b20b2-4c1a-498b-9070-cce71d913ac8",
   "metadata": {
    "editable": true,
    "slideshow": {
     "slide_type": "subslide"
    },
    "tags": []
   },
   "source": [
    "### Creating the Admin Report Template**\n",
    "\n",
    "Next, create an HTML file called **`admin_report.html`** to display the data in the report.\n",
    "\n",
    "```html\n",
    "<table class=\"table\">\n",
    "    <thead>\n",
    "    <tr>\n",
    "        <th>Group</th>\n",
    "        <th>Trustor</th>\n",
    "        <th>Trustee</th>\n",
    "        <th>Amount sent</th>\n",
    "        <th>Amount sent back</th>\n",
    "        <th>Trustor's payoff</th>\n",
    "        <th>Trustee's payoff</th>\n",
    "    </tr>\n",
    "    </thead>\n",
    "    <tbody>\n",
    "    {{ for g in infos_groups }}\n",
    "    <tr>\n",
    "        <td>g{{ g.group_id }}</td>\n",
    "        <td>p{{ g.trustor }}</td>\n",
    "        <td>p{{ g.trustee }}</td>\n",
    "        <td>{{ g.amount_sent }}</td>\n",
    "        <td>{{ g.amount_sent_back }}</td>\n",
    "        <td>{{ g.trustor_payoff }}</td>\n",
    "        <td>{{ g.trustee_payoff }}</td>\n",
    "    </tr>\n",
    "    {{ endfor }}\n",
    "    </tbody>\n",
    "</table>\n",
    "```"
   ]
  },
  {
   "cell_type": "markdown",
   "id": "1e593288-7e3a-42a2-9076-2d8f511f68ab",
   "metadata": {
    "editable": true,
    "slideshow": {
     "slide_type": "subslide"
    },
    "tags": []
   },
   "source": [
    "### Customizing the Admin Report\n",
    "\n",
    "You can further customize the Admin Report by adding different data fields, using graphs, or integrating real-time statistics.\n",
    "\n",
    "1. **Live Statistics**: Show real-time updates for variables like contributions or payoffs.\n",
    "2. **Graphical Representation**: Use tools like **Highcharts** to display data in charts or graphs.\n",
    "3. **Additional Data**: Add more player-specific or group-specific data to provide a deeper view of the session's progress.\n",
    "  \n",
    "💬 This flexibility allows you to monitor any key metrics of your experiment in real-time."
   ]
  },
  {
   "cell_type": "markdown",
   "id": "hazardous-immune",
   "metadata": {
    "editable": true,
    "slideshow": {
     "slide_type": "subslide"
    },
    "tags": []
   },
   "source": [
    "### 💻 Exercice\n",
    "\n",
    "Create an admin report for the public goods game."
   ]
  },
  {
   "cell_type": "markdown",
   "id": "fd0bbdb5-dec8-4e4e-9c39-3a6ec1f81180",
   "metadata": {
    "editable": true,
    "slideshow": {
     "slide_type": "slide"
    },
    "tags": []
   },
   "source": [
    "# Real-Time Interactions"
   ]
  },
  {
   "cell_type": "markdown",
   "id": "f67ffaa1-3810-4cd6-86ae-5996ffc8182c",
   "metadata": {
    "editable": true,
    "slideshow": {
     "slide_type": "subslide"
    },
    "tags": []
   },
   "source": [
    "Many experiments require participants to interact with each other in real-time or to see immediate feedback based on their or others' actions.\n",
    "\n",
    "**_Use Cases_**\n",
    "1. **Live decision-making**: Where participants' choices immediately affect other participants.\n",
    "2. **Real-time feedback**: Displaying immediate updates or feedback based on group contributions, payoffs, or other variables.\n",
    "3. **Dynamic updates**: Changing experiment parameters (e.g., payoffs, group composition) based on participants’ actions."
   ]
  },
  {
   "cell_type": "markdown",
   "id": "bc068e1e-870c-4e36-88b7-382d553c5634",
   "metadata": {
    "editable": true,
    "slideshow": {
     "slide_type": "subslide"
    },
    "tags": []
   },
   "source": [
    "## The `live_method`\n",
    "\n",
    "The **`live_method`** allows for **live communication** between the web page and the server during the experiment.\n",
    "  \n",
    "- Players can send and receive messages instantly\n",
    "- Great for:\n",
    "  - Live auctions\n",
    "  - Real-time negotiations\n",
    "  - Multiplayer coordination games\n",
    "  - Continuous updates (e.g. timers, feedback, movement)\n",
    "\n",
    "  \n",
    "### Javascript\n",
    "\n",
    "In the webpage :\n",
    "\n",
    "- **`liveSend(data)`**: Sends data (usually a dictionary) to the server.\n",
    "- **`liveRecv(data)`**: Receives data from the server and updates the web page."
   ]
  },
  {
   "cell_type": "markdown",
   "id": "0709ae3e-6225-4a43-aaec-6e066d76cd58",
   "metadata": {
    "editable": true,
    "slideshow": {
     "slide_type": "subslide"
    },
    "tags": []
   },
   "source": [
    "### Python\n",
    "\n",
    "The **`live_method`** in the corresponding page class receives the data, processes it, and sends a response.\n",
    "  \n",
    "**`live_method(player: Player, data)`**:\n",
    "\n",
    "   - Handles incoming data from the web page.\n",
    "   - Processes the data.\n",
    "   - Returns a dictionary where:\n",
    "     - The **key** is the recipient player's `id_in_group` (or `0` for all players).\n",
    "     - The **value** is the data to be sent back to the player(s).\n",
    "  \n",
    "### Communication Flow\n",
    "\n",
    "1. **HTML page (JavaScript)**: `liveSend(data)`\n",
    "2. **Python page class**: `live_method(player, data)`\n",
    "3. **HTML page (JavaScript)**: `liveRecv(data)`\n"
   ]
  },
  {
   "cell_type": "markdown",
   "id": "6c01b746-8ce7-4ee8-bbaf-5d100b8e366a",
   "metadata": {
    "editable": true,
    "slideshow": {
     "slide_type": "subslide"
    },
    "tags": []
   },
   "source": [
    "## Practical Example: Sending a Random Value\n",
    "\n",
    "**_Scenario_**:  \n",
    "Each player sends a random value to all other players in their group.\n",
    "\n",
    "### Step 1\n",
    "\n",
    "in the `__init__.py` file \n",
    "\n",
    "```python\n",
    "class Decision(Page):\n",
    "    def live_method(player: Player, data):\n",
    "        print(data)  # Debugging: check the data received\n",
    "        data[\"sender\"] = player.id_in_group  # Add sender information\n",
    "        return {0: data}  # Send data to all players in the group\n",
    "```"
   ]
  },
  {
   "cell_type": "markdown",
   "id": "b2ae0b7d-05b7-4935-b932-c6a902a99f7d",
   "metadata": {
    "editable": true,
    "slideshow": {
     "slide_type": "subslide"
    },
    "tags": []
   },
   "source": [
    "### Step 2\n",
    "\n",
    "in the Decision.html\n",
    "\n",
    "```html\n",
    "{{ block content }}\n",
    "<button type=\"button\" class=\"btn btn-secondary\" onclick=\"send_random_value()\">Send a random value</button>\n",
    "{{ endblock }}\n",
    "\n",
    "{{ block scripts }}\n",
    "<script>\n",
    "    // Function to send a random value to the server\n",
    "    function send_random_value() {\n",
    "        let random_value = Math.random();  // Generate a random number\n",
    "        console.log(`Sending: ${random_value}`);\n",
    "        liveSend({random_value: random_value});  // Send the random value\n",
    "    }\n",
    "    \n",
    "    // Function to receive live data from the server\n",
    "    function liveRecv(data) {\n",
    "        console.log('Received:');\n",
    "        for (let [key, value] of Object.entries(data)) {\n",
    "            console.log(`${key}: ${value}`);  // Display the received data\n",
    "        }\n",
    "    }\n",
    "</script>\n",
    "{{ endblock }}\n",
    "```"
   ]
  },
  {
   "cell_type": "markdown",
   "id": "b5505aaf-105f-4182-8015-b505047044af",
   "metadata": {
    "editable": true,
    "slideshow": {
     "slide_type": "subslide"
    },
    "tags": []
   },
   "source": [
    "### Flow\n",
    "\n",
    "- **`liveSend({random_value})`**: When the player clicks the button, a random value is generated and sent to the server.\n",
    "  \n",
    "- **`live_method(player, data)`**: The server receives the data, adds the player's `id_in_group` to indicate the sender, and sends it back to all group members (`return {0: data}`).\n",
    "\n",
    "- **`liveRecv(data)`**: All players in the group receive the updated data and log it in the browser's console.\n"
   ]
  },
  {
   "cell_type": "markdown",
   "id": "53282784-a2a1-47c3-a571-13d7e928984d",
   "metadata": {
    "editable": true,
    "slideshow": {
     "slide_type": "subslide"
    },
    "tags": []
   },
   "source": [
    "## 💻 Exercice: Real-Time Shared Counter\n",
    "\n",
    "App **`live_counter`**\n",
    "\n",
    "Create a simple app where players in a group can increment a shared counter.\n",
    "When a player clicks a button, the counter is incremented, and all group members see the updated value in real-time.\n",
    "\n",
    "**Steps**:\n",
    "- Create a new oTree app called live_counter.\n",
    "- Set up a group-level counter that all players can interact with.\n",
    "Live Interaction:\n",
    "- Use live_method to handle the live communication between the players and the server.\n",
    "- Each time a player clicks a button, the counter is incremented and the updated value is sent to all players in the group."
   ]
  },
  {
   "cell_type": "markdown",
   "id": "68190a53-e53e-44af-97a2-380f550f70af",
   "metadata": {
    "editable": true,
    "slideshow": {
     "slide_type": "slide"
    },
    "tags": []
   },
   "source": [
    "# Highcharts"
   ]
  },
  {
   "cell_type": "markdown",
   "id": "03758ff2-c040-4bd4-9ff9-ee38ab5de547",
   "metadata": {
    "editable": true,
    "slideshow": {
     "slide_type": "subslide"
    },
    "tags": []
   },
   "source": [
    "**Highcharts** is a powerfull JavaScript library for creating interactive charts.\n",
    "\n",
    "- Supports many chart types of charts:  **line, bar, pie**, and more.\n",
    "- Easy to integrate with oTree to visualize:\n",
    "    - Payoffs\n",
    "    - Contributions\n",
    "    - Performance trends\n",
    "    - etc.\n",
    "- Great for displaying **real-time** or **historical data**\n",
    "- Fully **customizable** and mobile-friendly\n"
   ]
  },
  {
   "cell_type": "markdown",
   "id": "fbb200b4-d5c1-4216-860b-94caae48ef5f",
   "metadata": {
    "editable": true,
    "slideshow": {
     "slide_type": "subslide"
    },
    "tags": []
   },
   "source": [
    "## Include Highcharts in oTree\n",
    "\n",
    "To use Highcharts, include the library via a **CDN** in the HTML template:\n",
    "\n",
    "```html\n",
    "<script src=\"https://code.highcharts.com/highcharts.js\"></script>\n",
    "```\n",
    "\n",
    "💬 This loads the Highcharts library\n",
    "\n",
    "Then, create a container where the chart will be rendered:\n",
    "\n",
    "```html\n",
    "<div id=\"my_chart\" style=\"width:100%; height:400px;\"></div>\n",
    "```\n",
    "\n",
    "💬 id=\"my_chart\" defines the **target DOM element** where the chart will appear."
   ]
  },
  {
   "cell_type": "markdown",
   "id": "ef54a7a2-c7d1-4289-aee0-1100801446d4",
   "metadata": {
    "editable": true,
    "slideshow": {
     "slide_type": "subslide"
    },
    "tags": []
   },
   "source": [
    "## Creating a Basic Highcharts Chart\n",
    "\n",
    "**Add the following JavaScript code in the HTML Template**\n",
    "\n",
    "```html\n",
    "<script>\n",
    "    document.addEventListener('DOMContentLoaded', function () {\n",
    "        Highcharts.chart('my_chart', {\n",
    "            chart: { type: 'line' },  // Chart type\n",
    "            title: { text: 'Payoffs Over Time' },  // Chart title\n",
    "            xAxis: { categories: ['Round 1', 'Round 2', 'Round 3'] },  // X-axis categories\n",
    "            yAxis: { title: { text: 'Payoff (ECU)' } },  // Y-axis label\n",
    "            series: [{\n",
    "                name: 'Player 1',\n",
    "                data: [100, 120, 130]  // Sample data points\n",
    "            }, {\n",
    "                name: 'Player 2',\n",
    "                data: [90, 110, 150]  // Another series of data\n",
    "            }]\n",
    "        });\n",
    "    });\n",
    "</script>\n",
    "```"
   ]
  },
  {
   "cell_type": "markdown",
   "id": "1b741520-6588-4cd9-b7f9-7337211fce14",
   "metadata": {
    "editable": true,
    "jp-MarkdownHeadingCollapsed": true,
    "slideshow": {
     "slide_type": "subslide"
    },
    "tags": []
   },
   "source": [
    "**📌 Key elements:**\n",
    "\n",
    "- chart.type: Chart type (e.g., line, bar, pie).\n",
    "- xAxis.categories: X-axis labels (e.g., rounds, categories).\n",
    "- series: The actual data to plot (can be multiple players/groups)"
   ]
  },
  {
   "cell_type": "markdown",
   "id": "df0b1591-dbbb-45f0-9803-1171b00308e8",
   "metadata": {
    "editable": true,
    "slideshow": {
     "slide_type": "subslide"
    },
    "tags": []
   },
   "source": [
    "## Using Dynamic Data with `js_vars`\n",
    "\n",
    "You can pass dynamic data from Python to Highcharts using the **`js_vars()`** method in your Page class.\n",
    "\n",
    "### Python (Results page)\n",
    "\n",
    "```python\n",
    "class Results(Page):\n",
    "    def js_vars(player: Player):\n",
    "        return {\n",
    "            'rounds': ['Round 1', 'Round 2', 'Round 3'],\n",
    "            'payoff_data': [player.in_round(1).payoff, player.in_round(2).payoff, player.in_round(3).payoff]\n",
    "        }\n",
    "```"
   ]
  },
  {
   "cell_type": "markdown",
   "id": "3b3f9890-6c90-4546-9b70-e0ba74dc4e8c",
   "metadata": {
    "editable": true,
    "slideshow": {
     "slide_type": "subslide"
    },
    "tags": []
   },
   "source": [
    "### Javascript (HTML Template)\n",
    "```html\n",
    "<script>\n",
    "    document.addEventListener('DOMContentLoaded', function () {\n",
    "        Highcharts.chart('my_chart', {\n",
    "            chart: { type: 'line' },\n",
    "            title: { text: 'Your Payoffs Over Rounds' },\n",
    "            xAxis: { categories: js_vars.rounds },\n",
    "            yAxis: { title: { text: 'Payoff (ECU)' } },\n",
    "            series: [{\n",
    "                name: 'Your Payoff',\n",
    "                data: js_vars.payoff_data\n",
    "            }]\n",
    "        });\n",
    "    });\n",
    "</script>\n",
    "```"
   ]
  },
  {
   "cell_type": "markdown",
   "id": "2ae29ae1-6e74-4f35-a455-e6ea1e1fa440",
   "metadata": {
    "editable": true,
    "slideshow": {
     "slide_type": "subslide"
    },
    "tags": []
   },
   "source": [
    "## Summary\n",
    "\n",
    "1. **Include Highcharts**: Add the Highcharts CDN to your oTree templates.\n",
    "2. **Create Charts**: Use the Highcharts API to create charts for data visualization.\n",
    "3. **Dynamic Data**: Pass dynamic data from Python using `js_vars()` to create real-time charts.\n",
    "4. **Customize**: Adjust chart types, titles, and axes to suit the experiment.\n",
    "\n",
    "💬 Highcharts enables rich, interactive data visualization in oTree, perfect for real-time feedback or performance analysis.\n"
   ]
  },
  {
   "cell_type": "markdown",
   "id": "6c92d36d-2403-4e73-ad8d-8fd841f59b71",
   "metadata": {
    "editable": true,
    "slideshow": {
     "slide_type": "subslide"
    },
    "tags": []
   },
   "source": [
    "## 💻 Exercise: Visualize Group Contributions in the Admin Report\n",
    "\n",
    "- Use **Highcharts** to draw the evolution of **group contributions** over multiple rounds in the Public Goods Game (PGG).\n",
    "- Display this chart in the **Admin Report** for real-time monitoring of group contributions.\n",
    "\n",
    "**_Steps_**:\n",
    "1. Collect group contribution data across rounds.\n",
    "2. Pass this data to the Admin Report.\n",
    "3. Use Highcharts to visualize the data.\n",
    "\n",
    "*➡️ To be continued on the next slide*"
   ]
  },
  {
   "cell_type": "markdown",
   "id": "537c3929-3965-4c63-957a-52592667fb86",
   "metadata": {
    "editable": true,
    "jp-MarkdownHeadingCollapsed": true,
    "slideshow": {
     "slide_type": "subslide"
    },
    "tags": []
   },
   "source": [
    "⚠️ `js_vars()` doesn't exist for `admin_report`.  \n",
    "However it is possible to use the **`|json` filter**  \n",
    "\n",
    "```python\n",
    "def vars_for_admin_report(subsession):\n",
    "    return dict(my_data=[100, 120, 130])\n",
    "```\n",
    "\n",
    "```javascript\n",
    "<script>\n",
    "    const myData = {{ my_data|json }};\n",
    "    console.log(myData);  // Output: [100, 120, 130]\n",
    "</script>\n",
    "```"
   ]
  },
  {
   "cell_type": "markdown",
   "id": "experimental-bangkok",
   "metadata": {
    "editable": true,
    "slideshow": {
     "slide_type": "slide"
    },
    "tags": []
   },
   "source": [
    "# Bootstrap"
   ]
  },
  {
   "cell_type": "markdown",
   "id": "cc575a06-63bf-44cb-805b-167916e8312e",
   "metadata": {
    "editable": true,
    "slideshow": {
     "slide_type": "subslide"
    },
    "tags": []
   },
   "source": [
    "**Bootstrap** is a popular, open-source CSS framework that helps create responsive, mobile-first websites with minimal effort.\n",
    "  \n",
    "**_Why Use Bootstrap in oTree?_**\n",
    "- Provides pre-built classes for styling buttons, tables, forms, grids, and more.\n",
    "- Helps make experiments look clean and professional with minimal custom CSS.\n",
    "- Supports **responsive design**, so your experiment looks good on all screen sizes (desktop, tablet, mobile).\n",
    "\n",
    "Bootstrap is included by default in oTree templates.  \n",
    "[Boostrap's website](https://getbootstrap.com/docs/5.0/getting-started/introduction/)"
   ]
  },
  {
   "cell_type": "markdown",
   "id": "125f8043-0b6b-4452-8b4c-e831b804794e",
   "metadata": {
    "editable": true,
    "slideshow": {
     "slide_type": "subslide"
    },
    "tags": []
   },
   "source": [
    "## The Bootstrap Grid System\n",
    "\n",
    "- Bootstrap uses a **12-column grid system** to create responsive layouts.\n",
    "  \n",
    "_Example_:\n",
    "```html\n",
    "<div class=\"container\">\n",
    "    <div class=\"row\">\n",
    "        <div class=\"col-md-6\">50% width</div>\n",
    "        <div class=\"col-md-6\">50% width</div>\n",
    "    </div>\n",
    "</div>\n",
    "```\n",
    "- .container: Centers content and adds padding.\n",
    "- .row: Creates a row to contain columns.\n",
    "- .col-md-*: Defines column widths. The grid is based on 12 columns, so col-md-6 takes up half the width (6/12).\n",
    "\n",
    "Bootstrap's grid system ensures your layout adjusts seamlessly on different devices."
   ]
  },
  {
   "cell_type": "markdown",
   "id": "576f671a-2100-4c42-a0c3-4f6ed3c8a498",
   "metadata": {
    "editable": true,
    "slideshow": {
     "slide_type": "subslide"
    },
    "tags": []
   },
   "source": [
    "## Bootstrap Buttons\n",
    "\n",
    "- Bootstrap provides pre-defined button styles for quick use.\n",
    "\n",
    "_Example_:\n",
    "```html\n",
    "<button class=\"btn btn-primary\">Primary Button</button>\n",
    "<button class=\"btn btn-secondary\">Secondary Button</button>\n",
    "<button class=\"btn btn-success\">Success Button</button>\n",
    "```\n",
    "- .btn: The base class for all buttons.\n",
    "- .btn-primary: Blue button, often used for primary actions.\n",
    "- .btn-secondary: Gray button for secondary actions.\n",
    "- .btn-success: Green button, often used for success messages.\n",
    "\n",
    "Bootstrap offers many other button styles, such as danger (red), warning (yellow), and more."
   ]
  },
  {
   "cell_type": "markdown",
   "id": "1df15761-c956-4532-afad-eaa9cb3ef807",
   "metadata": {
    "editable": true,
    "slideshow": {
     "slide_type": "subslide"
    },
    "tags": []
   },
   "source": [
    "## Bootstrap Tables\n",
    "\n",
    "You can easily create styled tables with Bootstrap classes.\n",
    "\n",
    "_Example_:\n",
    "```html\n",
    "<table class=\"table table-striped\">\n",
    "    <thead>\n",
    "        <tr>\n",
    "            <th>#</th>\n",
    "            <th>First Name</th>\n",
    "            <th>Last Name</th>\n",
    "            <th>Email</th>\n",
    "        </tr>\n",
    "    </thead>\n",
    "    <tbody>\n",
    "        <tr>\n",
    "            <td>1</td>\n",
    "            <td>John</td>\n",
    "            <td>Doe</td>\n",
    "            <td>john.doe@example.com</td>\n",
    "        </tr>\n",
    "    </tbody>\n",
    "</table>\n",
    "```\n",
    "- .table: Applies basic Bootstrap styling to the table.\n",
    "- .table-striped: Adds alternating row colors.\n",
    "\n",
    "Bootstrap also provides classes like .table-bordered and .table-hover for additional styles."
   ]
  },
  {
   "cell_type": "markdown",
   "id": "c978c9b4-ef5c-4335-ab6b-530151db853d",
   "metadata": {
    "editable": true,
    "slideshow": {
     "slide_type": "subslide"
    },
    "tags": []
   },
   "source": [
    "## Bootstrap Cards\n",
    "\n",
    "**Bootstrap Cards** are flexible content containers with multiple variants, often used for:\n",
    "  - Displaying information in a well-structured way.\n",
    "  - Grouping related content.\n",
    "  - **Displaying instructions** or text at the top of pages in oTree experiments.\n",
    "\n",
    "_Card Structure_:\n",
    "```html\n",
    "<div class=\"card\">\n",
    "    <div class=\"card-header\">\n",
    "        <h5 class=\"card-title\">Card Title</h5>\n",
    "    </div>\n",
    "    <div class=\"card-body\">\n",
    "        <p class=\"card-text\">This is some text within a card body.</p>\n",
    "    </div>\n",
    "    <div class=card-footer\">\n",
    "        <p>Card footer</p>\n",
    "    </div>\n",
    "</div>\n",
    "```"
   ]
  },
  {
   "cell_type": "markdown",
   "id": "secret-amateur",
   "metadata": {
    "editable": true,
    "slideshow": {
     "slide_type": "subslide"
    },
    "tags": []
   },
   "source": [
    "## 💻 Exercice: Improving Web Interfaces with Bootstrap\n",
    "\n",
    "Improve the design of the **Public Goods Game** web interfaces by:\n",
    "  1. Using Bootstrap **cards** in the decision and results pages.\n",
    "  2. Enhancing the style of the **history table**.\n"
   ]
  },
  {
   "cell_type": "markdown",
   "id": "9dcdf698",
   "metadata": {
    "editable": true,
    "slideshow": {
     "slide_type": "slide"
    },
    "tags": []
   },
   "source": [
    "# Internationalisation"
   ]
  },
  {
   "cell_type": "markdown",
   "id": "4e03b64a",
   "metadata": {
    "slideshow": {
     "slide_type": "subslide"
    }
   },
   "source": [
    "## Lexicon\n",
    "\n",
    "Create a lexicon with the words or sentences translated in the different languages. For example, a file **lexicon_en.py**:\n",
    "\n",
    "```python\n",
    "class Lexicon:\n",
    "    amount_sent=\"You have to decide the amount you sent to the trustee.\"\n",
    "    amount_sent_back=\"You have to decide the amount you sent back to the trustor.\"\n",
    "```\n",
    "\n",
    "and a file **lexicon_fr.py**\n",
    "\n",
    "```python\n",
    "class Lexicon:\n",
    "    amount_sent=\"Vous devez décider du montant que vous  envoyez au joueur B.\"\n",
    "    amount_sent_back=\"Vous devez décider du montant que vous renvoyez au joueur A.\"\n",
    "```"
   ]
  },
  {
   "cell_type": "markdown",
   "id": "d73f9db9",
   "metadata": {
    "slideshow": {
     "slide_type": "subslide"
    }
   },
   "source": [
    "Import the language code and depending on it import the corresponding lexicon file\n",
    "\n",
    "In the \\_\\_init\\_\\_ file in the import section\n",
    "\n",
    "```python\n",
    "from settings import LANGUAGE_CODE\n",
    "\n",
    "if LANGUAGE_CODE == 'en':\n",
    "    from .lexicon_en import Lexicon\n",
    "else:\n",
    "    from .lexicon_fr import Lexicon\n",
    "```\n",
    "\n",
    "\n"
   ]
  },
  {
   "cell_type": "markdown",
   "id": "0da0428b",
   "metadata": {
    "slideshow": {
     "slide_type": "subslide"
    }
   },
   "source": [
    "In the page class you add the lexicon in the vars_for_template method\n",
    "```python\n",
    "class DecisionTrustor(Page):\n",
    "    def vars_for_template(player: Player):\n",
    "        return dict(\n",
    "            language=LANGUAGE_CODE,\n",
    "            lexicon=Lexicon\n",
    "        )\n",
    "```\n",
    "and then in the html file\n",
    "```html\n",
    "{{ lexicon.amount_sent }}\n",
    "```"
   ]
  },
  {
   "cell_type": "markdown",
   "id": "52f7d1ef",
   "metadata": {
    "slideshow": {
     "slide_type": "subslide"
    }
   },
   "source": [
    "## Conditional structure\n",
    "\n",
    "For long sentences or whole paragraphs, or if some variables are needed (as ```player.payoff``` for example), it is easier to use the if statement\n",
    "\n",
    "```html\n",
    "{{ if language == \"fr\" }}\n",
    "    <p>\n",
    "        Un paragraphe en français\n",
    "    </p>\n",
    "    \n",
    "{{ elif language == \"en\" }}\n",
    "    <p>\n",
    "        a paragraph in english.\n",
    "    </p>\n",
    "    \n",
    "{{ endif }}\n",
    "```"
   ]
  },
  {
   "cell_type": "markdown",
   "id": "39853a28",
   "metadata": {
    "editable": true,
    "slideshow": {
     "slide_type": "subslide"
    },
    "tags": []
   },
   "source": [
    "## 💻 Exercice\n",
    "\n",
    "Add a language for one of the applications"
   ]
  },
  {
   "cell_type": "markdown",
   "id": "48f4fda8",
   "metadata": {
    "editable": true,
    "slideshow": {
     "slide_type": "slide"
    },
    "tags": []
   },
   "source": [
    "# Tips & tricks"
   ]
  },
  {
   "cell_type": "markdown",
   "id": "f04cf46e-3ea9-4cd2-b56d-fae8916b2328",
   "metadata": {
    "editable": true,
    "jp-MarkdownHeadingCollapsed": true,
    "slideshow": {
     "slide_type": "subslide"
    },
    "tags": []
   },
   "source": [
    "## Displaying Form Fields in a Table\n",
    "\n",
    "- By default, when using **`{{ formfields }}`** in oTree, the fields and labels are displayed one below the other.\n",
    "- To change this layout, you can use an HTML table to align the labels and input fields in a more structured way.\n",
    "\n",
    "```html\n",
    "<table class=\"table\">\n",
    "    {{ for field in form }}\n",
    "    <tr>\n",
    "        <td>{{ field.label }}</td>\n",
    "        <td>{{ field }}</td>\n",
    "    </tr>\n",
    "    {{ endfor }}\n",
    "</table>\n",
    "```\n",
    "The class='table' attribute adds basic styling using Bootstrap."
   ]
  },
  {
   "cell_type": "markdown",
   "id": "c6efd7aa-0130-4c2c-8352-91ab92161ecd",
   "metadata": {
    "editable": true,
    "slideshow": {
     "slide_type": "subslide"
    },
    "tags": []
   },
   "source": [
    "## Creating a Game History for Repeated Games\n",
    "\n",
    "- In repeated games (e.g., Public Goods Game), it is helpful to display the **history** of decisions and payoffs from previous rounds.\n",
    "- You can use a **for loop** in the HTML to iterate through past rounds and display the data in a table.\n",
    "  \n",
    "**Useful Methods**:\n",
    "- **`player.in_all_rounds`**: Accesses the data for all rounds.\n",
    "- **`player.in_previous_rounds`**: Accesses the data for previous rounds only."
   ]
  },
  {
   "cell_type": "markdown",
   "id": "44cf0a0e-1fd5-4f21-8049-c9ec13ab46a8",
   "metadata": {
    "editable": true,
    "slideshow": {
     "slide_type": "subslide"
    },
    "tags": []
   },
   "source": [
    "```html\n",
    "<table class=\"table\">\n",
    "    <thead>\n",
    "        <tr>\n",
    "            <th>Round</th>\n",
    "            <th>Keep</th>\n",
    "            <th>Contribution</th>\n",
    "            <th>Group Total Contribution</th>\n",
    "            <th>Payoff</th>\n",
    "        </tr>\n",
    "    </thead>\n",
    "    <tbody>\n",
    "        {{ for p in player.in_all_rounds }}\n",
    "        <tr>\n",
    "            <td>{{ p.round_number }}</td>\n",
    "            <td>{{ keep }}</td>\n",
    "            <td>{{ contribution }}</td>\n",
    "            <td>{{ p.group.total_contribution }}</td>\n",
    "            <td>{{ p.payoff }}</td>\n",
    "         </tr>\n",
    "        {{ endfor }}\n",
    "    </tbody>\n",
    "</table>\n",
    "```"
   ]
  },
  {
   "cell_type": "markdown",
   "id": "3dd8ae74-5ff8-4ad5-9958-7164d7571e83",
   "metadata": {
    "editable": true,
    "slideshow": {
     "slide_type": "subslide"
    },
    "tags": []
   },
   "source": [
    "## Including Images in Your Web Pages\n",
    "\n",
    "- To add an image to your oTree application, first create a subfolder `static/application_name` in your app folder, and put the image inside.\n",
    "- Then, include the image in your HTML file using the **`img`** tag.\n",
    "\n",
    "```html\n",
    "<img src=\"{{ static 'application_name/picture_name.png' }}\" />\n",
    "```\n",
    "You can also use this method for videos and audio files, but it’s generally better to host large media files externally and link to them in the src attribute."
   ]
  },
  {
   "cell_type": "markdown",
   "id": "5939d8a2-4378-43cb-9902-14003d31b52f",
   "metadata": {
    "editable": true,
    "slideshow": {
     "slide_type": "subslide"
    },
    "tags": []
   },
   "source": [
    "## Exporting Parameters via `SESSION_CONFIGS`\n",
    "\n",
    "- If you plan to run multiple treatments, it’s a good idea to set certain parameters in **`SESSION_CONFIGS`**, rather than hard-coding them in the app.\n",
    "- This allows for flexibility when configuring different sessions with varying parameters.\n",
    "\n",
    "**Example: MPCR in the Public Goods Game**\n",
    "- Instead of setting **MPCR** directly in the `C` class, you can define it in `SESSION_CONFIGS`:\n",
    "\n",
    "```python\n",
    "SESSION_CONFIGS = [\n",
    "    dict(\n",
    "        name=\"public_goods\",\n",
    "        display_name=\"Public Goods Game\",\n",
    "        app_sequence=[\"public_goods\"],\n",
    "        num_demo_participants=4,\n",
    "        mpcr=0.5  # MPCR is configurable here\n",
    "    ),\n",
    "]\n",
    "```"
   ]
  },
  {
   "cell_type": "markdown",
   "id": "38ba9e64-4916-42bb-b745-02cda6ed70d7",
   "metadata": {
    "editable": true,
    "slideshow": {
     "slide_type": "subslide"
    },
    "tags": []
   },
   "source": [
    "In the **`creating_session method`**, retrieve the parameter like this:\n",
    "\n",
    "```python\n",
    "class Subsession(BaseSubsession):\n",
    "    mpcr = models.FloatField()\n",
    "\n",
    "def creating_session(subsession: Subsession):\n",
    "    subsession.mpcr = subsession.session.config[\"mpcr\"]\n",
    "```\n"
   ]
  },
  {
   "cell_type": "markdown",
   "id": "f0af0f1b-bd64-46d8-b17c-abf1746a4abe",
   "metadata": {
    "editable": true,
    "slideshow": {
     "slide_type": "subslide"
    },
    "tags": []
   },
   "source": [
    "## Payments\n",
    "\n",
    "- the tab \"Payments\" displays the payoff of each participant\n",
    "- the value displayed is given by the variable **participant.payoff**\n",
    "- it is equal to the cumulative payoff since the beginning of the session, i.e. the cumulative value of **player.payoff** (for each round of each application)\n",
    "- the value can be overriden by setting player.participant.payoff = new_value\n",
    "- it is the case for example if we want to pay only one round or only one application"
   ]
  },
  {
   "cell_type": "markdown",
   "id": "65c081eb-f47e-4596-9906-948fd0b31630",
   "metadata": {
    "editable": true,
    "slideshow": {
     "slide_type": "subslide"
    },
    "tags": []
   },
   "source": [
    "### Pay only one round of the repeated game\n",
    "\n",
    "- create a method and call this method just before the end of the application\n",
    "- inside this method, select the paid round and set the value of this round's payoff to participant.payoff\n",
    "\n",
    "```python\n",
    "# ADDITIONAL METHODS\n",
    "def set_final_payoff(player: Player):\n",
    "    paid_round = random.randint(1, C.NUM_ROUNDS)\n",
    "    player.participant.payoff = player.in_round(paid_round).payoff\n",
    "\n",
    "# PAGES\n",
    "class Results(Page):\n",
    "    def before_next_page(player: Player, timeout_happened):\n",
    "        if player.round_number == C.NUM_ROUNDS:\n",
    "            set_final_payoff(player)\n",
    "```"
   ]
  },
  {
   "cell_type": "markdown",
   "id": "b3c1c2f6-c5e5-4297-9c7c-4643ee1f851b",
   "metadata": {
    "editable": true,
    "slideshow": {
     "slide_type": "subslide"
    },
    "tags": []
   },
   "source": [
    "### Pay one application among several\n",
    "\n",
    "- there exists an attribute in the participant class, called vars, which is a dictionnary, and in which you can store whatever you want\n",
    "- the participant is the same in the different applications of the session, so you can access this \"vars\" dictionary from any application of the session\n",
    "- so, in a method called at the end of each application you store the player's payoff for this application in the participant.vars dictionnary \n",
    "- create a final application that displays the payoff of each application (with an explanation text)\n",
    "- within this \"final\" application, you randomly select the application that will actually be paid"
   ]
  },
  {
   "cell_type": "markdown",
   "id": "d80f501e-5e81-4764-a12e-353c5c3fcf6c",
   "metadata": {
    "editable": true,
    "slideshow": {
     "slide_type": "subslide"
    },
    "tags": []
   },
   "source": [
    "**In each application of the experiment** : \n",
    "```python\n",
    "# ADDITIONAL METHODS\n",
    "def set_final_payoff(player: Player):\n",
    "    paid_round = random.randint(1, C.NUM_ROUNDS)\n",
    "    txt_final = f\"Round {paid_round} has been randomly selected to be paid\"\n",
    "    player.participant.vars[\"app_name\"] = dict(\n",
    "        payoff=player.in_round(paid_round).payoff, \n",
    "        txt_final=txt_final\n",
    "    )\n",
    "        \n",
    "# PAGES\n",
    "class Results(Page):\n",
    "    def before_next_page(player: Player, timeout_happened):\n",
    "        if player.round_number == C.NUM_ROUNDS:\n",
    "            set_final_payoff(player)\n",
    "```"
   ]
  },
  {
   "cell_type": "markdown",
   "id": "78a8bda7-4bf1-45fb-8920-a5b3a06ff566",
   "metadata": {
    "editable": true,
    "slideshow": {
     "slide_type": "subslide"
    },
    "tags": []
   },
   "source": [
    "**In a final application** (app_sequence=[\"welcome\", \"public_goods\", \"investment_game\", demographics\", \"final\"]):\n",
    "\n",
    "```python\n",
    "# ADDITIONAL METHODS\n",
    "def select_paid_app(subsession: Subsession):\n",
    "    apps = [\"public_goods\", \"investment_game\"]  # the list of potentially paid applications\n",
    "    for p in subsession.get_players():\n",
    "        paid_app = random.choice(apps)\n",
    "        p.participant.payoff = p.participant.vars[paid_app][\"payoff\"]\n",
    "\n",
    "# PAGES\n",
    "class BeforeFinalPage(WaitPage):\n",
    "    wait_for_all_groups = True\n",
    "    \n",
    "    def after_all_players_arrive(subsession):\n",
    "        select_paid_app(subsession)\n",
    "        \n",
    "class Final(Page):\n",
    "    pass\n",
    "```"
   ]
  },
  {
   "cell_type": "markdown",
   "id": "207bcc07",
   "metadata": {
    "slideshow": {
     "slide_type": "subslide"
    }
   },
   "source": [
    "## Manual wait page\n",
    "\n",
    "- if the experimenter wants to read the instructions aloud after subjects have read them silently, i.e. the experimenter wants to control the moment at which the next page will be displayed\n",
    "- create a page without any button, so that subjects are forced to wait\n",
    "- use \"Advance slowest user\" on the administration page (server side), in the \"Monitor\" tab\n",
    "- by personal convention the name of this kind of page ends with \"WaitMonitor\"."
   ]
  },
  {
   "cell_type": "markdown",
   "id": "e0ca4a80",
   "metadata": {
    "slideshow": {
     "slide_type": "subslide"
    },
    "tags": []
   },
   "source": [
    "## Display a value as a currency \n",
    "\n",
    "- add ```|cu``` filter to the variable\n",
    "\n",
    "```html\n",
    "<p>\n",
    "    You have an endowment of {{ C.ENDOWMENT|cu }}.\n",
    "</p>\n",
    "```\n",
    "will display \"You have an endowment of €10.00\"."
   ]
  }
 ],
 "metadata": {
  "celltoolbar": "Diaporama",
  "kernelspec": {
   "display_name": "Python 3 (ipykernel)",
   "language": "python",
   "name": "python3"
  },
  "language_info": {
   "codemirror_mode": {
    "name": "ipython",
    "version": 3
   },
   "file_extension": ".py",
   "mimetype": "text/x-python",
   "name": "python",
   "nbconvert_exporter": "python",
   "pygments_lexer": "ipython3",
   "version": "3.12.8"
  },
  "reveal": {
   "slideNumber": true
  },
  "rise": {
   "custom_css": "custom.css",
   "overlay": true,
   "scroll": true,
   "slideNumber": true,
   "theme": "simple",
   "transition": "fade"
  },
  "toc": {
   "base_numbering": 1
  },
  "toc-autonumbering": true,
  "toc-showcode": false,
  "toc-showmarkdowntxt": false,
  "toc-showtags": false
 },
 "nbformat": 4,
 "nbformat_minor": 5
}

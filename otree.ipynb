{
 "cells": [
  {
   "cell_type": "markdown",
   "id": "lonely-wisdom",
   "metadata": {
    "editable": true,
    "slideshow": {
     "slide_type": ""
    },
    "tags": [],
    "toc-hr-collapsed": true
   },
   "source": [
    "# oTree - An open-source platform for behavioral research \n",
    "\n",
    "Dimitri DUBOIS  \n",
    "[dimitri.dubois@umontpellier.fr](mailto:dimitri.dubois@umontpellier.fr)"
   ]
  },
  {
   "cell_type": "markdown",
   "id": "broadband-appraisal",
   "metadata": {
    "editable": true,
    "slideshow": {
     "slide_type": "subslide"
    },
    "tags": []
   },
   "source": [
    "<span style=\"font-size: 1.5em;font-weight: 500\">Content</span>\n",
    "\n",
    "- [Introduction](#/1)\n",
    "- [Python](#/2) and [HTML](#/3)\n",
    "- [Getting started with oTree](#/4)\n",
    "- [Building a first oTree application](#/5)\n",
    "- [Customizing models and fields](#6)\n",
    "- [Managing flow and pages](#7)\n",
    "- [Group and multiplayer interaction](#/8)\n",
    "- [Automatic Execution and Simulations](#/9)\n",
    "- [Exporting Data and Data Wrangling](#/10)\n",
    "- [Role assignment, asymmetric web page sequencing and use of conditional structure in web pages](#/6)\n",
    "- [Tips to improve the existing applications](#/7)\n",
    "- [The admin side: rooms, payments and admin report](#/10)\n",
    "- [HTML, CSS and Bootstrap](#/11)\n",
    "- [Javascript](#/12)\n",
    "- [Live Method](#/13)\n",
    "- [Highcharts](#/14)\n",
    "- [Internationalisation](#/15)\n",
    "- [Tips & Tricks](#/16)"
   ]
  },
  {
   "cell_type": "markdown",
   "id": "located-algebra",
   "metadata": {
    "editable": true,
    "slideshow": {
     "slide_type": "slide"
    },
    "tags": []
   },
   "source": [
    "# Introduction"
   ]
  },
  {
   "cell_type": "markdown",
   "id": "3e6e424a",
   "metadata": {
    "editable": true,
    "slideshow": {
     "slide_type": "subslide"
    },
    "tags": []
   },
   "source": [
    "- **oTree** is an open-source framework built in Python.\n",
    "- It is used for creating **economic games** and **surveys**.\n",
    "- It is used in different fields like **economics, psychology, political science, management, finance, etc.** for running **online experiments, lab-in-the-field experiments and lab experiments**.\n",
    "\n",
    "**Key Features:**\n",
    "- Supports multiplayer interactions.\n",
    "- Runs on web browsers, making it easy to use in both labs and online.\n",
    "- Can be integrated with custom Python code (and JavaScript) for added flexibility.\n",
    "\n",
    "<figure style=\"margin-top: 20px\">\n",
    "<img src=\"img/otree_devices.png\" style=\"height: 200px\">\n",
    "</figure>\n"
   ]
  },
  {
   "cell_type": "markdown",
   "id": "0921fa27-73a3-4a3f-bf54-53fa941db52e",
   "metadata": {
    "editable": true,
    "slideshow": {
     "slide_type": "subslide"
    },
    "tags": []
   },
   "source": [
    "<figure style=\"display: inline-block\">\n",
    "<img src=\"img/leem.jpg\" alt=\"LEEM\">\n",
    "    <figcaption>Lab experiment</figcaption>\n",
    "</figure>\n"
   ]
  },
  {
   "cell_type": "markdown",
   "id": "1c587838-f398-4a91-b8b2-e2dcbddf3973",
   "metadata": {
    "editable": true,
    "slideshow": {
     "slide_type": "subslide"
    },
    "tags": []
   },
   "source": [
    "<figure style=\"display: inline-block\">\n",
    "    <img src=\"img/indonesie.jpg\" alt=\"Field experiment (Indonesia)\" alt=\"Indonésie\">\n",
    "    <figcaption>Lab-in-the-field experiment</figcaption>\n",
    "</figure>"
   ]
  },
  {
   "cell_type": "markdown",
   "id": "fd5e0eb4-8e60-4d14-9ee4-71b14615a8f1",
   "metadata": {
    "editable": true,
    "slideshow": {
     "slide_type": "subslide"
    },
    "tags": []
   },
   "source": [
    "<figure style=\"display: inline-block\">\n",
    "    <img src=\"img/internet.jpg\" alt=\"Online Experiment\" alt=\"Internet\">\n",
    "    <figcaption>Online experiment</figcaption>\n",
    "</figure>"
   ]
  },
  {
   "cell_type": "markdown",
   "id": "448f96ee",
   "metadata": {
    "editable": true,
    "slideshow": {
     "slide_type": "subslide"
    },
    "tags": []
   },
   "source": [
    "**oTree is commonly used to study:**\n",
    "\n",
    "- **Economic games with strategic interactions**: Prisoner's Dilemma, Ultimatum Game, Public Goods Game, etc.\n",
    "- **Individual attitudes**: decision-making under risk and uncertainty, time preferences, pro-environmental behavior,  etc.\n",
    "- **Social preferences**: fairness, trust, reciprocity, inequality aversion, etc.\n",
    "- **Markets**: double auctions, etc.\n",
    "- **Public policy evaluation**: taxes, subsidies, nudges, etc.\n"
   ]
  },
  {
   "cell_type": "markdown",
   "id": "ffda5a43",
   "metadata": {
    "slideshow": {
     "slide_type": "subslide"
    }
   },
   "source": [
    "**Advantages of oTree:**\n",
    "\n",
    "- Flexible: Create various types of experiments (e.g., economic games, surveys).\n",
    "- Python-based: Allows advanced users to extend functionality.\n",
    "- Open-source: Free to use, supported by a growing community.\n",
    "- Cross-platform: Runs on browsers—participants only need a URL.\n",
    "- Real-time interactions: Enables multiplayer interactions and instant feedback."
   ]
  },
  {
   "cell_type": "markdown",
   "id": "awful-charge",
   "metadata": {
    "editable": true,
    "slideshow": {
     "slide_type": "subslide"
    },
    "tags": []
   },
   "source": [
    "- Licensed under the MIT open source license\n",
    "- Website: https://www.otree.org/\n",
    "- Documentation: https://otree.readthedocs.io/en/latest/\n",
    "- Citation: Chen, D.L., Schonger, M. & Wickens, C., 2016, \"oTree - An open-source platform for laboratory, online, and field experiments\", Journal of Behavioral and Experimental Finance 9, pp. 88-97"
   ]
  },
  {
   "cell_type": "markdown",
   "id": "2c25ec4c-2f88-4838-88b5-25b83d87e2b4",
   "metadata": {
    "editable": true,
    "slideshow": {
     "slide_type": "slide"
    },
    "tags": []
   },
   "source": [
    "# Python"
   ]
  },
  {
   "cell_type": "markdown",
   "id": "0154d0ce-f924-45f8-b43f-f14a835a79ba",
   "metadata": {
    "editable": true,
    "jp-MarkdownHeadingCollapsed": true,
    "slideshow": {
     "slide_type": "subslide"
    },
    "tags": []
   },
   "source": [
    "- **Python** is a high-level, interpreted and object-oriented programming language.\n",
    "- Created by **Guido van Rossum** in the late 1980s and released in **1991**.\n",
    "- Named after the British comedy group **Monty Python**, not the snake.\n",
    "- **Design philosophy**: Emphasizes code readability, simplicity, and ease of use.\n",
    "\n",
    "The latest stable version as of October 2024: **Python 3.12.x**.\n"
   ]
  },
  {
   "cell_type": "markdown",
   "id": "1f0fa392-fdfd-46be-aa2b-f37427d48507",
   "metadata": {
    "editable": true,
    "jp-MarkdownHeadingCollapsed": true,
    "slideshow": {
     "slide_type": "subslide"
    },
    "tags": []
   },
   "source": [
    "**Key Features of Python**\n",
    "\n",
    "- **Simple and Readable Syntax**: Easy to learn, focuses on readability.\n",
    "- **Interpreted Language**: Python code is executed line by line, making it easy to debug.\n",
    "- **Dynamically Typed**: No need to declare variable types, which makes coding faster and more flexible.\n",
    "- **Extensive Standard Library**: Python comes with a vast range of libraries for handling everything from file I/O to web development, data processing, and machine learning.\n",
    "- **Cross-Platform**: Python runs on Windows, macOS, and Linux without any modification.\n",
    "- **Versatile**: Used in web development, data science, machine learning, automation, scientific computing, and more."
   ]
  },
  {
   "cell_type": "markdown",
   "id": "dc0cf5dd-1fd5-4f3c-84bb-b405c8b7f8e3",
   "metadata": {
    "editable": true,
    "slideshow": {
     "slide_type": "subslide"
    },
    "tags": []
   },
   "source": [
    "**Disadvantages of Python**\n",
    "\n",
    "- **Performance**: Python is **slower** than compiled languages like C++ or Java due to its interpreted nature.\n",
    "- **Mobile Development**: Python is not widely used for **mobile app development**."
   ]
  },
  {
   "cell_type": "markdown",
   "id": "f3ccc5b5-9000-41e5-846b-b8431e682996",
   "metadata": {
    "editable": true,
    "slideshow": {
     "slide_type": "subslide"
    },
    "tags": []
   },
   "source": [
    "## Python environment : Anaconda  \n",
    "\n",
    "- a Python distribution that includes all the packages needed for data science\n",
    "- easy to install and manage\n",
    "- https://www.anaconda.com/products/individual\n",
    "- download and install the distribution\n",
    "\n",
    "<figure>\n",
    "    <img src=\"img/anaconda.png\" alt=\"Anaconda\" width=\"300px\" />\n",
    "</figure>"
   ]
  },
  {
   "cell_type": "markdown",
   "id": "03e5fba9-bdec-4321-98d3-a01c9a296a33",
   "metadata": {
    "editable": true,
    "slideshow": {
     "slide_type": "subslide"
    },
    "tags": []
   },
   "source": [
    "## Python Interpreter\n",
    "\n",
    "- The **Python interpreter** is a program that reads and executes Python code line by line.\n",
    "- It’s available directly from the terminal with the instruction\n",
    "    ```bash\n",
    "    python\n",
    "    ```\n",
    "- The interpret Python can interpret and execute instructions directly, making it flexible for quick tests."
   ]
  },
  {
   "cell_type": "markdown",
   "id": "6ade9b3a-2d05-4e8b-93be-18a1f117f404",
   "metadata": {
    "editable": true,
    "slideshow": {
     "slide_type": "subslide"
    },
    "tags": []
   },
   "source": [
    "**JupyterLab**\n",
    "\n",
    "- A modern Python interpreter, executed in the browser.\n",
    "- It allows you to:\n",
    "  - Write and execute Python code in **cells**.\n",
    "  - Include **Markdown** for notes, documentation, and visual explanations.\n",
    "  - Visualize outputs (like charts or data frames) **inline**.\n",
    "- To start JupyterLab:\n",
    "  ```bash\n",
    "  jupyter-lab\n",
    "  ```\n"
   ]
  },
  {
   "cell_type": "markdown",
   "id": "ec483e5b-e2f1-4499-b6e5-585f61b7e6b5",
   "metadata": {
    "editable": true,
    "slideshow": {
     "slide_type": "subslide"
    },
    "tags": []
   },
   "source": [
    "## Variables and data types\n",
    "\n",
    "- **Integer**: Whole numbers\n",
    "   ```python\n",
    "   x = 10\n",
    "   ```\n",
    "- **Float**: Numbers with decimals\n",
    "  ```python\n",
    "  y = 3.14\n",
    "  ```\n",
    "- **String**: Text data\n",
    "  ```python\n",
    "  name = \"Alice\"\n",
    "  ```\n",
    "- **Boolean**: True or False values\n",
    "  ```python\n",
    "  is_displayed = True\n",
    "  ```\n",
    "- **None**: Represents an absence of value\n",
    "  ```python\n",
    "  result = None\n",
    "  ```"
   ]
  },
  {
   "cell_type": "markdown",
   "id": "d8bf5add-6585-4dff-972e-b18fcf0241f6",
   "metadata": {
    "editable": true,
    "slideshow": {
     "slide_type": "subslide"
    },
    "tags": []
   },
   "source": [
    "**List**  \n",
    "\n",
    "- Lists are used to store multiple values in a single variable.\n",
    "- Lists are **mutable** (you can change their content).\n",
    "\n",
    "Example:\n",
    "```python\n",
    "fruits = [\"apple\", \"banana\", \"cherry\"]\n",
    "fruits.append(\"orange\")  # Adds 'orange' to the list\n",
    "print(fruits[0])  # Outputs: 'apple'\n",
    "```"
   ]
  },
  {
   "cell_type": "markdown",
   "id": "5c1da756-a6a5-4cbc-a73d-df77fb4e5012",
   "metadata": {
    "editable": true,
    "slideshow": {
     "slide_type": "subslide"
    },
    "tags": []
   },
   "source": [
    "**Dictionaries**\n",
    "\n",
    "- Dictionaries store data as key-value pairs.\n",
    "- Keys are unique, and values can be of any type.\n",
    "\n",
    "```python\n",
    "player = {\"name\": \"John\", \"score\": 10}\n",
    "print(player[\"name\"])  # Outputs: 'John'\n",
    "player[\"score\"] += 5  # Updates score\n",
    "```"
   ]
  },
  {
   "cell_type": "markdown",
   "id": "58775cec-20d9-4200-99df-aef38eda27e7",
   "metadata": {
    "editable": true,
    "slideshow": {
     "slide_type": "subslide"
    },
    "tags": []
   },
   "source": [
    "## Control Flow\n",
    "\n",
    "### Conditionals: `if`, `elif`, `else`  \n",
    "Used to execute code based on certain conditions.\n",
    "\n",
    "Example:\n",
    "```python\n",
    "score = 85\n",
    "if score <= 80:\n",
    "    print(\"A\")\n",
    "elif score <= 90:\n",
    "    print(\"B\")\n",
    "else:\n",
    "    print(\"C\")\n",
    "```"
   ]
  },
  {
   "cell_type": "markdown",
   "id": "41f0c47a-43f1-4393-ba11-031056975c38",
   "metadata": {
    "editable": true,
    "slideshow": {
     "slide_type": "subslide"
    },
    "tags": []
   },
   "source": [
    "### Loops : `for`\n",
    "\n",
    "Used to iterate over a sequence (like a list, tuple, or range).\n",
    "\n",
    "Example:\n",
    "```python\n",
    "fruits = [\"apple\", \"banana\", \"cherry\"]\n",
    "for fruit in fruits:\n",
    "    print(fruit)\n",
    "```\n",
    "This will print each fruit in the list."
   ]
  },
  {
   "cell_type": "markdown",
   "id": "315d091e-e587-41fa-8de8-930d12de7957",
   "metadata": {
    "editable": true,
    "slideshow": {
     "slide_type": "subslide"
    },
    "tags": []
   },
   "source": [
    "### The `range()` Function\n",
    "\n",
    "Used to generate a sequence of numbers, commonly used in loops.\n",
    "\n",
    "Basic Usage:\n",
    "```python\n",
    "for i in range(5):\n",
    "    print(i)\n",
    "```\n",
    "This will print numbers from 0 to 4 (5 iterations, starting from 0)."
   ]
  },
  {
   "cell_type": "markdown",
   "id": "dda03cec-d61e-4ba8-97c2-0a34819f8513",
   "metadata": {
    "editable": true,
    "slideshow": {
     "slide_type": "subslide"
    },
    "tags": []
   },
   "source": [
    "**Parameters of range()**\n",
    "\n",
    "- Single argument: range(stop)  \n",
    "Generates numbers from 0 up to, but not including, `stop`.\n",
    "```python\n",
    "range(5)  # Generates [0, 1, 2, 3, 4]\n",
    "```\n",
    "\n",
    "- Two arguments: range(start, stop)  \n",
    "Generates numbers from `start` up to, but not including, `stop`.\n",
    "```python\n",
    "range(2, 6)  # Generates [2, 3, 4, 5]\n",
    "```\n",
    "\n",
    "- Three arguments: range(start, stop, step)  \n",
    "Generates numbers from `start` to `stop`, with increments of `step`.\n",
    "```python\n",
    "range(0, 10, 2)  # Generates [0, 2, 4, 6, 8]\n",
    "```\n",
    "\n",
    "- Negative Step: \n",
    "range() can also count backwards using a negative step:\n",
    "```python\n",
    "range(10, 0, -2)  # Generates [10, 8, 6, 4, 2]\n",
    "```"
   ]
  },
  {
   "cell_type": "markdown",
   "id": "9ed26fee-11f8-41c6-9895-5ed2b226fd68",
   "metadata": {
    "editable": true,
    "slideshow": {
     "slide_type": "subslide"
    },
    "tags": []
   },
   "source": [
    "### Loops : While\n",
    "\n",
    "Repeats code as long as a condition is True.  \n",
    "```python\n",
    "count = 0\n",
    "while count < 5:\n",
    "    print(count)\n",
    "    count += 1\n",
    "```"
   ]
  },
  {
   "cell_type": "markdown",
   "id": "459b7531-fadf-4d56-b5bb-969d91e1f8ed",
   "metadata": {
    "editable": true,
    "slideshow": {
     "slide_type": "subslide"
    },
    "tags": []
   },
   "source": [
    "## Functions\n",
    "\n",
    "- A **function** is a reusable block of code that performs a specific task.\n",
    "- Functions allow you to:\n",
    "  - **Encapsulate logic**: Organize your code into manageable parts.\n",
    "  - **Avoid repetition**: Use the same code multiple times.\n",
    "  - **Parameterize**: Pass data into the function for different use cases.\n",
    "\n",
    "Example :\n",
    "```python\n",
    "def greet(name):\n",
    "    return f\"Hello, {name}\"\n",
    "```\n",
    "\n",
    "**Calling of function**\n",
    "\n",
    "```python\n",
    "message = greet(\"Alice\")\n",
    "print(message)  # Outputs: Hello, Alice\n",
    "```"
   ]
  },
  {
   "cell_type": "markdown",
   "id": "103039bd-3484-4341-87c9-82976d86b241",
   "metadata": {
    "editable": true,
    "slideshow": {
     "slide_type": "subslide"
    },
    "tags": []
   },
   "source": [
    "### Parameters and Arguments\n",
    "\n",
    "**Parameters**:\n",
    "- Variables that are specified in the function definition.\n",
    "- These allow functions to accept input data.\n",
    "\n",
    "**Arguments**:\n",
    "- The actual values you pass to the function when calling it.\n",
    "\n",
    "Example:\n",
    "```python\n",
    "def add_numbers(a, b):\n",
    "    return a + b\n",
    "\n",
    "result = add_numbers(5, 3)\n",
    "print(result)  # Outputs: 8\n",
    "```\n",
    "a and b are **parameters**, and 5 and 3 are **arguments**."
   ]
  },
  {
   "cell_type": "markdown",
   "id": "7eada20f-0a8d-41dc-8e4b-f424cd744713",
   "metadata": {
    "editable": true,
    "slideshow": {
     "slide_type": "subslide"
    },
    "tags": []
   },
   "source": [
    "### Default arguments and keyword arguments\n",
    "**Default Arguments**\n",
    "\n",
    "You can assign a **default value** to a parameter, so it’s optional when calling the function.\n",
    "\n",
    "```python\n",
    "def greet(name, greeting=\"Hello\"):\n",
    "    return f\"{greeting}, {name}\"\n",
    "\n",
    "print(greet(\"Alice\"))         # Outputs: Hello, Alice\n",
    "print(greet(\"Alice\", \"Hi\"))   # Outputs: Hi, Alice\n",
    "```\n",
    "\n",
    "**Keyword Arguments**\n",
    "\n",
    "You can pass arguments by specifying the parameter name (makes the code more readable).\n",
    "\n",
    "```python\n",
    "def greet(name, greeting=\"Hello\"):\n",
    "    return f\"{greeting}, {name}\"\n",
    "\n",
    "print(greet(name=\"Alice\", greeting=\"Good Morning\"))\n",
    "```"
   ]
  },
  {
   "cell_type": "markdown",
   "id": "07b30ba2-4ad5-4cb7-af08-813332d636b3",
   "metadata": {
    "editable": true,
    "slideshow": {
     "slide_type": "subslide"
    },
    "tags": []
   },
   "source": [
    "### Variable Number of Arguments\n",
    "\n",
    "Python allows to define functions that accept a **variable number of arguments** using `*args` and `**kwargs`.\n",
    "\n",
    "**Using `*args` (non-keyword arguments):**\n",
    "```python\n",
    "def multiply(*numbers):\n",
    "    result = 1\n",
    "    for num in numbers:\n",
    "        result *= num\n",
    "    return result\n",
    "\n",
    "print(multiply(2, 3, 4))  # Outputs: 24\n",
    "```\n",
    "\n",
    "**Using `**kwargs` (keyword arguments):**\n",
    "```python\n",
    "def print_info(**kwargs):\n",
    "    for key, value in kwargs.items():\n",
    "        print(f\"{key}: {value}\")\n",
    "\n",
    "print_info(name=\"Alice\", age=30)\n",
    "```"
   ]
  },
  {
   "cell_type": "markdown",
   "id": "5304d7cc-6001-4984-aada-65c6cfbd8dc4",
   "metadata": {
    "editable": true,
    "slideshow": {
     "slide_type": "subslide"
    },
    "tags": []
   },
   "source": [
    "### `lambda` function\n",
    "\n",
    "- A **lambda function** is a small anonymous function that can have any number of arguments but only one expression.\n",
    "- It is useful for short, simple operations.\n",
    "\n",
    "Syntax:\n",
    "```python\n",
    "lambda arguments: expression\n",
    "```\n",
    "\n",
    "Example:\n",
    "```python\n",
    "add = lambda x, y: x + y\n",
    "print(add(3, 5))  # Outputs: 8\n",
    "```\n",
    "Often used in functions like map(), filter(), or sorting lists by custom criteria."
   ]
  },
  {
   "cell_type": "markdown",
   "id": "ca250533-4921-48e0-96c7-3c7f3148cc0d",
   "metadata": {
    "editable": true,
    "slideshow": {
     "slide_type": "subslide"
    },
    "tags": []
   },
   "source": [
    "## Classes and Objects\n",
    "\n",
    "- Python is an **object-oriented** programming language.\n",
    "- **Classes** are blueprints for creating objects (a way to bundle data and functionality together).\n",
    "- **Objects** are instances of classes.\n",
    "\n",
    "**Defining a Class:**\n",
    "```python\n",
    "class Player:\n",
    "    def __init__(self, name, score=0):\n",
    "        self.name = name\n",
    "        self.score = score\n",
    "```\n",
    "\n",
    "**Creating an Object:**  \n",
    "```python\n",
    "p1 = Player(\"Alice\")\n",
    "print(p1.name, p1.score)  # Outputs: Alice 0\n",
    "```"
   ]
  },
  {
   "cell_type": "markdown",
   "id": "90b6a83e-44c1-401a-b1c9-9daff80d51b6",
   "metadata": {
    "editable": true,
    "slideshow": {
     "slide_type": "subslide"
    },
    "tags": []
   },
   "source": [
    "### Methods and Attributes\n",
    "\n",
    "- **Attributes**: Variables that belong to an object (e.g., `self.name`, `self.score`).\n",
    "- **Methods**: Functions that belong to an object (defined inside a class).\n",
    "\n",
    "Example:\n",
    "```python\n",
    "class Player:\n",
    "    def __init__(self, name, score=0):\n",
    "        self.name = name\n",
    "        self.score = score\n",
    "\n",
    "    def increase_score(self, points):\n",
    "        self.score += points\n",
    "\n",
    "p1 = Player(\"Alice\")\n",
    "p1.increase_score(10)\n",
    "print(p1.score)  # Outputs: 10\n",
    "```"
   ]
  },
  {
   "cell_type": "markdown",
   "id": "29ba1502-8fe6-41fd-a912-90100fc8ab9f",
   "metadata": {
    "editable": true,
    "slideshow": {
     "slide_type": "subslide"
    },
    "tags": []
   },
   "source": [
    "### Inheritance\n",
    "\n",
    "- allows one class to inherit attributes and methods from another class.\n",
    "- This helps reuse code and extend functionality.\n",
    "\n",
    "Example:\n",
    "```python\n",
    "class Person:\n",
    "    def __init__(self, name):\n",
    "        self.name = name\n",
    "\n",
    "class Player(Person):\n",
    "    def __init__(self, name, score=0):\n",
    "        super().__init__(name)\n",
    "        self.score = score\n",
    "\n",
    "p1 = Player(\"Alice\")\n",
    "print(p1.name, p1.score)  # Outputs: Alice 0\n",
    "```"
   ]
  },
  {
   "cell_type": "markdown",
   "id": "0ff9e1e2-860d-40b4-8e2f-79e56840995a",
   "metadata": {
    "editable": true,
    "slideshow": {
     "slide_type": "subslide"
    },
    "tags": []
   },
   "source": [
    "### Encapsulation and Polymorphism\n",
    "\n",
    "**Encapsulation** : restricting direct access to some of an object's components.\n",
    "\n",
    "**Polymorphism** : allows different classes to be treated as instances of the same class through inheritance.\n",
    "\n",
    "Example of Encapsulation:\n",
    "```python\n",
    "class Player:\n",
    "    def __init__(self, name, score=0):\n",
    "        self.__score = score  # Private variable\n",
    "\n",
    "    def get_score(self):\n",
    "        return self.__score\n",
    "```"
   ]
  },
  {
   "cell_type": "markdown",
   "id": "1149dbc7-e319-4504-8abb-5f14de39ef10",
   "metadata": {
    "editable": true,
    "slideshow": {
     "slide_type": "subslide"
    },
    "tags": []
   },
   "source": [
    "## Exercices\n",
    "\n",
    "Create an new Notebook in Jupyterlab, and for each exercice copy and paste the instructions, and write your code in the cell below."
   ]
  },
  {
   "cell_type": "markdown",
   "id": "fe600158-8db2-4746-b7a7-795875cd4761",
   "metadata": {
    "editable": true,
    "slideshow": {
     "slide_type": "subslide"
    },
    "tags": []
   },
   "source": [
    "### Exercice 1 : Basic Variables and Data Types\n",
    "\n",
    "1. Create a variable `age` and assign it the value of your age.\n",
    "2. Create a variable `name` and assign it your name.\n",
    "3. Create a variable `height` that stores your height in meters (as a float).\n",
    "4. Print a sentence that uses all three variables in a formatted string. Example: \"My name is Alice, I'm 30 years old and 1.75 meters tall.\"\n"
   ]
  },
  {
   "cell_type": "markdown",
   "id": "7db462ff-0696-446d-9ce5-88fe01e57d9c",
   "metadata": {
    "editable": true,
    "slideshow": {
     "slide_type": "subslide"
    },
    "tags": []
   },
   "source": [
    "### Exercice 2 : Working with Lists\n",
    "\n",
    "1. Create a list `fruits` that contains the following elements: \"apple\", \"banana\", \"cherry\", \"date\".\n",
    "2. Add a new fruit to the list: \"orange\".\n",
    "3. Remove \"banana\" from the list.\n",
    "4. Print the number of fruits in the list.\n",
    "5. Print the third fruit in the list (remember that lists are zero-indexed)."
   ]
  },
  {
   "cell_type": "markdown",
   "id": "ccab387d-54fa-49c1-9360-df3b697ffbd4",
   "metadata": {
    "editable": true,
    "slideshow": {
     "slide_type": "subslide"
    },
    "tags": []
   },
   "source": [
    "### Exercise 3: Control Flow (Conditionals)\n",
    "\n",
    "1. Create a variable `score` and assign it a value between 0 and 100.\n",
    "2. Write an if-else statement to print:\n",
    "   - \"Grade A\" if the score is 90 or above,\n",
    "   - \"Grade B\" if the score is between 80 and 89,\n",
    "   - \"Grade C\" if the score is between 70 and 79,\n",
    "   - \"Grade D\" if the score is below 70."
   ]
  },
  {
   "cell_type": "markdown",
   "id": "0d636907-b7a7-4e10-a12c-ba69121a5c1d",
   "metadata": {
    "editable": true,
    "slideshow": {
     "slide_type": "subslide"
    },
    "tags": []
   },
   "source": [
    "### Exercise 4: Loops\n",
    "\n",
    "1. Write a for loop that prints all even numbers between 1 and 20.\n",
    "2. Write a while loop that starts with `n = 10` and decreases `n` by 1 in each iteration until `n` equals 0. Print the value of `n` in each iteration."
   ]
  },
  {
   "cell_type": "markdown",
   "id": "d00fd56b-b353-43ac-851f-00422ef60511",
   "metadata": {
    "editable": true,
    "slideshow": {
     "slide_type": "subslide"
    },
    "tags": []
   },
   "source": [
    "### Exercise 5: Functions\n",
    "\n",
    "1. Write a function `multiply(a, b)` that returns the product of two numbers `a` and `b`.\n",
    "2. Write a function `is_even(n)` that returns `True` if the number `n` is even, and `False` otherwise.\n",
    "3. Write a function `count_vowels(s)` that takes a string `s` and returns the number of vowels (a, e, i, o, u) in the string."
   ]
  },
  {
   "cell_type": "markdown",
   "id": "2b758f63-b617-4728-8cce-fcc4df56796e",
   "metadata": {
    "editable": true,
    "slideshow": {
     "slide_type": "subslide"
    },
    "tags": []
   },
   "source": [
    "### Exercise 6: Working with Dictionaries\n",
    "\n",
    "1. Create a dictionary `student` with the following keys: \"name\", \"age\", \"grade\".\n",
    "   - Assign \"Alice\" to name, 20 to age, and \"A\" to grade.\n",
    "2. Add a new key \"ID\" with a value of 12345.\n",
    "3. Update the student's grade to \"B\".\n",
    "4. Print the dictionary."
   ]
  },
  {
   "cell_type": "markdown",
   "id": "8fcfc1cb-b9f3-4232-ae92-a4f076ef864b",
   "metadata": {
    "editable": true,
    "slideshow": {
     "slide_type": "subslide"
    },
    "tags": []
   },
   "source": [
    "### Exercise 7: List Comprehensions\n",
    "\n",
    "1. Create a list `numbers` that contains the numbers from 1 to 10.\n",
    "2. Use a **list comprehension** to create a new list `squares` that contains the square of each number in `numbers`.\n",
    "3. Use another list comprehension to create a list `evens` that contains only the even numbers from `numbers`."
   ]
  },
  {
   "cell_type": "markdown",
   "id": "a92659e9-d5da-41a1-9f39-a8cf7074734b",
   "metadata": {
    "editable": true,
    "slideshow": {
     "slide_type": "subslide"
    },
    "tags": []
   },
   "source": [
    "## Solutions\n",
    "\n",
    "### Exercice 1: Basic variables and Data Types\n",
    "```python\n",
    "age = 25  # Replace with your age  \n",
    "name = \"Alice\"  # Replace with your name  \n",
    "height = 1.75  # Replace with your height  \n",
    "\n",
    "print(f\"My name is {name}, I'm {age} years old and {height} meters tall.\")\n"
   ]
  },
  {
   "cell_type": "markdown",
   "id": "34faa8b2-c3b7-4b54-8ee7-6fee83ec594e",
   "metadata": {
    "editable": true,
    "slideshow": {
     "slide_type": "subslide"
    },
    "tags": []
   },
   "source": [
    "### Exercice 2: Working with Lists\n",
    "\n",
    "```python\n",
    "fruits = [\"apple\", \"banana\", \"cherry\", \"date\"]\n",
    "fruits.append(\"orange\")\n",
    "fruits.remove(\"banana\")\n",
    "\n",
    "print(f\"Number of fruits: {len(fruits)}\")\n",
    "print(f\"The third fruit in the list is: {fruits[2]}\")\n",
    "```"
   ]
  },
  {
   "cell_type": "markdown",
   "id": "83f4e70e-3ac8-466c-b88d-a3efd88af7f0",
   "metadata": {
    "editable": true,
    "slideshow": {
     "slide_type": "subslide"
    },
    "tags": []
   },
   "source": [
    "### Exercice 3: Control flow (conditionals)\n",
    "\n",
    "```python\n",
    "score = 85  # Replace with any value between 0 and 100\n",
    "\n",
    "if score >= 90:\n",
    "    print(\"Grade A\")\n",
    "elif score >= 80:\n",
    "    print(\"Grade B\")\n",
    "elif score >= 70:\n",
    "    print(\"Grade C\")\n",
    "else:\n",
    "    print(\"Grade D\")\n",
    "```"
   ]
  },
  {
   "cell_type": "markdown",
   "id": "494e55d7-4645-418b-a54e-f70e81632752",
   "metadata": {
    "editable": true,
    "slideshow": {
     "slide_type": "subslide"
    },
    "tags": []
   },
   "source": [
    "### Exercice 4: Loops\n",
    "\n",
    "For loop for even numbers\n",
    "```python\n",
    "for i in range(2, 21, 2):\n",
    "    print(i)\n",
    "```\n",
    "\n",
    "While loop\n",
    "```python\n",
    "n = 10\n",
    "while n > 0:\n",
    "    print(n)\n",
    "    n -= 1\n",
    "```"
   ]
  },
  {
   "cell_type": "markdown",
   "id": "53f35a66-f2c1-49d4-b7fe-a97b9131e859",
   "metadata": {
    "editable": true,
    "slideshow": {
     "slide_type": "subslide"
    },
    "tags": []
   },
   "source": [
    "### Exercice 5: Functions\n",
    "\n",
    "Function to multiply two numbers\n",
    "```python\n",
    "def multiply(a, b):\n",
    "    return a * b\n",
    "\n",
    "print(multiply(3, 4))  # Output: 12\n",
    "```\n",
    "\n",
    "Function to check if a number is even\n",
    "```python\n",
    "def is_even(n):\n",
    "    return n % 2 == 0\n",
    "\n",
    "print(is_even(5))  # Output: False\n",
    "print(is_even(6))  # Output: True\n",
    "```"
   ]
  },
  {
   "cell_type": "markdown",
   "id": "4b043617-c11b-4182-bd8b-87702283e8f8",
   "metadata": {
    "editable": true,
    "slideshow": {
     "slide_type": "subslide"
    },
    "tags": []
   },
   "source": [
    "Function to count vowels in a string\n",
    "```python\n",
    "def count_vowels(s):\n",
    "    vowels = \"aeiouAEIOU\"\n",
    "    count = 0\n",
    "    for char in s:\n",
    "        if char in vowels:\n",
    "            count += 1\n",
    "    return count\n",
    "\n",
    "print(count_vowels(\"hello\"))  # Output: 2\n",
    "print(count_vowels(\"Python Programming\"))  # Output: 4\n",
    "```"
   ]
  },
  {
   "cell_type": "markdown",
   "id": "cd00f80a-e4a4-4765-b773-6147cd7bc8e1",
   "metadata": {
    "editable": true,
    "slideshow": {
     "slide_type": "subslide"
    },
    "tags": []
   },
   "source": [
    "### Exercice 6: Dictionaries\n",
    "```python\n",
    "student = {\n",
    "    \"name\": \"Alice\",\n",
    "    \"age\": 20,\n",
    "    \"grade\": \"A\"\n",
    "}\n",
    "\n",
    "# Add a new key\n",
    "student[\"ID\"] = 12345\n",
    "\n",
    "# Update the grade\n",
    "student[\"grade\"] = \"B\"\n",
    "\n",
    "# Print the dictionary\n",
    "print(student)\n",
    "```"
   ]
  },
  {
   "cell_type": "markdown",
   "id": "61b50fed-5f6a-46cd-9f44-443932fba2de",
   "metadata": {
    "editable": true,
    "slideshow": {
     "slide_type": "subslide"
    },
    "tags": []
   },
   "source": [
    "### Exercice 7: List-Comprehension\n",
    "```python\n",
    "numbers = list(range(1, 11))\n",
    "\n",
    "# List comprehension for squares\n",
    "squares = [n**2 for n in numbers]\n",
    "print(squares)\n",
    "\n",
    "# List comprehension for even numbers\n",
    "evens = [n for n in numbers if n % 2 == 0]\n",
    "print(evens)\n",
    "```"
   ]
  },
  {
   "cell_type": "markdown",
   "id": "1cdbb6b9-5c83-4a01-838d-dd8879fae5ed",
   "metadata": {
    "editable": true,
    "slideshow": {
     "slide_type": "slide"
    },
    "tags": []
   },
   "source": [
    "# HTML, CSS and JavaScript"
   ]
  },
  {
   "cell_type": "markdown",
   "id": "0bb9cdcd-d62f-4b4c-a9b8-824f239fdca5",
   "metadata": {
    "editable": true,
    "jp-MarkdownHeadingCollapsed": true,
    "slideshow": {
     "slide_type": "subslide"
    },
    "tags": []
   },
   "source": [
    "## HTML \n",
    "- **HTML** stands for **HyperText Markup Language**.\n",
    "- It is the **standard markup language** used to create web pages.\n",
    "- HTML structures content on the web using **elements** and **tags**.\n",
    "\n",
    "**Basic HTML Structure:**\n",
    "```html\n",
    "<!DOCTYPE html>\n",
    "<html>\n",
    "<head>\n",
    "  <title>Page Title</title>\n",
    "</head>\n",
    "<body>\n",
    "  <h1>This is a Heading</h1>\n",
    "  <p>This is a paragraph.</p>\n",
    "</body>\n",
    "</html>\n",
    "```\n",
    "HTML elements are represented by tags enclosed in < >."
   ]
  },
  {
   "cell_type": "markdown",
   "id": "211a5aa2-c26b-4235-b34f-70f3b6b69192",
   "metadata": {
    "editable": true,
    "slideshow": {
     "slide_type": "subslide"
    },
    "tags": []
   },
   "source": [
    "### Common HTML Elements\n",
    "\n",
    "- **Headings**: Used to define titles and subtitles on a page.\n",
    "```html\n",
    "  <h1>Heading 1</h1>\n",
    "  <h2>Heading 2</h2>\n",
    "```\n",
    "- **Paragraphs**: Used to define blocks of text.\n",
    "```html\n",
    "<p>This is a paragraph.</p>\n",
    "```\n",
    "- **Links**: Used to create hyperlinks.\n",
    "```html\n",
    "<a href=\"https://www.example.com\">Visit Example</a>\n",
    "```\n",
    "- **Images**: Used to embed images.\n",
    "```html\n",
    "<img src=\"image.jpg\" alt=\"A description of the image\">\n",
    "```"
   ]
  },
  {
   "cell_type": "markdown",
   "id": "2cc04b8e-2745-4e15-8061-68be78c4c22e",
   "metadata": {
    "editable": true,
    "slideshow": {
     "slide_type": "subslide"
    },
    "tags": []
   },
   "source": [
    "- **Lists**: Used to create ordered or unordered lists.\n",
    "```html\n",
    "<ul>\n",
    "  <li>First item</li>\n",
    "  <li>Second item</li>\n",
    "</ul>\n",
    "```\n",
    "\n",
    "- **Forms**: Used to collect user input.\n",
    "```html\n",
    "<form>\n",
    "  <input type=\"text\" name=\"name\">\n",
    "  <button type=\"submit\">Submit</button>\n",
    "</form>\n",
    "```"
   ]
  },
  {
   "cell_type": "markdown",
   "id": "fc9a698f-03a7-4308-969a-9f9c9b60b862",
   "metadata": {
    "editable": true,
    "slideshow": {
     "slide_type": "subslide"
    },
    "tags": []
   },
   "source": [
    "### HTML Document Structure\n",
    "\n",
    "- Every HTML page has the following basic structure:\n",
    "  - `<!DOCTYPE html>`: Defines the document type (HTML5).\n",
    "  - `<html>`: Root element, contains the entire HTML document.\n",
    "  - `<head>`: Metadata, such as the title and links to external resources (CSS, scripts).\n",
    "  - `<body>`: The main content of the page, including text, images, links, etc.\n",
    "\n",
    "Example:\n",
    "```html\n",
    "<!DOCTYPE html>\n",
    "<html>\n",
    "<head>\n",
    "  <title>My First HTML Page</title>\n",
    "</head>\n",
    "<body>\n",
    "  <h1>Welcome to my page!</h1>\n",
    "  <p>This is a simple HTML example.</p>\n",
    "</body>\n",
    "</html>\n",
    "```"
   ]
  },
  {
   "cell_type": "markdown",
   "id": "6267b416-a307-4402-986c-8863c3e8d476",
   "metadata": {
    "editable": true,
    "slideshow": {
     "slide_type": "subslide"
    },
    "tags": []
   },
   "source": [
    "## CSS\n",
    "\n",
    "- **CSS** stands for **Cascading Style Sheets**.\n",
    "- CSS is used to control the **style** and **layout** of a web page.\n",
    "- You can use CSS to change colors, fonts, sizes, spacing, and positioning of elements.\n",
    "\n",
    "Example:\n",
    "```css\n",
    "body {\n",
    "  background-color: lightblue;\n",
    "}\n",
    "h1 {\n",
    "  color: navy;\n",
    "  text-align: center;\n",
    "}\n",
    "```\n",
    "CSS is usually written in a separate file (style.css) or within a `<style>` block in the HTML `<head>`."
   ]
  },
  {
   "cell_type": "markdown",
   "id": "381a34c0-c0c0-4994-a537-af352a2da256",
   "metadata": {
    "editable": true,
    "slideshow": {
     "slide_type": "subslide"
    },
    "tags": []
   },
   "source": [
    "### Syntax and Selectors\n",
    "\n",
    "**Syntax:**  \n",
    "A CSS rule consists of a **selector** and a **declaration block**.\n",
    "  ```css\n",
    "  selector {\n",
    "    property: value;\n",
    "  }\n",
    "```\n",
    "\n",
    "**CSS Selectors:**  \n",
    "Element Selector: Targets HTML elements.\n",
    "```css\n",
    "p {\n",
    "  color: red;\n",
    "}\n",
    "```\n",
    "Class Selector: Targets elements with a specific class (uses `.`).\n",
    "```css\n",
    ".my-class {\n",
    "  font-size: 18px;\n",
    "}\n",
    "```"
   ]
  },
  {
   "cell_type": "markdown",
   "id": "233053ee-6224-4e19-94d7-04a03d060fc2",
   "metadata": {
    "editable": true,
    "slideshow": {
     "slide_type": "subslide"
    },
    "tags": []
   },
   "source": [
    "ID Selector: Targets a single element with a specific ID (uses `#`).\n",
    "```css\n",
    "#my-id {\n",
    "  background-color: yellow;\n",
    "}\n",
    "```\n",
    "Grouping Selectors: Apply the same style to multiple elements.\n",
    "```css\n",
    "h1, p {\n",
    "  margin: 20px;\n",
    "}\n",
    "```"
   ]
  },
  {
   "cell_type": "markdown",
   "id": "5ab07189-0a1c-44fe-b769-ca2215229847",
   "metadata": {
    "editable": true,
    "slideshow": {
     "slide_type": "subslide"
    },
    "tags": []
   },
   "source": [
    "### Inline, Internal, and External CSS\n",
    "\n",
    "1. **Inline CSS**: Defined directly within an HTML element (not recommended for large projects).\n",
    "  ```html\n",
    "  <p style=\"color: red;\">This is red text</p>\n",
    "  ```\n",
    "2. **Internal CSS**: Written inside a `<style>` tag in the `<head>` of the HTML document.\n",
    "```html\n",
    "<head>\n",
    "  <style>\n",
    "    p { color: red; }\n",
    "  </style>\n",
    "</head>\n",
    "```\n",
    "3. **External CSS**: Linked from a separate CSS file.\n",
    "```html\n",
    "<head>\n",
    "  <link rel=\"stylesheet\" href=\"styles.css\">\n",
    "</head>\n",
    "```\n",
    "External CSS is the most common and scalable way to style web pages."
   ]
  },
  {
   "cell_type": "markdown",
   "id": "9b79b739-0c79-4a19-918d-05325aba3ec1",
   "metadata": {
    "editable": true,
    "slideshow": {
     "slide_type": "subslide"
    },
    "tags": []
   },
   "source": [
    "### Box Model\n",
    "\n",
    "- The **box model** is a fundamental concept in CSS.\n",
    "- Every HTML element is treated as a box, consisting of the following layers:\n",
    "  - **Content**: The actual content (text, images, etc.).\n",
    "  - **Padding**: Space between the content and the border.\n",
    "  - **Border**: Surrounds the padding.\n",
    "  - **Margin**: Space outside the border.\n",
    "\n",
    "Example:\n",
    "```css\n",
    "div {\n",
    "  width: 300px;\n",
    "  padding: 20px;\n",
    "  border: 5px solid black;\n",
    "  margin: 10px;\n",
    "}\n",
    "```\n",
    "Understanding the box model helps you design layouts and control spacing."
   ]
  },
  {
   "cell_type": "markdown",
   "id": "f538512d-cdd0-4014-ad54-657bc7cddbdb",
   "metadata": {
    "editable": true,
    "slideshow": {
     "slide_type": "subslide"
    },
    "tags": []
   },
   "source": [
    "## JavaScript\n",
    "\n",
    "- **JavaScript (JS)** is a programming language used to add **interactivity** to web pages.\n",
    "- It can be used for:\n",
    "  - **Manipulating HTML elements** (e.g., showing/hiding content, updating text).\n",
    "  - **Handling user events** (e.g., clicks, form submissions).\n",
    "  - **Performing calculations** and **dynamic updates** without refreshing the page.\n",
    "- JavaScript runs directly in the browser, making it the foundation of modern web apps."
   ]
  },
  {
   "cell_type": "markdown",
   "id": "5972cd55-ea07-4254-8f43-29782ef2331c",
   "metadata": {
    "editable": true,
    "slideshow": {
     "slide_type": "subslide"
    },
    "tags": []
   },
   "source": [
    "### Syntax\n",
    "\n",
    "- JavaScript code is usually placed inside a `<script>` tag or in an external file (`script.js`).\n",
    "- Variables are declared using `let` or `const`.\n",
    "\n",
    "Example:\n",
    "```javascript\n",
    "let message = \"Hello, World!\";\n",
    "console.log(message);  // Outputs: Hello, World!\n",
    "```"
   ]
  },
  {
   "cell_type": "markdown",
   "id": "816fdc1b-9d57-4dcc-83a2-51538f838934",
   "metadata": {
    "editable": true,
    "slideshow": {
     "slide_type": "subslide"
    },
    "tags": []
   },
   "source": [
    "### Basic JS Concepts\n",
    "\n",
    "- Variables: Store values.\n",
    "- Functions: Reusable blocks of code.\n",
    "- Events: Actions like clicks, form submissions, or keypresses."
   ]
  },
  {
   "cell_type": "markdown",
   "id": "3e357935-65c3-4cce-a0d2-7e0376dc4bde",
   "metadata": {
    "editable": true,
    "slideshow": {
     "slide_type": "subslide"
    },
    "tags": []
   },
   "source": [
    "### DOM Manipulation with JavaScript\n",
    "\n",
    "- **DOM (Document Object Model)** is a representation of the HTML page as objects.\n",
    "- JavaScript can **manipulate** these objects to change the structure, content, and style of the page.\n",
    "\n",
    "Example:\n",
    "```html\n",
    "<button onclick=\"changeText()\">Click Me!</button>\n",
    "<p id=\"demo\">This is a paragraph.</p>\n",
    "\n",
    "<script>\n",
    "  function changeText() {\n",
    "    document.querySelector(\"#demo\").innerHTML = \"Text has been changed!\";\n",
    "  }\n",
    "</script>\n",
    "```\n",
    "When the button is clicked, JavaScript changes the content of the `<p>` element."
   ]
  },
  {
   "cell_type": "markdown",
   "id": "75681bd3-37a4-447b-9891-75e6e81db9f7",
   "metadata": {
    "editable": true,
    "slideshow": {
     "slide_type": "subslide"
    },
    "tags": []
   },
   "source": [
    "### JavaScript Events\n",
    "\n",
    "- **Events** allow JavaScript to respond to user interactions.\n",
    "- Common events include:\n",
    "  - `onclick`: Triggered when an element is clicked.\n",
    "  - `onmouseover`: Triggered when the mouse is over an element.\n",
    "  - `onchange`: Triggered when an input field's value changes.\n",
    "\n",
    "Example:\n",
    "```html\n",
    "<input type=\"text\" onchange=\"alert('You changed the input!')\">\n",
    "<button onclick=\"alert('Button clicked!')\">Click Me!</button>\n",
    "```\n",
    "JavaScript makes web pages interactive by responding to these events."
   ]
  },
  {
   "cell_type": "markdown",
   "id": "bb52684d-59d0-47e9-8b01-e3d7fe15565e",
   "metadata": {
    "editable": true,
    "slideshow": {
     "slide_type": "subslide"
    },
    "tags": []
   },
   "source": [
    "## Summary\n",
    "\n",
    "- **HTML**: Provides the structure of a web page using elements like headings, paragraphs, links, and lists.\n",
    "- **CSS**: Controls the appearance and layout of the page through styles like colors, fonts, margins, and borders.\n",
    "- **JavaScript**: Adds interactivity, making web pages dynamic and responsive to user actions."
   ]
  },
  {
   "cell_type": "markdown",
   "id": "ef57a848-f8c2-47d2-8f1c-6b3c49a696b1",
   "metadata": {
    "editable": true,
    "slideshow": {
     "slide_type": "subslide"
    },
    "tags": []
   },
   "source": [
    "## Exercices\n",
    "\n",
    "### Exercice 1: A Simple HTML Page\n",
    "\n",
    "1. Create a simple HTML page with the following structure:\n",
    "   - A title (`<h1>`) that says \"My Webpage\".\n",
    "   - A paragraph (`<p>`) introducing yourself.\n",
    "   - An unordered list (`<ul>`) of your 3 favorite hobbies.\n",
    "   - A link (`<a>`) to a website you visit often (e.g., a news site, social media, etc.).\n",
    "\n",
    "2. Add an image (`<img>`) to the page. You can use any image URL from the web."
   ]
  },
  {
   "cell_type": "markdown",
   "id": "cbcec2ff-1d1d-46a0-a968-0d3217dc2add",
   "metadata": {
    "editable": true,
    "slideshow": {
     "slide_type": "subslide"
    },
    "tags": []
   },
   "source": [
    "### Exercise 2: Styling with CSS\n",
    "\n",
    "1. Add some **CSS styles** to the HTML page from Exercise 1.\n",
    "   - Change the background color of the page to light gray.\n",
    "   - Center the text inside the `<h1>` element.\n",
    "   - Set the font color of the paragraph text to dark blue.\n",
    "   - Add padding and a border to the image.\n",
    "\n",
    "2. Write the CSS in a `<style>` block inside the `<head>` of your HTML document."
   ]
  },
  {
   "cell_type": "markdown",
   "id": "1b44325e-7e6e-4a39-b7c6-677d6b70d6d4",
   "metadata": {
    "editable": true,
    "slideshow": {
     "slide_type": "subslide"
    },
    "tags": []
   },
   "source": [
    "### Exercise 3: Add JavaScript Interactivity\n",
    "\n",
    "1. Add a button below the list of hobbies that says \"Click Me!\".\n",
    "2. When the button is clicked, a **JavaScript alert** should display the message \"Hello from JavaScript!\".\n",
    "3. Change the text of the paragraph (`<p>`) to \"You clicked the button!\" after the button is clicked.\n",
    "4. Write the JavaScript inside a `<script>` tag at the bottom of your HTML document."
   ]
  },
  {
   "cell_type": "markdown",
   "id": "74bb3800-ed6d-4e96-b4d5-1d86ec836174",
   "metadata": {
    "editable": true,
    "slideshow": {
     "slide_type": "subslide"
    },
    "tags": []
   },
   "source": [
    "## Solutions\n",
    "\n",
    "### Exercice 1: A simple HTML page\n",
    "```html\n",
    "<!DOCTYPE html>\n",
    "<html lang=\"en\">\n",
    "<head>\n",
    "  <meta charset=\"UTF-8\">\n",
    "  <title>My Webpage</title>\n",
    "</head>\n",
    "<body>\n",
    "  <h1>My Webpage</h1>\n",
    "  <p>Hi, I'm a student learning web development!</p>\n",
    "  \n",
    "  <h2>My Hobbies</h2>\n",
    "  <ul>\n",
    "    <li>Reading</li>\n",
    "    <li>Traveling</li>\n",
    "    <li>Cooking</li>\n",
    "  </ul>\n",
    "  \n",
    "  <p>Visit my favorite website: <a href=\"https://www.example.com\">Example Website</a></p>\n",
    "  \n",
    "  <img src=\"https://via.placeholder.com/150\" alt=\"Placeholder Image\">\n",
    "</body>\n",
    "</html>\n",
    "```"
   ]
  },
  {
   "cell_type": "markdown",
   "id": "f87818e4-021c-4ca8-ad34-a837ecbb6db4",
   "metadata": {
    "editable": true,
    "slideshow": {
     "slide_type": "subslide"
    },
    "tags": []
   },
   "source": [
    "### Exercice 2: Styling with CSS\n",
    "\n",
    "```html\n",
    "<style>\n",
    "    body {\n",
    "      background-color: lightgray;\n",
    "    }\n",
    "    h1 {\n",
    "      text-align: center;\n",
    "    }\n",
    "    p {\n",
    "      color: darkblue;\n",
    "    }\n",
    "    img {\n",
    "      padding: 10px;\n",
    "      border: 2px solid black;\n",
    "    }\n",
    "  </style>\n",
    "  ```"
   ]
  },
  {
   "cell_type": "markdown",
   "id": "a1c49814-55ae-49c9-ae7b-dc572091e21c",
   "metadata": {
    "editable": true,
    "slideshow": {
     "slide_type": "subslide"
    },
    "tags": []
   },
   "source": [
    "### Exercise 3: Add JavaScript Interactivity\n",
    "\n",
    "The button\n",
    "```html\n",
    "<button onclick=\"sayHello()\">Click Me!</button>\n",
    "```\n",
    "\n",
    "The JavaScript\n",
    "```html\n",
    "<script>\n",
    "    function sayHello() {\n",
    "      alert(\"Hello from JavaScript!\");\n",
    "      document.querySelector(\"p\").innerHTML = \"You clicked the button!\";\n",
    "    }\n",
    "  </script>\n",
    "```"
   ]
  },
  {
   "cell_type": "markdown",
   "id": "atomic-criterion",
   "metadata": {
    "editable": true,
    "slideshow": {
     "slide_type": "slide"
    },
    "tags": [],
    "toc-hr-collapsed": true
   },
   "source": [
    "# Getting Started with oTree"
   ]
  },
  {
   "cell_type": "markdown",
   "id": "9c8aec56-1e03-49e3-a3fe-e99afe0b6def",
   "metadata": {
    "editable": true,
    "slideshow": {
     "slide_type": "subslide"
    },
    "tags": []
   },
   "source": [
    "## Dedicated environment in Anaconda\n",
    "\n",
    "**_With Anaconda Navigator_** \n",
    "- click on *Environments* \n",
    "- click on *Create*\n",
    "- enter a name, *otree_env* for example and click on *Python*  and choose Python 3.11\n",
    "\n",
    "**_Without Anaconda Navigator_**  \n",
    "\n",
    "Open the Anaconda Prompt (or terminal)\n",
    "- On Windows: Search for \"Anaconda Prompt\".\n",
    "- On macOS/Linux: Use the terminal.\n",
    "- Run the following command in the Anaconda Prompt or terminal:\n",
    "```bash\n",
    "  conda create --name otree_env python=3.11\n",
    "```"
   ]
  },
  {
   "cell_type": "markdown",
   "id": "b57917a4-0b70-47d8-b9e1-cc0baff2b99b",
   "metadata": {
    "editable": true,
    "slideshow": {
     "slide_type": "subslide"
    },
    "tags": []
   },
   "source": [
    "## Installation of otree\n",
    "\n",
    "In the Anaconda Prompt, activate the `otree_env` environment\n",
    "```bash\n",
    "conda activate otree_env\n",
    "```\n",
    "\n",
    "Install oTree with:\n",
    "```bash\n",
    "pip install otree\n",
    "```\n",
    "\n",
    "To check if oTree was installed correctly: \n",
    "```bash\n",
    "otree --version\n",
    "```\n",
    "This should display the installed version of oTree."
   ]
  },
  {
   "cell_type": "markdown",
   "id": "c169e5bf-3cae-420b-a477-100a2163aa93",
   "metadata": {
    "editable": true,
    "slideshow": {
     "slide_type": "subslide"
    },
    "tags": []
   },
   "source": [
    "## Creating a New oTree Project\n",
    "\n",
    "- Run the following command to create an oTree project:\n",
    "  ```bash\n",
    "  otree startproject my_otree_project\n",
    "  ```\n",
    "This will create a folder my_otree_project with the project structure.  \n",
    "\n",
    "Navigate to your project folder\n",
    "```bash\n",
    "cd my_otree_project\n",
    "```\n",
    "At this point, we have a basic oTree project."
   ]
  },
  {
   "cell_type": "markdown",
   "id": "5abe36fc-9bb2-4558-86c8-fee1121f4f7e",
   "metadata": {
    "editable": true,
    "slideshow": {
     "slide_type": "subslide"
    },
    "tags": []
   },
   "source": [
    "## Python IDE : Pycharm\n",
    "\n",
    "- IDE  = Integrated Development Environment\n",
    "- https://www.jetbrains.com/pycharm/\n",
    "- Download the Pycharm **Community version** and install it\n",
    "\n",
    "<img src=\"img/pycharm.png\" alt=\"Pycharm\" style=\"height:200px\"/>"
   ]
  },
  {
   "cell_type": "markdown",
   "id": "63db9b5d-c13b-4809-9119-c3a917996054",
   "metadata": {
    "editable": true,
    "slideshow": {
     "slide_type": "subslide"
    },
    "tags": []
   },
   "source": [
    "**Intégration of the otree project in PyCharm**  \n",
    "\n",
    "- once done, click on \"new project\", and in the location select the directory of your oTree project (my_otree_project)\n",
    "- for the python interpreter, select \"Custom environment\", then \"Conda environment\" and click on the *browse* button to get the environment created with anaconda navigator (otree_env).\n",
    "\n",
    "**Now PyCharm will use the correct Python version and environment for your oTree project.**\n",
    "\n",
    "*NB : the otree_env environment is located in the anaconda folder/envs/otree_course/python.exe (or python if Linux or Mac)*"
   ]
  },
  {
   "cell_type": "markdown",
   "id": "643c0542-9b5c-46d4-9be9-1ff99dfb618c",
   "metadata": {
    "editable": true,
    "slideshow": {
     "slide_type": "subslide"
    },
    "tags": []
   },
   "source": [
    "## Running the oTree Development Server\n",
    "\n",
    "- **Start the oTree server** : Inside PyCharm's terminal or the Anaconda Prompt, run\n",
    "  ```bash\n",
    "  otree devserver\n",
    "  ```  \n",
    "\n",
    "- **Access the local server**: Open your web browser and go to\n",
    "`http://localhost:8000`\n",
    "\n",
    "\n",
    "You’ll see the oTree demo page where you can configure and run experiments.\n",
    "With the development server running, you can now start building apps in your oTree project."
   ]
  },
  {
   "cell_type": "markdown",
   "id": "6d678833-f5eb-4f8e-a435-17812c4daa61",
   "metadata": {
    "editable": true,
    "slideshow": {
     "slide_type": "subslide"
    },
    "tags": []
   },
   "source": [
    "## Summary\n",
    "\n",
    "1. **Created a dedicated environment** for oTree using Anaconda (`otree_env`).\n",
    "2. **Installed oTree** in the environment using `pip install otree`.\n",
    "3. **Created a new oTree project** using `otree startproject my_otree_project`.\n",
    "4. **Installed and configured PyCharm**, linking it to the Anaconda environment.\n",
    "5. **Ran the oTree development server** to test the project."
   ]
  },
  {
   "cell_type": "markdown",
   "id": "awful-canberra",
   "metadata": {
    "editable": true,
    "slideshow": {
     "slide_type": "slide"
    },
    "tags": [],
    "toc-hr-collapsed": true
   },
   "source": [
    "# Building The First oTree App"
   ]
  },
  {
   "cell_type": "markdown",
   "id": "afacb70a-ff5a-4920-a942-6b3b78a0a22f",
   "metadata": {
    "editable": true,
    "slideshow": {
     "slide_type": "subslide"
    },
    "tags": []
   },
   "source": [
    "## oTree Project Structure\n",
    "\n",
    "- An oTree project consists of **apps**. Each app represents a game or survey.\n",
    "- **Apps** are independent and reusable components.\n",
    "\n",
    "**Structure of an oTree Project:**\n",
    "```\n",
    "my_otree_project/\n",
    "├── settings.py   # Project settings (apps, currency, etc.)\n",
    "├── my_app/   # An individual app\n",
    "│   ├── __init__.py  # Defines the logic and handles the UI\n",
    "│   ├── MyPage.html  # HTML template for rendering the page\n",
    "│   ├── Results.html \n",
    "└── manage.py     # Command-line tool to manage the project\n",
    "``` "
   ]
  },
  {
   "cell_type": "markdown",
   "id": "282655c3-436d-4b2d-a748-b35539864309",
   "metadata": {
    "editable": true,
    "slideshow": {
     "slide_type": "subslide"
    },
    "tags": []
   },
   "source": [
    "## Core Components of an oTree App\n",
    "\n",
    "1. **models**:\n",
    "   - Defines the **data models** for players, groups, and subsessions.\n",
    "   - Contains the rules and structure of the game (e.g., payoffs, rounds).\n",
    "\n",
    "2. **pages**:\n",
    "   - Manages the flow of the game.\n",
    "   - Defines the user interface (UI) pages that participants see.\n",
    "   - Controls the order of pages and interactions.\n",
    "\n",
    "3. **templates**:\n",
    "   - Contains the **HTML files** for rendering each page.\n",
    "   - Allows for customization of the interface using HTML and Jinja2 templates.\n",
    "\n",
    "\n",
    "*models and pages* are in the `__init__.py` file."
   ]
  },
  {
   "cell_type": "markdown",
   "id": "5bc18481-9b79-4bb4-a804-320a311bca0a",
   "metadata": {
    "editable": true,
    "slideshow": {
     "slide_type": "subslide"
    },
    "tags": []
   },
   "source": [
    "## Creating Your First oTree App\n",
    "\n",
    "- **Step 1: Start a new app** : Run the following command to create a new app in your project:\n",
    "  ```bash\n",
    "  otree startapp my_first_app\n",
    "  \n",
    "  ```\n",
    "  \n",
    "- **Step 2: Add the app to your project**\n",
    "    - Open settings.py in your project folder.\n",
    "    - Add your new app to the SESSION_CONFIGS list:\n",
    "```python\n",
    "SESSION_CONFIGS = [\n",
    "    {\n",
    "        'name': 'my_first_app',\n",
    "        'display_name': \"My First App\",\n",
    "        'num_demo_participants': 2,\n",
    "        'app_sequence': ['my_first_app'],\n",
    "    },\n",
    "]\n",
    "```"
   ]
  },
  {
   "cell_type": "markdown",
   "id": "c04ab427-b7ec-4142-abb8-aa31b06292bf",
   "metadata": {
    "editable": true,
    "slideshow": {
     "slide_type": "subslide"
    },
    "tags": []
   },
   "source": [
    "## Defining the models\n",
    "\n",
    "- **Players**, **Groups**, and **Subsessions** are the core models used to structure the game.\n",
    "\n",
    "Example:\n",
    "```python\n",
    "from otree.api import *\n",
    "\n",
    "class Subsession(BaseSubsession):\n",
    "    pass\n",
    "\n",
    "class Group(BaseGroup):\n",
    "    pass\n",
    "\n",
    "class Player(BasePlayer):\n",
    "    name = models.StringField(label=\"What is your name?\")\n",
    "    age = models.IntegerField(label=\"How old are you?\")\n",
    "```\n",
    "\n",
    "This defines a simple app where participants will enter their name and age."
   ]
  },
  {
   "cell_type": "markdown",
   "id": "f6f796fc-5ed7-4885-a34e-b286dc4e978e",
   "metadata": {
    "editable": true,
    "slideshow": {
     "slide_type": "subslide"
    },
    "tags": []
   },
   "source": [
    "## Controlling Flow\n",
    "\n",
    "The `page_sequence` list controls the **sequence of pages** participants see during the experiment.\n",
    "\n",
    "Example:\n",
    "```python\n",
    "\n",
    "class MyPage(Page):\n",
    "    form_model = 'player'\n",
    "    form_fields = ['name', 'age']\n",
    "\n",
    "class Results(Page):\n",
    "    pass\n",
    "\n",
    "page_sequence = [MyPage, Results]\n",
    "```\n",
    "\n",
    "This example shows two pages: one where participants enter their name and age, and a second (empty) that will display the results."
   ]
  },
  {
   "cell_type": "markdown",
   "id": "52b1c6d1-8f45-42bc-a023-f2b02961e5a8",
   "metadata": {
    "editable": true,
    "slideshow": {
     "slide_type": "subslide"
    },
    "tags": []
   },
   "source": [
    "## HTML Templates\n",
    "\n",
    "- Templates are are used to render the HTML interface.\n",
    "\n",
    "Example Template (Questionnaire.html):\n",
    "```html\n",
    "{{ block title }}\n",
    "{{ endblock }}\n",
    "\n",
    "{{ block content }}\n",
    "  <p>Please enter your information below:</p>\n",
    "  {{ formfields }}\n",
    "  {{ next_button }} \n",
    "{{ endblock }}\n",
    "```\n",
    "\n",
    "The `{{ formfields }}` block renders the fields from MyPage (e.g., name, age)."
   ]
  },
  {
   "cell_type": "markdown",
   "id": "f18ae332-c29f-4fed-90ab-5b01e6c69519",
   "metadata": {
    "editable": true,
    "slideshow": {
     "slide_type": "subslide"
    },
    "tags": []
   },
   "source": [
    "## Running the oTree App\n",
    "\n",
    "- **Step 1: Run the development server** : \n",
    "  ```bash\n",
    "  otree devserver\n",
    "  ```\n",
    "\n",
    "- **Step 2: Access the app in your browser**\n",
    "`http://localhost:8000`\n",
    "\n",
    "From here, you can select your app and run it with the demo participants."
   ]
  },
  {
   "cell_type": "markdown",
   "id": "documented-antibody",
   "metadata": {
    "editable": true,
    "slideshow": {
     "slide_type": "slide"
    },
    "tags": []
   },
   "source": [
    "# Customizing Models and Fields"
   ]
  },
  {
   "cell_type": "markdown",
   "id": "a28a4d83-f03b-4712-b664-d5fd1d123d33",
   "metadata": {
    "editable": true,
    "slideshow": {
     "slide_type": "subslide"
    },
    "tags": []
   },
   "source": [
    "In oTree, data is structured using three main models:\n",
    "  1. **Subsession**: Represents one session of the experiment.\n",
    "  2. **Group**: Represents a set of participants interacting together.\n",
    "  3. **Player**: Represents each participant in the experiment.\n",
    "\n",
    "These models are defined in `__init__.py` and are subclasses of:\n",
    "  - `BaseSubsession`\n",
    "  - `BaseGroup`\n",
    "  - `BasePlayer`"
   ]
  },
  {
   "cell_type": "markdown",
   "id": "442449f5-c37b-44fe-99af-3fd28cbdbf94",
   "metadata": {
    "editable": true,
    "slideshow": {
     "slide_type": "subslide"
    },
    "tags": []
   },
   "source": [
    "## Defining Custom Fields in Models\n",
    "\n",
    "- Fields in oTree are used to store data for players, groups, and subsessions.\n",
    "- You can define custom fields with different data types (e.g., strings, integers, currencies).\n",
    "\n",
    "_Common Field Types_:\n",
    "- **IntegerField**: Stores whole numbers.\n",
    "   ```python\n",
    "   score = models.IntegerField()\n",
    "   ```\n",
    "- **StringField**: Stores text data.\n",
    "   ```python\n",
    "   name = models.StringField()\n",
    "    ```\n",
    "- **BooleanField**: Stores True or False values.\n",
    "    ```python\n",
    "    student = models.BooleanField()\n",
    "    ```\n",
    "- **CurrencyField**: Stores monetary values (custom oTree type).\n",
    "   ```python\n",
    "    payoff = models.CurrencyField()\n",
    "    ```"
   ]
  },
  {
   "cell_type": "markdown",
   "id": "7816303a-d6ae-45ed-a994-14baf3fd6552",
   "metadata": {
    "editable": true,
    "slideshow": {
     "slide_type": "subslide"
    },
    "tags": []
   },
   "source": [
    "**Adding Fields to the Player Model**\n",
    "\n",
    "```python\n",
    "class Player(BasePlayer):\n",
    "    name = models.StringField(label=\"What is your name?\")\n",
    "    age = models.IntegerField(label=\"How old are you?\")\n",
    "    score = models.IntegerField(initial=0)\n",
    "```\n",
    "\n",
    "- The label argument defines what participants will see on the form.\n",
    "- The initial argument sets a default value (e.g., score starts at 0)."
   ]
  },
  {
   "cell_type": "markdown",
   "id": "ae96210e-402a-4ba4-8ab7-be7b2837daaf",
   "metadata": {
    "editable": true,
    "slideshow": {
     "slide_type": "subslide"
    },
    "tags": []
   },
   "source": [
    "**Fields can be customized using several arguments**\n",
    "\n",
    "- **label**: Text that appears next to the input field.\n",
    "   ```python\n",
    "   age = models.IntegerField(label=\"Your Age\")\n",
    "   ```\n",
    "- **choices**: Provide a list of options for multiple choice fields.\n",
    "    ```python\n",
    "    favorite_color = models.StringField(choices=[\"Red\", \"Blue\", \"Green\"])\n",
    "    ```\n",
    "- **initial**: Set a default value.\n",
    "    ```python\n",
    "    score = models.IntegerField(initial=0)\n",
    "    ```\n",
    "- **min and max**: for numeric fields.\n",
    "  ```python\n",
    "    age = models.IntegerField(label=\"Your Age\", min=18, max=100)\n",
    "    ```"
   ]
  },
  {
   "cell_type": "markdown",
   "id": "3255f684-7a33-4c1c-862a-2665073f758d",
   "metadata": {
    "editable": true,
    "slideshow": {
     "slide_type": "subslide"
    },
    "tags": []
   },
   "source": [
    "## Using Form Fields in Pages\n",
    "\n",
    "- To display a form field to the participant, you need to reference it in `form_fields` attribute of the corresponding class.\n",
    "\n",
    "Example:\n",
    "```python\n",
    "class MyPage(Page):\n",
    "    form_model = 'player'\n",
    "    form_fields = ['name', 'age', 'score']\n",
    "```"
   ]
  },
  {
   "cell_type": "markdown",
   "id": "125ce036-1983-4ecd-83b2-d521da582a76",
   "metadata": {
    "editable": true,
    "slideshow": {
     "slide_type": "subslide"
    },
    "tags": []
   },
   "source": [
    "- **blank**: Allows a field to be left empty by participants (default is False).\n",
    "If blank=True, the field can be optional.\n",
    "    ```python\n",
    "    age = models.IntegerField(label=\"Your Age\", min=18, max=100, blank=True)\n",
    "    ```\n",
    "- **widget**: Customize the type of input field (e.g., radio buttons, sliders, etc.).\n",
    "    ```python\n",
    "    favorite_color = models.StringField(choices=[\"Red\", \"Blue\", \"Green\"], widget=widgets.RadioSelectHorizontal)\n",
    "    ```\n",
    "By default with choices, a dropdown menu. Possible other widgets: RadioSelect, RadioSelectHorizontal."
   ]
  },
  {
   "cell_type": "markdown",
   "id": "visible-respondent",
   "metadata": {
    "editable": true,
    "slideshow": {
     "slide_type": "subslide"
    },
    "tags": []
   },
   "source": [
    "## Exercice\n",
    "\n",
    "- create a new application called demographics\n",
    "- create the fields of the demographic questionnaire:\n",
    "    - gender: woman / man\n",
    "    - age\n",
    "    - marital status: single, married, divorced, widowed\n",
    "    - student: yes / no\n",
    "    - level of study (Bac, Licence, Master, PhD)\n",
    "    - field of study (Education, Sciences, Engineering, Law and Political Science, Agriculture and Food, Health, Economics and Management, Technical Studies)"
   ]
  },
  {
   "cell_type": "markdown",
   "id": "e3ec4412-0a91-40af-bffd-f9439c854759",
   "metadata": {
    "editable": true,
    "slideshow": {
     "slide_type": "slide"
    },
    "tags": []
   },
   "source": [
    "# Managing Flow and Pages"
   ]
  },
  {
   "cell_type": "markdown",
   "id": "89d881d1-19da-40e3-be55-743caf5b89a2",
   "metadata": {
    "editable": true,
    "slideshow": {
     "slide_type": "subslide"
    },
    "tags": []
   },
   "source": [
    "- In oTree, experiments are structured into **pages** that control how participants interact with the app.\n",
    "- Pages determine:\n",
    "  - What is displayed to participants.\n",
    "  - The sequence in which the pages appear.\n",
    "  - How data is collected from participants.\n",
    "\n",
    "Three key components of experiment flow:\n",
    "1. **Pages**: Where the interaction occurs.\n",
    "2. **Page Sequence**: The order of the pages.\n",
    "3. **Wait Pages**: For synchronizing participants in multiplayer games.\n"
   ]
  },
  {
   "cell_type": "markdown",
   "id": "fe4bb20e-1f7c-4474-9c4c-fb92e22f3711",
   "metadata": {
    "editable": true,
    "slideshow": {
     "slide_type": "subslide"
    },
    "tags": []
   },
   "source": [
    "## Controlling Page Sequence\n",
    "\n",
    "- Pages are defined as classes that inherit from the `Page` class.\n",
    "- The order in which pages are presented is determined by the `page_sequence` list.\n",
    "\n",
    "```python\n",
    "class Introduction(Page):\n",
    "    pass\n",
    "\n",
    "class Survey(Page):\n",
    "    form_model = 'player'\n",
    "    form_fields = ['age', 'gender']\n",
    "\n",
    "class Results(Page):\n",
    "    pass\n",
    "\n",
    "page_sequence = [Introduction, Survey, Results]\n",
    "```\n",
    "\n",
    "- The participant will first see the Introduction page, then the Survey, and finally the Results page.\n",
    "- `form_model` refers to the model (usually player, group, or subsession).\n",
    "- `form_fields` contains a list of fields that the page collects from the participant."
   ]
  },
  {
   "cell_type": "markdown",
   "id": "eb923956-b634-4931-8b2a-6344e95179e8",
   "metadata": {
    "editable": true,
    "slideshow": {
     "slide_type": "subslide"
    },
    "tags": []
   },
   "source": [
    "## Adding Logic to Pages (is_displayed)\n",
    "\n",
    "- You can control whether a page is shown to a participant using the `is_displayed` method.\n",
    "\n",
    "Example:\n",
    "```python\n",
    "class ForStudent(Page):\n",
    "    form_model = 'player'\n",
    "    form_fields = ['level_of_study', \"studied_discipline\"]\n",
    "\n",
    "    def is_displayed(player: Player):\n",
    "        return player.student\n",
    "```\n",
    "The ForStudent page will only be displayed if the participant is a student (information that should have been collected earlier)."
   ]
  },
  {
   "cell_type": "markdown",
   "id": "59c07d16-9a2c-4120-af86-d1b9b698aaed",
   "metadata": {
    "editable": true,
    "slideshow": {
     "slide_type": "subslide"
    },
    "tags": []
   },
   "source": [
    "## Before/After Page Submission (before_next_page)\n",
    "\n",
    "- The `before_next_page` method is used to run logic right before moving to the next page.\n",
    "\n",
    "```python\n",
    "class Choice(Page):\n",
    "    form_model = 'player'\n",
    "    form_fields = ['decision']\n",
    "\n",
    "    def before_next_page(player: Player, timeout_happened):\n",
    "        player.compute_payoff\n",
    "\n",
    "class Results(Page):\n",
    "    pass\n",
    "```\n",
    "The player's payoff is calculated before the display of the Results."
   ]
  },
  {
   "cell_type": "markdown",
   "id": "fd0d0e22-6c6e-4838-89fe-fb8271868915",
   "metadata": {
    "editable": true,
    "slideshow": {
     "slide_type": "subslide"
    },
    "tags": []
   },
   "source": [
    "## Synchronizing Participants with Wait Pages\n",
    "\n",
    "- In multiplayer games, participants need to be synchronized before continuing. This is done using **Wait Pages**.\n",
    "- Wait pages ensure that all participants in a group reach the same point before proceeding.\n",
    "\n",
    "```python\n",
    "class WaitForGroup(WaitPage):\n",
    "    pass\n",
    "```\n",
    "If you want the page to wait for all participants across all groups in a session, use the wait_for_all_groups attribute.\n",
    "\n",
    "```python\n",
    "class WaitForAll(WaitPage):\n",
    "    wait_for_all_groups = True\n",
    "```\n",
    "\n",
    "When wait_for_all_groups = True, the Wait Page will only proceed when all groups in the session have reached the Wait Page.\n",
    "This is useful in experiments where group actions affect each other, or you want to synchronize the entire session."
   ]
  },
  {
   "cell_type": "markdown",
   "id": "57e6fcf7-d44a-4590-98e3-9bd2b2e4eb09",
   "metadata": {
    "editable": true,
    "slideshow": {
     "slide_type": "subslide"
    },
    "tags": []
   },
   "source": [
    "**You can define logic to run once all participants are ready**\n",
    "\n",
    "```python\n",
    "class WaitForGroup(WaitPage):\n",
    "    def after_all_players_arrive(group: Group):\n",
    "        group.compute_total_contributions()\n",
    "```\n",
    "The after_all_players_arrive method will execute once all players have reached the Wait Page.\n",
    "\n",
    "if `wait_for_all_groups = True` the parameter of the `after_all_players_arrive` must be `subsession: Subsession`\n",
    "```python\n",
    "class WaitForAll(WaitPage):\n",
    "    wait_for_all_groups = True\n",
    "    \n",
    "    def after_all_players_arrive(subsession: Subsession):\n",
    "        subsession.compute_players_payoffs()\n",
    "```"
   ]
  },
  {
   "cell_type": "markdown",
   "id": "00c03da3-11a0-4958-bc81-1846b659e87c",
   "metadata": {
    "editable": true,
    "slideshow": {
     "slide_type": "subslide"
    },
    "tags": []
   },
   "source": [
    "## Working with Timeout\n",
    "\n",
    "- Pages in oTree can have time limits, allowing participants a limited amount of time to respond.\n",
    "\n",
    "Setting a Timeout:\n",
    "```python\n",
    "class Choice(Page):\n",
    "    form_model = 'player'\n",
    "    form_fields = ['decision']\n",
    "    timeout_seconds = 30\n",
    "```\n",
    "After 30 seconds, the page will automatically submit and move to the next one.\n"
   ]
  },
  {
   "cell_type": "markdown",
   "id": "f7e9e17a-15aa-4e1e-a2fe-b9a88a47cb8e",
   "metadata": {
    "editable": true,
    "slideshow": {
     "slide_type": "subslide"
    },
    "tags": []
   },
   "source": [
    "Use the timeout_happened argument in before_next_page to check if the page timed out.\n",
    "```python\n",
    "class Choice(Page):\n",
    "    form_model = 'player'\n",
    "    form_fields = ['decision']\n",
    "    timeout_seconds = 30\n",
    "\n",
    "    def before_next_page(player: Player, timeout_happened):\n",
    "        if timeout_happened:\n",
    "            player.participant._is_bot = True\n",
    "            player.decision = random.randint(0, 20)\n",
    "```"
   ]
  },
  {
   "cell_type": "markdown",
   "id": "d7619171-aa5f-4714-8eab-7fe090dbe5f1",
   "metadata": {
    "editable": true,
    "slideshow": {
     "slide_type": "subslide"
    },
    "tags": []
   },
   "source": [
    "## Summary\n",
    "\n",
    "-  **Pages**: Define how participants interact with your experiment.\n",
    "-  **Page Sequence**: Determines the order in which pages are displayed.\n",
    "- **Wait Pages**: Used to synchronize participants in multiplayer games.\n",
    "- **Adding Logic**: Use `is_displayed` and `before_next_page` to control the flow.\n",
    "- **Timeouts**: Limit the time participants have to answer."
   ]
  },
  {
   "cell_type": "markdown",
   "id": "cb41bb72-6ec5-439d-acb4-5e15bcce2585",
   "metadata": {
    "editable": true,
    "slideshow": {
     "slide_type": "subslide"
    },
    "tags": []
   },
   "source": [
    "## Exercice: Task with Synchronization\n",
    "\n",
    "Create a multiplayer app where each player enters a number between 0 and 100. After all players have submitted their answers, the average number is calculated and displayed to all participants."
   ]
  },
  {
   "cell_type": "markdown",
   "id": "1d58c3b8-5f5b-402b-aa67-cceafe6c0492",
   "metadata": {
    "editable": true,
    "slideshow": {
     "slide_type": "subslide"
    },
    "tags": []
   },
   "source": [
    "## Solution\n",
    "Create the app\n",
    "```bash\n",
    "otree startapp number_game\n",
    "```\n",
    "\n",
    "**The models**\n",
    "```python\n",
    "class Subsession(BaseSubsession):\n",
    "    average_number = models.FloatField()\n",
    "\n",
    "    def compute_average_number(self):\n",
    "        players = self.get_players()\n",
    "        total = sum([p.chosen_number for p in players])\n",
    "        self.average_number = total / len(players)\n",
    "\n",
    "class Group(BaseGroup):\n",
    "    pass\n",
    "\n",
    "class Player(BasePlayer):\n",
    "    chosen_number = models.IntegerField(\n",
    "        label=\"Choose a number between 0 and 100\",\n",
    "        min=0, max=100)\n",
    "```"
   ]
  },
  {
   "cell_type": "markdown",
   "id": "eb6e5f65-2fc3-4736-9a2f-c6a165964bb6",
   "metadata": {
    "editable": true,
    "slideshow": {
     "slide_type": "subslide"
    },
    "tags": []
   },
   "source": [
    "**The pages**\n",
    "\n",
    "```python\n",
    "class InputPage(Page):\n",
    "    form_model = 'player'\n",
    "    form_fields = ['chosen_number']\n",
    "\n",
    "class WaitForAll(WaitPage):\n",
    "    wait_for_all_groups = True\n",
    "\n",
    "    def after_all_players_arrive(subsession: Subsession):\n",
    "        subsession.compute_average_number()\n",
    "\n",
    "class Results(Page):\n",
    "    pass\n",
    "\n",
    "page_sequence = [InputPage, WaitForPlayers, Results]\n",
    "```"
   ]
  },
  {
   "cell_type": "markdown",
   "id": "9eab3036-6109-48d2-aa49-17d52d3527cb",
   "metadata": {
    "editable": true,
    "slideshow": {
     "slide_type": "subslide"
    },
    "tags": []
   },
   "source": [
    "**The templates**\n",
    "\n",
    "InputPage\n",
    "```html\n",
    "{{ block title }}\n",
    "Choice of a number\n",
    "{{ endblock }}\n",
    "\n",
    "{{ block content }}\n",
    "{{ formfields }}\n",
    "{{ next_button }}\n",
    "{{ endblock }}\n",
    "```\n",
    "\n",
    "Results\n",
    "```html\n",
    "{{ block title }}\n",
    "Results\n",
    "{{ endblock }}\n",
    "\n",
    "{{ block content }}\n",
    "<p>The average number chosen by participants is {{ subsession.average_number }}.</p>\n",
    "{{ next_button }}\n",
    "{{ endblock }}\n",
    "```"
   ]
  },
  {
   "cell_type": "markdown",
   "id": "agreed-hours",
   "metadata": {
    "editable": true,
    "slideshow": {
     "slide_type": "slide"
    },
    "tags": [],
    "toc-hr-collapsed": true
   },
   "source": [
    "# Group and multiplayer interaction"
   ]
  },
  {
   "cell_type": "markdown",
   "id": "5dbc77bf-41f6-4063-bfe0-d35799a4c8da",
   "metadata": {
    "editable": true,
    "slideshow": {
     "slide_type": "subslide"
    },
    "tags": []
   },
   "source": [
    "**Illustrated with the Public Goods Game**\n",
    "\n",
    "- In the **Public Goods Game**, participants are divided into groups.\n",
    "- Each participant decides how much of their private endowment to contribute to a common good.\n",
    "- The total contributions are multiplied by a factor and then shared equally among all group members."
   ]
  },
  {
   "cell_type": "markdown",
   "id": "5c5f0e14-83f5-4da2-9c92-2ac1905ac418",
   "metadata": {
    "editable": true,
    "slideshow": {
     "slide_type": "subslide"
    },
    "tags": []
   },
   "source": [
    "## Flow of the Public Goods Game\n",
    "\n",
    "**_Experiment Parameters_**:\n",
    "- **Group size**: 4 players.\n",
    "- **Endowment**: Each player starts with 20 tokens per round.\n",
    "- **Private account**: Each token kept is worth 1 ECU (Experimental Currency Unit).\n",
    "- **Public account**: Each token contributed is worth 0.5 ECU for **each group member**.\n",
    "- **Rounds**: The game is repeated for 10 rounds.\n",
    "\n",
    "**_Flow of the Experiment_**:\n",
    "1. **Instructions**: Display game instructions to all players.\n",
    "2. **WaitForAll**: Wait for all players to finish reading the instructions.\n",
    "3. **Decision**: Players decide how much of their 20-token endowment to contribute to the public pool.\n",
    "4. **WaitForGroup**: Synchronize the group after decisions are made.\n",
    "5. **Results**: Display the total group contribution and individual earnings.\n",
    "6. **WaitForAll**: Wait for all groups to finish viewing results.\n",
    "7. **Next Round**: Repeat for 10 rounds.\n",
    "8. **Final Screen**: End of experiment, display final earnings and thank participants."
   ]
  },
  {
   "cell_type": "markdown",
   "id": "9c0dd3e6-f11c-4eac-ae03-7966b5216a03",
   "metadata": {
    "editable": true,
    "slideshow": {
     "slide_type": "subslide"
    },
    "tags": []
   },
   "source": [
    "## Using the Constants Class\n",
    "\n",
    "- In oTree, the constants class (`C`) is where we define fixed parameters for the experiment, such as:\n",
    "  - **Number of rounds**\n",
    "  - **Players per group**\n",
    "  - **Endowment**\n",
    "  - **Marginal Per Capita Return (MPCR)**\n",
    "\n",
    "```python\n",
    "class Constants(BaseConstants):\n",
    "    NAME_IN_URL = 'public_goods_game'\n",
    "    PLAYERS_PER_GROUP = 4  # Group size\n",
    "    NUM_ROUNDS = 10  # Number of rounds\n",
    "    ENDOWMENT = 20  # Initial endowment for each player\n",
    "    MPCR = 0.5  # Marginal Per Capita Return\n",
    "```"
   ]
  },
  {
   "cell_type": "markdown",
   "id": "89da3a9e-0922-4a3e-9c05-c13921e554ef",
   "metadata": {
    "editable": true,
    "slideshow": {
     "slide_type": "subslide"
    },
    "tags": []
   },
   "source": [
    "## The `creating_session` Method\n",
    "\n",
    "- In oTree, the **`creating_session`** method is used to initialize data at the start of the session.\n",
    "- It runs once, before the first round of the experiment, and is typically used to:\n",
    "  - Set initial values for fields.\n",
    "  - Group participants.\n",
    "  - Assign other session-wide variables.\n",
    "- If the application is repeated (NUM_ROUNDS > 1) this method is called once by round.\n",
    "\n",
    "\n",
    "```python\n",
    "def creating_session(subsession: Subsession):\n",
    "    # Group participants randomly\n",
    "    subsession.group_randomly()\n",
    "```"
   ]
  },
  {
   "cell_type": "markdown",
   "id": "b51eb312-90a6-4f64-92c5-2843758d7526",
   "metadata": {
    "editable": true,
    "slideshow": {
     "slide_type": "subslide"
    },
    "tags": []
   },
   "source": [
    "## Grouping Players\n",
    "\n",
    "- oTree forms groups based on participant ID and the PLAYERS_PER_GROUP value.\n",
    "- Participant ID are set based on the order in which they joined the session.\n",
    "\n",
    "**_With PLAYERS_PER_GROUP = 4_**:\n",
    "- The first four participants (Participant IDs 1, 2, 3, and 4) will be placed in Group 1.\n",
    "- The next four participants (Participant IDs 5, 6, 7, and 8) will be placed in Group 2.\n",
    "-  etc.\n",
    "- These groups will remain the same for every round, provided you have multiple rounds."
   ]
  },
  {
   "cell_type": "markdown",
   "id": "cbb2474d-1869-4524-b615-a5152e9a20d0",
   "metadata": {
    "editable": true,
    "slideshow": {
     "slide_type": ""
    },
    "tags": []
   },
   "source": [
    "In the PGG, players are randomly grouped at the start of the game and then groups stay unchanged :\n",
    "- In the first round, participants are randomly grouped\n",
    "- For all subsequent rounds, groups are **automatically retained** unless you explicitly re-group them.\n",
    "\n",
    "```python\n",
    "def creating_session(subsession: Subsession):\n",
    "    if subsession.round_number == 1:\n",
    "        subsession.group_randomly()\n",
    "```"
   ]
  },
  {
   "cell_type": "markdown",
   "id": "e241e6d9-7408-42e7-869a-1416c1a979c2",
   "metadata": {
    "editable": true,
    "slideshow": {
     "slide_type": "subslide"
    },
    "tags": []
   },
   "source": [
    "## Defining group-level fields and methods\n",
    "\n",
    "- Each group needs to track the total contributions made by all group members.\n",
    "\n",
    "```python\n",
    "class Group(BaseGroup):\n",
    "    total_contribution = models.IntegerField()\n",
    "    individual_share = models.FloatField()\n",
    "\n",
    "    def compute_total_contribution(self):\n",
    "        self.total_contribution = sum([p.contribution for p in self.get_players()]))\n",
    "        self.individual_share = self.total_contribution / len(self.get_players())\n",
    "        # calcul of players' individual payoff\n",
    "        for p in self.get_players():\n",
    "            p.compute_payoff()\n",
    "```"
   ]
  },
  {
   "cell_type": "markdown",
   "id": "09d50b87-0a46-4911-8a38-aa3d82800ffe",
   "metadata": {
    "editable": true,
    "slideshow": {
     "slide_type": "subslide"
    },
    "tags": []
   },
   "source": [
    "## Player contribution and individual payoff\n",
    "\n",
    "- Each player decide how much to contribute from their endowment to the public good.\n",
    "- Their remaining endowment (what they don’t contribute) will be kept as private profit.\n",
    "  \n",
    "```python\n",
    "class Player(BasePlayer):\n",
    "    keep = models.IntegerField()\n",
    "    contribution = models.IntegerField(\n",
    "        label=\"How much do you contribute to the public good ?\",\n",
    "        min=0, max=C.ENDOWMENT\n",
    "    )\n",
    "    payoff_ecu = models.FloatField()\n",
    "\n",
    "    def compute_payoff(self):\n",
    "        self.payoff_ecu = self.keep + self.group.individual_share * C.MPCR\n",
    "        self.payoff = c(self.payoff_ecu * self.session.config[\"real_world_currency_per_point\"])"
   ]
  },
  {
   "cell_type": "markdown",
   "id": "decent-package",
   "metadata": {
    "editable": true,
    "slideshow": {
     "slide_type": "subslide"
    },
    "tags": []
   },
   "source": [
    "## Exercice\n",
    "\n",
    "Write the code of the public goods game.\n"
   ]
  },
  {
   "cell_type": "markdown",
   "id": "4000212b-061a-46af-bfd6-26f87a295a85",
   "metadata": {
    "editable": true,
    "slideshow": {
     "slide_type": "slide"
    },
    "tags": []
   },
   "source": [
    "# Automatic Execution and Simulations"
   ]
  },
  {
   "cell_type": "markdown",
   "id": "6dbe104b-81a3-478f-8ad4-c85613705c67",
   "metadata": {
    "editable": true,
    "slideshow": {
     "slide_type": "subslide"
    },
    "tags": []
   },
   "source": [
    "## Using `before_next_page` for Automated Execution\n",
    "\n",
    "- The `before_next_page` method can be used to automate certain actions before moving to the next page.\n",
    "- The timeout_happened parameter is triggered when the experimenter clicks \"Advance slowest users\" in the admin interface under the Monitor tab.\n",
    "\n",
    "```python\n",
    "def before_next_page(player, timeout_happened):\n",
    "    if timeout_happened:\n",
    "        player.contribution = random.randint(0, C.ENDOWMENT)\n",
    "    player.keep = C.ENDOWMENT - player.contribution\n",
    "```\n",
    "\n",
    "**Explanation**:\n",
    "- If the timeout_happened flag is triggered (e.g., using the \"Advance slowest users\" button), the amount a player allocates to the public account is automatically set to a random value.\n",
    "- For pages without data collection, simply clicking \"Advance slowest users\" will move the players to the next page without any additional action."
   ]
  },
  {
   "cell_type": "markdown",
   "id": "7b386395-be0a-4284-aaa8-dd04351d8fa2",
   "metadata": {
    "editable": true,
    "slideshow": {
     "slide_type": "subslide"
    },
    "tags": []
   },
   "source": [
    "**How to Test**:\n",
    "- Start a demo session of your experiment.\n",
    "- Open a player link and navigate to the Monitor tab.\n",
    "- Click \"Advance slowest users\" to test the page transition and observe the generated data in the Data tab.\n",
    "\n",
    "\n",
    "This method helps you ensure that pages transition correctly and that data is being properly generated during automated play."
   ]
  },
  {
   "cell_type": "markdown",
   "id": "bc498d76-b7f5-4ef6-af16-fddf90798585",
   "metadata": {
    "editable": true,
    "slideshow": {
     "slide_type": "subslide"
    },
    "tags": []
   },
   "source": [
    "## Writing Test Scripts with `tests.py`\n",
    "\n",
    "- You can run automated simulations in the terminal, generating data programmatically and testing the flow of your experiment.\n",
    "- This allows you to simulate many players and export the generated data for analysis.\n",
    "\n",
    "**Create a tests file**  \n",
    "In the folder of your oTree app (e.g., public_goods), create a new Python file called `tests.py`.\n",
    "\n",
    "```python\n",
    "from . import *\n",
    "import random\n",
    "```"
   ]
  },
  {
   "cell_type": "markdown",
   "id": "ebf8d644-76e2-4b3b-b97a-1a8a493af000",
   "metadata": {
    "editable": true,
    "slideshow": {
     "slide_type": "subslide"
    },
    "tags": []
   },
   "source": [
    "**Create the PlayerBot Class**\n",
    "- Define a PlayerBot class, which simulates participant behavior.\n",
    "- Use the play_round() method to specify the behavior for each round.\n",
    "\n",
    "```python\n",
    "class PlayerBot(Bot):\n",
    "    def play_round(self):\n",
    "        if self.round_number == 1:\n",
    "            yield Instructions\n",
    "        yield Submission(Decision, timeout_happened=True)\n",
    "```\n",
    "\n",
    "- yield: For each page in the `page_sequence`, use `yield` to submit actions.\n",
    "- For data collection pages, use `Submission()` to trigger the `timeout_happened` event.\n",
    "- No need to handle Wait Pages in the bot’s actions as they will be handled automatically."
   ]
  },
  {
   "cell_type": "markdown",
   "id": "5420fa8f-2d16-4c6f-92b3-37bfb190da34",
   "metadata": {
    "editable": true,
    "slideshow": {
     "slide_type": "subslide"
    },
    "tags": []
   },
   "source": [
    "**Run Tests**  \n",
    "\n",
    "In the terminal, run the tests using the following command:\n",
    "```bash\n",
    "otree test public_goods\n",
    "```\n",
    "\n",
    "By default, this runs the test with the num_demo_participants defined in your session config. You can specify more players like this:\n",
    "```bash\n",
    "otree test public_goods 20  # Simulate 20 participants\n",
    "```\n",
    "\n",
    "**Export Simulated Data**  \n",
    "To export the simulated data as a CSV, add the `--export` argument and specify the file path where you want the data saved:\n",
    "```bash\n",
    "otree test public_goods 20 --export C:\\Users\\John_Doe\\Desktop\\public_goods\n",
    "``` "
   ]
  },
  {
   "cell_type": "markdown",
   "id": "ff7c56d5-260d-4236-aaaa-53553f2f5371",
   "metadata": {
    "editable": true,
    "slideshow": {
     "slide_type": "subslide"
    },
    "tags": []
   },
   "source": [
    "## Exercice\n",
    "\n",
    "Write test files for both the Public Goods Game and the socio-demographic questionnaire, then simulate data and export it."
   ]
  },
  {
   "cell_type": "markdown",
   "id": "342bc467-88f4-4d83-807a-7fec5159619e",
   "metadata": {
    "editable": true,
    "slideshow": {
     "slide_type": "slide"
    },
    "tags": []
   },
   "source": [
    "# Exporting Data for Analysis"
   ]
  },
  {
   "cell_type": "markdown",
   "id": "1b6459dd-8f8e-47a3-af8e-f95ad431d1b1",
   "metadata": {
    "editable": true,
    "slideshow": {
     "slide_type": "subslide"
    },
    "tags": []
   },
   "source": [
    "## Viewing data in real-time\n",
    "\n",
    "You can view it in real-time using the oTree **admin panel**.\n",
    "  \n",
    "**Admin Panel Features**:\n",
    "- View participants’ responses as they play the game.\n",
    "- See real-time updates of contributions, payoffs, or any other data collected during the experiment.\n",
    "\n"
   ]
  },
  {
   "cell_type": "markdown",
   "id": "aed38d86-672f-4369-bd2d-d19e4d055ee9",
   "metadata": {
    "editable": true,
    "slideshow": {
     "slide_type": "subslide"
    },
    "tags": []
   },
   "source": [
    "## Session-Specific Data Export\n",
    "\n",
    "- This method exports **all data for a specific session**, including all apps that were played during the session. \n",
    "- This is useful when you want a **complete overview** of the entire session, including all rounds and all participants.\n",
    "\n",
    "1. **Go to the Session Tab** in the oTree Admin interface.\n",
    "2. Select the session you want to export data from.\n",
    "3. Click on the **Data Tab**\n",
    "4. Click on the **Plain/Excel** link (bottom right of the screen) to download the CSV file.\n",
    "\n",
    "What is Exported:\n",
    "- Data from all apps that were part of that session.\n",
    "- Includes:\n",
    "  - **Player-level data** (e.g., contributions, decisions, payoffs).\n",
    "  - **Group-level data** (e.g., total contributions, group decisions).\n",
    "  - **Subsession-level data** (e.g., round numbers, session configurations)."
   ]
  },
  {
   "cell_type": "markdown",
   "id": "5282e5a6-68a4-4563-a8cd-3e25e2392d72",
   "metadata": {
    "editable": true,
    "slideshow": {
     "slide_type": ""
    },
    "tags": []
   },
   "source": [
    "## Application-Specific Data Export\n",
    "\n",
    "- This method exports data for **individual apps** in your project.\n",
    "- This is useful when you want to analyze data for a **single app** in isolation, without including other apps from the session.\n",
    "\n",
    "1. **Go to the Data Tab** in the oTree Admin Interface.\n",
    "2. Select the specific application from which you want to export data.\n",
    "3. Click **\"Download\"** to export the CSV file.\n",
    "\n",
    "What is Exported:\n",
    "- Data specific to the chosen app.\n",
    "- Focuses on the fields and variables defined in that app’s **Player**, **Group**, and **Subsession** models.\n",
    "- Includes all rounds and participants for that app only."
   ]
  },
  {
   "cell_type": "markdown",
   "id": "7e29356a-6f28-40b1-8397-e0edcd6f7181",
   "metadata": {
    "editable": true,
    "slideshow": {
     "slide_type": ""
    },
    "tags": []
   },
   "source": [
    "## Data Wrangling - Cleaning and Preparing oTree Data\n",
    "\n",
    "Once you've exported your CSV files from oTree, you often need to clean and organize the data before analysis.\n",
    "\n",
    "**Common Data Wrangling Tasks**:\n",
    "1. **Remove Unnecessary Columns**: \n",
    "   - Drop columns that are irrelevant to your analysis (e.g., internal ID fields or system-generated variables).\n",
    "\n",
    "2. **Rename Columns**:\n",
    "   - Rename columns to make them more meaningful or easier to work with in your analysis.\n",
    "   - For example, rename `participant.label` to `participant`.\n",
    "\n",
    "3. **Check and Correct Data Types**:\n",
    "   - Ensure that columns have the correct data type (e.g., numeric columns are not mistakenly treated as strings).\n",
    "   - Convert columns like `round_number` and `payoff` to their appropriate types (integer, float).\n",
    "\n",
    "4. **Create New Variables**:\n",
    "   - Sometimes you need to derive new variables from existing data.\n",
    "   - Example: Calculate a **score** by summing up answers to multiple questions in a survey."
   ]
  },
  {
   "cell_type": "markdown",
   "id": "5d74e646-d3d9-4c99-918c-ccd655ac1918",
   "metadata": {
    "editable": true,
    "slideshow": {
     "slide_type": "subslide"
    },
    "tags": []
   },
   "source": [
    "**Data Wrangling Example in Python (pandas)**\n",
    "\n",
    "- In this example, we clean and merge data from two CSV files: **Public Goods Game data** and **Demographics data**.\n",
    "\n",
    "**Step-by-Step Code**:\n",
    "\n",
    "```python\n",
    "import pandas as pd\n",
    "\n",
    "# Load the Public Goods Game data\n",
    "df = pd.read_csv(\"public_goods.csv\")  # Load the CSV file\n",
    "print(df.shape)  # Output the number of rows and columns\n",
    "print(df.columns.to_list())  # List all column names\n",
    "```\n",
    "- Load the data: The pd.read_csv() function reads in the CSV file.\n",
    "- Inspect the data: The shape function prints the dimensions (rows, columns), and columns.to_list() prints all the column names."
   ]
  },
  {
   "cell_type": "markdown",
   "id": "be09a804-a6a3-4ba0-b4ac-2fd51fb9f64c",
   "metadata": {
    "editable": true,
    "slideshow": {
     "slide_type": "subslide"
    },
    "tags": []
   },
   "source": [
    "```python\n",
    "# Keep only relevant columns\n",
    "df = df[[columns_kept]].copy()\n",
    "\n",
    "# Rename columns for easier manipulation\n",
    "df.rename(columns={\"participant.code\": \"participant\", \"session.code\": \"session\"}, inplace=True)\n",
    "df.rename(columns={c: c.replace(\"player.\", \"\") for c in df.columns}, inplace=True)\n",
    "```\n",
    "- Keep selected columns: The list *columns_kept* defines which columns to retain. This step helps in removing unnecessary columns.\n",
    "- Rename columns: We rename some columns (e.g., participant.code → participant and session.code → session) for easier handling.\n",
    "- - Additionally, we simplify column names by removing the \"player.\" prefix for player-related data."
   ]
  },
  {
   "cell_type": "markdown",
   "id": "702d50a7-72c9-4783-97cc-fe04ba84d5ed",
   "metadata": {
    "editable": true,
    "slideshow": {
     "slide_type": ""
    },
    "tags": []
   },
   "source": [
    "```python\n",
    "# Repeat the process for the socio-demographic data\n",
    "demog = pd.read_csv(\"demographics.csv\")  # Load the CSV file\n",
    "demog = demog[[columns_kept]].copy()  # Keep relevant columns\n",
    "demog.rename(columns={\"participant.code\": \"participant\", \"session.code\": \"session\"}, inplace=True)\n",
    "demog.rename(columns={c: c.replace(\"player.\", \"\") for c in demog.columns}, inplace=True)\n",
    "```\n",
    "\n",
    "Repeat for Demographics Data: The same process is applied to the demographics data—keep only selected columns, and rename them for consistency."
   ]
  },
  {
   "cell_type": "markdown",
   "id": "4e7bbdde-e025-4e8e-95fe-bf9318d477e1",
   "metadata": {
    "editable": true,
    "slideshow": {
     "slide_type": "subslide"
    },
    "tags": []
   },
   "source": [
    "**Merge the Public Goods data and Demographics data on the participant column**\n",
    "```python\n",
    "df = df.merge(demog, on=[\"participant\"])\n",
    "\n",
    "# Optional: Save the cleaned and merged data for further analysis\n",
    "df.to_csv(\"cleaned_data.csv\", index=False)\n",
    "```\n",
    "\n",
    "Merge DataFrames: The merge() function combines the cleaned Public Goods data (df) with the Demographics data (demog) using the participant column as the key.\n"
   ]
  },
  {
   "cell_type": "markdown",
   "id": "25252331-15ae-4105-832e-49530b192963",
   "metadata": {
    "editable": true,
    "slideshow": {
     "slide_type": "subslide"
    },
    "tags": []
   },
   "source": [
    "## Exercice\n",
    "\n",
    "- open a jupyter-notebook, load the csv files, keep the needed columns, rename the columns and merge the files  \n",
    "- if you prefer, you can prepare the data with R"
   ]
  },
  {
   "cell_type": "markdown",
   "id": "national-parking",
   "metadata": {
    "slideshow": {
     "slide_type": "slide"
    },
    "tags": [],
    "toc-hr-collapsed": true
   },
   "source": [
    "# <a name=\"roles\">Roles, sequential game and conditional structure in web pages</a>\n",
    "\n",
    "*Practical example : the investment game*"
   ]
  },
  {
   "cell_type": "markdown",
   "id": "hairy-cleaners",
   "metadata": {
    "slideshow": {
     "slide_type": "subslide"
    }
   },
   "source": [
    "## <a name=\"invest_game_description\">The investment game</a>\n",
    "\n",
    "- pairs of players\n",
    "- 2 roles : trustor and trustee, 1 trustor and 1 trustee in each pair\n",
    "- both roles endowed with 10 Euros (or ECUs)\n",
    "- trustor chooses how many Euros/Ecus he/she sends to the trustee\n",
    "- each amount sent by the trustor is tripled by the experimenter, i.e. the trustee receives 3 times the amount sent by the trustor\n",
    "- the trustee sends back how many Euros/Ecus he/she wants, between zero and the receveid amount\n",
    "- Trustor's payoff : 10 - amount sent + amount returned by the trustee\n",
    "- Trustee's payoff : 10 + 3 x amount sent by the trustor - amount sent back to the trustor"
   ]
  },
  {
   "cell_type": "markdown",
   "id": "surrounded-assistant",
   "metadata": {
    "slideshow": {
     "slide_type": "subslide"
    }
   },
   "source": [
    "## Roles\n",
    "\n",
    "roles can be defined in the C class, it must end with ```_ROLE```\n",
    "\n",
    "```python\n",
    "class C(BaseConstants):\n",
    "    PLAYERS_PER_GROUP = 2\n",
    "    \n",
    "    TRUSTOR_ROLE = \"trustor\"\n",
    "    TRUSTEE_ROLE = \"trustee\n",
    "```\n",
    "\n",
    "Roles are automatically attributed in the group: the first player in the group (```id_in_group = 1```) will have the role of trustor and the second one (```id_in_group = 2```) the role of trustee.   \n",
    "The role is stored in the field \"player.role\" automatically created in the player class.\n",
    "\n",
    "*Remark*  \n",
    "If in the group several players must have the same role, for example 2 buyers and 2 sellers in a group of 4, this doesn't work. In that case it is necessary to assign roles with a dedicated method."
   ]
  },
  {
   "cell_type": "markdown",
   "id": "conditional-rachel",
   "metadata": {
    "slideshow": {
     "slide_type": "subslide"
    }
   },
   "source": [
    "player.role can be used as a condition to display a page\n",
    "\n",
    "```python\n",
    "class DecisionTrustor(Page):\n",
    "    def is_displayed(player: Player):\n",
    "        return player.role == C.TRUSTOR_ROLE\n",
    "\n",
    "    \n",
    "class DecisionTrustee(Page):\n",
    "    def is_displayed(player: Player):\n",
    "        return player.role == C.TRUTEE_ROLE\n",
    "```"
   ]
  },
  {
   "cell_type": "markdown",
   "id": "occasional-extraction",
   "metadata": {
    "slideshow": {
     "slide_type": "subslide"
    }
   },
   "source": [
    "## Conditional structure in the html file  \n",
    "\n",
    "```html\n",
    "<p>\n",
    "    You have the role of\n",
    "    {{ if player.role == C.TRUSTOR_ROLE }}\n",
    "        trustor.\n",
    "    {{ else }}\n",
    "        trustee.\n",
    "    {{ endif }}\n",
    "</p>\n",
    "```\n",
    "\n",
    "- exists also ```{{ elif }}``` if needed"
   ]
  },
  {
   "cell_type": "markdown",
   "id": "mounted-potter",
   "metadata": {
    "slideshow": {
     "slide_type": "subslide"
    }
   },
   "source": [
    "## Set min, max or choices of a field dynamically  \n",
    "\n",
    "- in the investment game, the maximum the trustee can send back to the trustor is the amount she received. But this value is not known before the trustor makes her decision\n",
    "- possible to set the maximum value of a field after its creation with ```def field_name_max()```\n",
    "\n",
    "```python \n",
    "def amount_sent_back_max(player: Player):\n",
    "    return player.amount_received\n",
    "```"
   ]
  },
  {
   "cell_type": "markdown",
   "id": "dimensional-letter",
   "metadata": {
    "slideshow": {
     "slide_type": "subslide"
    }
   },
   "source": [
    "## Practice \n",
    "\n",
    "- write the code of the (one-shot) investment game (description [here](#/6/1))\n",
    "\n",
    "**Help**  \n",
    "- fields : amount_sent, amount_received, amount_sent_back, amount_returned\n",
    "- amount_sent and amount_returned is for the trustor\n",
    "- amount_received and amount_sent_back is for the trustee\n",
    "- the page_sequence : [DecisionTrustor, DecisionTrustorWaitForGroup, DecisionTrustee, DecisionTrusteeWaitForGroup, Results]\n",
    "- methods to create : set_amount_received, set_amount_returned, amount_sent_back_max"
   ]
  },
  {
   "cell_type": "markdown",
   "id": "coated-nebraska",
   "metadata": {
    "slideshow": {
     "slide_type": "slide"
    },
    "tags": []
   },
   "source": [
    "# <a name=\"tricks\">Tips to improve existing applications</a>"
   ]
  },
  {
   "cell_type": "markdown",
   "id": "collect-flavor",
   "metadata": {
    "slideshow": {
     "slide_type": "subslide"
    }
   },
   "source": [
    "## Put the fields in a table with a for loop in the html file\n",
    "\n",
    "By default, if we let ```{{ formfields }}``` in the web page and there are several fields, the labels and fields are one below the other, as in the demographic application for example. To change that we can put the labels and fields in a table.\n",
    "\n",
    "```html\n",
    "<table class=\"table\">\n",
    "    {{ for field in form }}\n",
    "    <tr>\n",
    "        <td>{{ field.label }}</td>\n",
    "        <td>{{ field }}</td>\n",
    "    </tr>\n",
    "    {{ endfor }}\n",
    "</table>\n",
    "```\n",
    "\n",
    "Nb: ```class='table'``` is a css attribute, see chapter [HTML, CSS, bootstrap](#/11)"
   ]
  },
  {
   "cell_type": "markdown",
   "id": "returning-observer",
   "metadata": {
    "slideshow": {
     "slide_type": "subslide"
    }
   },
   "source": [
    "## Create a history\n",
    "\n",
    "- in repeated games, like the public good game, it is a good practice to let the players consult the history of the game, i.e. the value of the variables in the past rounds\n",
    "- use of a *for loop* and an html table\n",
    "- two useful methods of the player class: player.in_all_rounds and player.in_previous_rounds can be called in the web page"
   ]
  },
  {
   "cell_type": "markdown",
   "id": "twenty-naples",
   "metadata": {
    "slideshow": {
     "slide_type": "subslide"
    }
   },
   "source": [
    "```html\n",
    "<table class=\"table\">\n",
    "    <thead>\n",
    "        <tr>\n",
    "            <th>Round</th>\n",
    "            <th>Private account</th>\n",
    "            <th>Public account</th>\n",
    "            <th>Total public account</th>\n",
    "            <th>Payoff</th>\n",
    "        </tr>\n",
    "    </thead>\n",
    "    <tbody>\n",
    "        {{ for p in player.in_all_rounds }}\n",
    "        <tr>\n",
    "            <td>{{ p.round_number }}</td>\n",
    "            <td>{{ p.private_account }}</td>\n",
    "            <td>{{ p.public_account }}</td>\n",
    "            <td>{{ p.group.total_public_account }}</td>\n",
    "            <td>{{ p.payoff }}</td>\n",
    "         </tr>\n",
    "        {{ endfor }}\n",
    "    </tbody>\n",
    "</table>\n",
    "```"
   ]
  },
  {
   "cell_type": "markdown",
   "id": "interior-detective",
   "metadata": {
    "slideshow": {
     "slide_type": "subslide"
    }
   },
   "source": [
    "## Include an image in the web page\n",
    "\n",
    "- create a subfolder in the ```_static``` directory with the name of your application \n",
    "- in the html file, inside the img tag, add static in the src attribute\n",
    "\n",
    "```html \n",
    "<img src=\"{{ static 'application_name/picture_name.png' }}\" />\n",
    "```\n",
    "\n",
    "- works the same way for video files and audio files, but it is better to put this kind of file elsewhere on the web and to just add the link in the src attribute"
   ]
  },
  {
   "cell_type": "markdown",
   "id": "satisfied-zimbabwe",
   "metadata": {
    "slideshow": {
     "slide_type": "subslide"
    }
   },
   "source": [
    "## Set a parameter in the SESSION_CONFIGS dictionnary and get it in the application\n",
    "\n",
    "- useful when you plan to have several treatments\n",
    "- for example if you want to run the public good game with a different MPCR\n",
    "- either you change the value in the C class\n",
    "- or you export this parameter and put it in the session configs. In that case, if you want to change the value of the MPCR, you do it in the session configs, not in the code of the application\n",
    "- the change in the session configs can be done on the admin interface when creating a session\n",
    "   \n",
    "```python\n",
    "SESSION_CONFIGS = [\n",
    "    dict(\n",
    "        name=\"public_goods\",\n",
    "        display_name=\"Public Goods Game\",\n",
    "        app_sequence=[\"public_goods\"],\n",
    "        num_demo_participants=4,\n",
    "        mpcr=0.5\n",
    "    ),\n",
    "]\n",
    "```"
   ]
  },
  {
   "cell_type": "markdown",
   "id": "generous-capitol",
   "metadata": {
    "slideshow": {
     "slide_type": "subslide"
    }
   },
   "source": [
    "Then, in the creating_session method\n",
    "```python\n",
    "class Subsession(BaseSubsession):\n",
    "    mpcr = models.FloatField()\n",
    "    \n",
    "# ADDITIONAL METHODS\n",
    "def creating_session(subsession: Subsession):\n",
    "    subsession.mpcr = subsession.session.config.get(\"mpcr\", 0.5)\n",
    "```\n",
    "\n",
    "Whenever you used C.MPCR in the application, replace it with subsession.mpcr."
   ]
  },
  {
   "cell_type": "markdown",
   "id": "pharmaceutical-affiliate",
   "metadata": {
    "slideshow": {
     "slide_type": "subslide"
    }
   },
   "source": [
    "## Practice\n",
    "\n",
    "- put the fields of the socio-demographic questionnaire in a table\n",
    "- create an history in the public goods game application\n",
    "- export the mpcr parameter in the settings file\n",
    "- create a welcome application with the picture of your lab and add it in the app_sequence of the public good game"
   ]
  },
  {
   "cell_type": "markdown",
   "id": "norwegian-implement",
   "metadata": {
    "slideshow": {
     "slide_type": "slide"
    }
   },
   "source": [
    "# <a name=\"rooms\">The admin side: rooms, payments and admin report</a>"
   ]
  },
  {
   "cell_type": "markdown",
   "id": "illegal-demand",
   "metadata": {
    "slideshow": {
     "slide_type": "subslide"
    }
   },
   "source": [
    "## Rooms  \n",
    "\n",
    "- if you create a session you need to forward the url\n",
    "- alternatively you can create a room\n",
    "- a room is like a virtual lab, with always the same url to join\n",
    "\n",
    "**In the settings file**, add a ```ROOMS``` list and add a dictionnary  \n",
    "An item for each room (each item is a dictionnary)\n",
    "\n",
    "```python\n",
    "ROOMS = [\n",
    "    dict(\n",
    "        name=\"my_room\",\n",
    "        display_name=\"My Room\",\n",
    "    )\n",
    "]\n",
    "```\n",
    "\n",
    "Once done, you can click on the \"Rooms\" tab, select the room and create a new session inside this room."
   ]
  },
  {
   "cell_type": "markdown",
   "id": "08fd9f26",
   "metadata": {
    "slideshow": {
     "slide_type": "subslide"
    }
   },
   "source": [
    "However if a participant clicks twice on the url, she opens two tabs and plays as two players.\n",
    "\n",
    "To avoid this we restrict the access to the room to some labels : \n",
    "\n",
    "- a participant will have to connect and enter her label (or the label is given in the url)\n",
    "- if she clicks twice on the same link she always plays as a unique player\n",
    "- participant_label is one of the columns displayed in the monitor tab and in the Payments tab in the admin interface\n",
    "\n",
    "\n",
    "**To create a room**   \n",
    "\n",
    "- create a folder named ```_rooms``` at the root of your otree project\n",
    "- inside this folder create a text file (myroom.txt for example)\n",
    "- inside this text file, add a participant label per row. It could be whatever you want\n",
    "```\n",
    "lab_001\n",
    "lab_002\n",
    "lab_003\n",
    "lab_004\n",
    "```"
   ]
  },
  {
   "cell_type": "markdown",
   "id": "satisfactory-crowd",
   "metadata": {
    "slideshow": {
     "slide_type": "subslide"
    }
   },
   "source": [
    "**In the settings file**, add the key \"participant_label_file\" and for the value the path of the file.\n",
    "\n",
    "```python\n",
    "ROOMS = [\n",
    "    dict(\n",
    "        name=\"my_room\",\n",
    "        display_name=\"My Room\",\n",
    "        participant_label_file=\"_rooms/myroom.txt\",\n",
    "    )\n",
    "]\n",
    "```"
   ]
  },
  {
   "cell_type": "markdown",
   "id": "gothic-shark",
   "metadata": {
    "slideshow": {
     "slide_type": "subslide"
    }
   },
   "source": [
    "**In the admin interface**, tab Rooms\n",
    "\n",
    "- click on the room \"My Room\"\n",
    "- connect clients to the room at http://127.0.0.1:8000/rooms/my_room\n",
    "- clients enter a label (one of those in the text file)  \n",
    "\n",
    "\n",
    "**Easy to send to a participant his personal link**\n",
    "\n",
    "in a lab or on internet, provide directly individual links, such that  \n",
    "http://127.0.0.1:8000/rooms/my_room/?participant_label=lab_001\n",
    "\n",
    "\n",
    "\n",
    "- then wait to have the number of participants needed for the experiment, and once done, start the session\n",
    "- once the session is started, open the Monitor tab to follow the players during the experiment\n",
    "- once the session is finished, click on the Rooms tab, and close the room"
   ]
  },
  {
   "cell_type": "markdown",
   "id": "applicable-celtic",
   "metadata": {
    "slideshow": {
     "slide_type": "subslide"
    }
   },
   "source": [
    "**Practice**\n",
    "\n",
    "- create a room\n",
    "- start a session in this room\n",
    "\n",
    "*To be tested : find you IP adress and then in terminal write ```otree devserver IP:8000``` and ask your neighbour to connect to IP:8000/rooms/your_room*"
   ]
  },
  {
   "cell_type": "markdown",
   "id": "confident-purpose",
   "metadata": {
    "slideshow": {
     "slide_type": "subslide"
    }
   },
   "source": [
    "## Payments\n",
    "\n",
    "- the tab \"Payments\" displays the payoff of each participant\n",
    "- the value displayed is given by the variable **participant.payoff**\n",
    "- it is equal to the cumulative payoff since the beginning of the session, i.e. the cumulative value of **player.payoff** (for each round of each application)\n",
    "- the value can be overriden by setting player.participant.payoff = new_value\n",
    "- it is the case for example if we want to pay only one round or only one application"
   ]
  },
  {
   "cell_type": "markdown",
   "id": "complete-modern",
   "metadata": {
    "slideshow": {
     "slide_type": "subslide"
    }
   },
   "source": [
    "### Pay only one round of the repeated game\n",
    "\n",
    "- create a method and call this method just before the end of the application\n",
    "- inside this method, select the paid round and set the value of this round's payoff to participant.payoff\n",
    "\n",
    "```python\n",
    "# ADDITIONAL METHODS\n",
    "def set_final_payoff(player: Player):\n",
    "    paid_round = random.randint(1, C.NUM_ROUNDS)\n",
    "    player.participant.payoff = player.in_round(paid_round).payoff\n",
    "\n",
    "# PAGES\n",
    "class Results(Page):\n",
    "    def before_next_page(player: Player, timeout_happened):\n",
    "        if player.round_number == C.NUM_ROUNDS:\n",
    "            set_final_payoff(player)\n",
    "```"
   ]
  },
  {
   "cell_type": "markdown",
   "id": "previous-blues",
   "metadata": {
    "slideshow": {
     "slide_type": "subslide"
    }
   },
   "source": [
    "### Pay one application among several\n",
    "\n",
    "- there exists an attribute in the participant class, called vars, which is a dictionnary, and in which you can store whatever you want\n",
    "- the participant is the same in the different applications of the session, so you can access this \"vars\" dictionary from any application of the session\n",
    "- so, in a method called at the end of each application you store the player's payoff for this application in the participant.vars dictionnary \n",
    "- create a final application that displays the payoff of each application (with an explanation text)\n",
    "- within this \"final\" application, you randomly select the application that will actually be paid"
   ]
  },
  {
   "cell_type": "markdown",
   "id": "constitutional-seeking",
   "metadata": {
    "slideshow": {
     "slide_type": "subslide"
    }
   },
   "source": [
    "**In each application of the experiment** : \n",
    "```python\n",
    "# ADDITIONAL METHODS\n",
    "def set_final_payoff(player: Player):\n",
    "    paid_round = random.randint(1, C.NUM_ROUNDS)\n",
    "    txt_final = f\"Round {paid_round} has been randomly selected to be paid\"\n",
    "    player.participant.vars[\"app_name\"] = dict(\n",
    "        payoff=player.in_round(paid_round).payoff, \n",
    "        txt_final=txt_final\n",
    "    )\n",
    "        \n",
    "# PAGES\n",
    "class Results(Page):\n",
    "    def before_next_page(player: Player, timeout_happened):\n",
    "        if player.round_number == C.NUM_ROUNDS:\n",
    "            set_final_payoff(player)\n",
    "```"
   ]
  },
  {
   "cell_type": "markdown",
   "id": "unexpected-surrey",
   "metadata": {
    "slideshow": {
     "slide_type": "subslide"
    }
   },
   "source": [
    "**In a final application** (app_sequence=[\"welcome\", \"public_goods\", \"investment_game\", demographics\", \"final\"]):\n",
    "\n",
    "```python\n",
    "# ADDITIONAL METHODS\n",
    "def select_paid_app(subsession: Subsession):\n",
    "    apps = [\"public_goods\", \"investment_game\"]  # the list of potentially paid applications\n",
    "    for p in subsession.get_players():\n",
    "        paid_app = random.choice(apps)\n",
    "        p.participant.payoff = p.participant.vars[paid_app][\"payoff\"]\n",
    "\n",
    "# PAGES\n",
    "class BeforeFinalPage(WaitPage):\n",
    "    wait_for_all_groups = True\n",
    "    \n",
    "    def after_all_players_arrive(subsession):\n",
    "        select_paid_app(subsession)\n",
    "        \n",
    "class Final(Page):\n",
    "    pass\n",
    "```"
   ]
  },
  {
   "cell_type": "markdown",
   "id": "heard-oakland",
   "metadata": {
    "slideshow": {
     "slide_type": "subslide"
    }
   },
   "source": [
    "### Pratice\n",
    "\n",
    "- use the procedure to pay only one round in the public goods game application"
   ]
  },
  {
   "cell_type": "markdown",
   "id": "neutral-xerox",
   "metadata": {
    "slideshow": {
     "slide_type": "subslide"
    }
   },
   "source": [
    "## Admin report\n",
    "\n",
    "\n",
    "- add a customized page to the admin interface, under the tab name \"report\"\n",
    "- useful to create a customized payment page, or a page to display informations about the applications, or to display live statistics, either in a table or in a graph (with Highcharts)\n",
    "\n",
    "\n",
    "Create a method **vars_for_admin_report(subsession)**, that returns a dictionnary\n",
    "```python\n",
    "def vars_for_admin_report(subsession: Subsession):\n",
    "    infos_groups = list()\n",
    "    for g in subsession.get_groups():\n",
    "        trustor = g.get_player_by_role(C.TRUSTOR_ROLE)\n",
    "        trustee = g.get_player_by_role(C.TRUSTEE_ROLE)\n",
    "        infos_groups.append(\n",
    "            dict(\n",
    "                group_id=g.id_in_subsession,\n",
    "                trustor=trustor.id_in_subsession,\n",
    "                trustee=trustee.id_in_subsession,\n",
    "                amount_sent=trustor.field_maybe_none(\"amount_sent\"),\n",
    "                amount_sent_back=trustee.field_maybe_none(\"amount_sent_back\"),\n",
    "                trustor_payoff=trustor.payoff,\n",
    "                trustee_payoff=trustee.payoff\n",
    "            )\n",
    "        )\n",
    "    return dict(infos_groups=infos_groups)\n",
    "```"
   ]
  },
  {
   "cell_type": "markdown",
   "id": "understanding-velvet",
   "metadata": {
    "slideshow": {
     "slide_type": "subslide"
    }
   },
   "source": [
    "Create an html file name **admin_report.html**\n",
    "```html\n",
    "<table class=\"table\">\n",
    "    <thead>\n",
    "    <tr>\n",
    "        <th>Group</th>\n",
    "        <th>Trustor</th>\n",
    "        <th>Trustee</th>\n",
    "        <th>Amount sent</th>\n",
    "        <th>Amount sent back</th>\n",
    "        <th>Trustor's payoff</th>\n",
    "        <th>Trustee's payoff</th>\n",
    "    </tr>\n",
    "    </thead>\n",
    "    <tbody>\n",
    "    {{ for g in infos_groups }}\n",
    "    <tr>\n",
    "        <td>g{{ g.group_id }}</td>\n",
    "        <td>p{{ g.trustor }}</td>\n",
    "        <td>p{{ g.trustee }}</td>\n",
    "        <td>{{ g.amount_sent }}</td>\n",
    "        <td>{{ g.amount_sent_back }}</td>\n",
    "        <td>{{ g.trustor_payoff }}</td>\n",
    "        <td>{{ g.trustee_payoff }}</td>\n",
    "    </tr>\n",
    "    {{ endfor }}\n",
    "    </tbody>\n",
    "</table>\n",
    "```"
   ]
  },
  {
   "cell_type": "markdown",
   "id": "hazardous-immune",
   "metadata": {
    "slideshow": {
     "slide_type": "subslide"
    }
   },
   "source": [
    "**Practice**\n",
    "\n",
    "create the admin report for the investment game"
   ]
  },
  {
   "cell_type": "markdown",
   "id": "experimental-bangkok",
   "metadata": {
    "slideshow": {
     "slide_type": "slide"
    }
   },
   "source": [
    "# <a name=\"bootstrap\">HTML, CSS and Bootstrap</a>"
   ]
  },
  {
   "cell_type": "markdown",
   "id": "executive-dividend",
   "metadata": {
    "slideshow": {
     "slide_type": "subslide"
    }
   },
   "source": [
    "## HTML\n",
    "\n",
    "- set of tags that are interpreted by the browser\n",
    "\n",
    "**Useful tags**\n",
    "\n",
    "- h1 to h6 are 6 levels of title\n",
    "- p, br for paragraphs and break return\n",
    "- table, thead, tbody, tr, th, td for tables\n",
    "- ul, ol, li for list environment\n",
    "- img for picture\n",
    "- span, div, two kinds of blocks; span is an inline-block and div is a block\n",
    "\n",
    "\n",
    "Introduction to HTML by the Mozilla fundation [here](https://developer.mozilla.org/en-US/docs/Learn/HTML/Introduction_to_HTML) "
   ]
  },
  {
   "cell_type": "markdown",
   "id": "unlimited-director",
   "metadata": {
    "slideshow": {
     "slide_type": "subslide"
    }
   },
   "source": [
    "## CSS\n",
    "\n",
    "- Cascading Style Sheet\n",
    "- set the style of the html tags\n",
    "- either in the \"style\" attribute of a tag \n",
    "```html\n",
    "<p style=\"font-size: 0.8em; color: brown;\">\n",
    "    the sentences\n",
    "</p>\n",
    "```\n",
    "or inside a style block\n",
    "```html\n",
    "<style>\n",
    "    p {\n",
    "        font-size: 0.8em;\n",
    "        color: brown;\n",
    "    }\n",
    "</style>\n",
    "```"
   ]
  },
  {
   "cell_type": "markdown",
   "id": "lovely-tobago",
   "metadata": {
    "slideshow": {
     "slide_type": "subslide"
    }
   },
   "source": [
    "### id attribute \n",
    "\n",
    "In the previous example, all the p of the html page are concerned. To apply the style to only one p (or tag) you must define an id to the corresponding p\n",
    "```html\n",
    "<p id=\"my_p\">\n",
    "    my sentence\n",
    "</p>\n",
    "```\n",
    "and then select the id (add a # before the name of the id to let the browser knows you're searching for an id)\n",
    "```html\n",
    "<style>\n",
    "    #my_p {\n",
    "        font-size: 0.8em;\n",
    "        color: brown;\n",
    "    }\n",
    "</style>\n",
    "```"
   ]
  },
  {
   "cell_type": "markdown",
   "id": "portuguese-dragon",
   "metadata": {
    "slideshow": {
     "slide_type": "subslide"
    }
   },
   "source": [
    "### class attribute\n",
    "\n",
    "If it's for several p (tags) but not all of them, you define a class\n",
    "```html\n",
    "<p class=\"my_p\">\n",
    "    my sentence\n",
    "</p>\n",
    "```\n",
    "and then\n",
    "```html\n",
    "<style>\n",
    "    p.my_p {\n",
    "        font-size: 0.8em;\n",
    "        color: brown;\n",
    "    }\n",
    "</style>\n",
    "```\n",
    "It means ```all the paragraph of class my_p```"
   ]
  },
  {
   "cell_type": "markdown",
   "id": "competent-absolute",
   "metadata": {
    "slideshow": {
     "slide_type": "subslide"
    }
   },
   "source": [
    "Main style properties\n",
    "\n",
    "- font-family, font-size, font-weight, font-style\n",
    "- color, background-color\n",
    "- text-align, text-decoration\n",
    "- height, width, margin, padding\n",
    "- [List of all CSS properties](http://www.css-faciles.com/proprietes-css-liste-alphabetique.php)\n",
    "- [Online CSS generator](https://html-css-js.com/css/generator/)"
   ]
  },
  {
   "cell_type": "markdown",
   "id": "amino-hurricane",
   "metadata": {
    "slideshow": {
     "slide_type": "subslide"
    }
   },
   "source": [
    "## Bootstrap\n",
    "\n",
    "- library that defines a set of classes for many tags\n",
    "- web-responsive\n",
    "- [Boostrap's website](https://getbootstrap.com/docs/5.0/getting-started/introduction/)\n",
    "- otree web interfaces are based on bootstrap\n",
    "- you can add some nice graphical elements easily, mainly by setting value in the class attribute of the html tags (often div)\n",
    "\n",
    "\n",
    "```html\n",
    "<div class=\"card bg-light\">\n",
    "    <div class=\"card-body\">\n",
    "        <p>Here some sentences</p>\n",
    "    </div>\n",
    "</div>\n",
    "```"
   ]
  },
  {
   "cell_type": "markdown",
   "id": "correct-bones",
   "metadata": {
    "slideshow": {
     "slide_type": "subslide"
    }
   },
   "source": [
    "### Main useful classes\n",
    "\n",
    "- card: ```<div class=\"card\">...</div>```: to place one or more paragraphs inside a frame whose background color can be defined ([doc](https://getbootstrap.com/docs/5.0/components/card/))\n",
    "- ```<div class=\"row\">...</div>```: to define a row, in wich you can set a grid with new divs and \"col-x\" class\n",
    "- col-x: a row is divided into 12 columns, so you can set the number of cols a div may span, with ```<div class=\"col-6\">``` for example\n",
    "- look at [boostrap grid](https://getbootstrap.com/docs/5.0/layout/grid/) to understand how it works\n",
    "- table: table, table-bordered, table-sm, table-stripped etc. ([doc](https://getbootstrap.com/docs/5.0/content/tables/))\n",
    "- text alignement: text-justify, text-center, text-right\n",
    "- text-color: text-danger, text-warning, text-info etc.\n",
    "- margin: mt-1 to mt-5 for margin-top, mb-1 to mb-5 for margin-bottom, mx-1 to mx-5 for magin left and right, m-auto for margin-auto\n",
    "- padding: pt-1 to pt-5 for padding-top, pb-1 to pb-5 for padding-bottom"
   ]
  },
  {
   "cell_type": "markdown",
   "id": "secret-amateur",
   "metadata": {
    "slideshow": {
     "slide_type": "subslide"
    }
   },
   "source": [
    "## Pratice\n",
    "\n",
    "- improve the web interfaces of the public goods game, by using the card div in the decision and results web pages\n",
    "\n",
    "```html\n",
    "<div class=\"card bg-light mb-3\">\n",
    "    <div class=\"card-title\">\n",
    "        <h4>The title of the card</h4>\n",
    "    </div>\n",
    "    <div class=\"card-body\">\n",
    "        <p>The body of the card</p>\n",
    "    </div>\n",
    "</div>\n",
    "```\n",
    "\n",
    "- change the history table style\n",
    "```html\n",
    "<table class=\"table table-stripped\">\n",
    "    <thead></thead>\n",
    "    <tbody></tbody>\n",
    "</table\n",
    "```\n"
   ]
  },
  {
   "cell_type": "markdown",
   "id": "domestic-reputation",
   "metadata": {
    "slideshow": {
     "slide_type": "slide"
    }
   },
   "source": [
    "# <a name=\"js\">JavaScript</a>"
   ]
  },
  {
   "cell_type": "markdown",
   "id": "ignored-shade",
   "metadata": {
    "slideshow": {
     "slide_type": "subslide"
    }
   },
   "source": [
    "- programming language interpreted and executed on the client side, by the browser\n",
    "- can access to the tags and change their css properties\n",
    "- can add and handle events (click for example)\n",
    "\n",
    "Introduction to JavaScript by the mozilla fundation [here](https://developer.mozilla.org/en-US/docs/Web/JavaScript)"
   ]
  },
  {
   "cell_type": "markdown",
   "id": "unknown-analyst",
   "metadata": {
    "slideshow": {
     "slide_type": "subslide"
    }
   },
   "source": [
    "- js can be added with a ```<script>...</script>``` tag at any place in the document\n",
    "- also in event attributes of some html tags, like ```onclick``` for example\n",
    "- or in a dedicated block at the bottom of the html file\n",
    "\n",
    "```html\n",
    "{{ block scripts }}\n",
    "<script>\n",
    "    js functions and instructions\n",
    "</script>\n",
    "{{ endblock }}\n",
    "```"
   ]
  },
  {
   "cell_type": "markdown",
   "id": "noble-cover",
   "metadata": {
    "slideshow": {
     "slide_type": "subslide"
    }
   },
   "source": [
    "## Main js rules\n",
    "\n",
    "- \";\" at the end of each instruction\n",
    "- // for one line comments and /* ... */ for multiple lines comments\n",
    "- main types: Number, String, Boolean, Array and Dictionnary\n",
    "- Array is like a python list, can store different types of objects\n",
    "```javascript\n",
    "let my_array = [1, false, \"welcome\"];\n",
    "```\n",
    "- Dictionnary is like in python: \n",
    "```javascript\n",
    "let my_dict = {\"key\": \"value\"}; \n",
    "```\n",
    "and you can access to the value with my_dict[\"key\"]"
   ]
  },
  {
   "cell_type": "markdown",
   "id": "empty-thread",
   "metadata": {
    "slideshow": {
     "slide_type": "subslide"
    }
   },
   "source": [
    "Conditional structure\n",
    "```javascript\n",
    "if (condition_1) {\n",
    "    instructions;\n",
    "} else if (condition_2){\n",
    "    instructions;\n",
    "} else {\n",
    "    instructions;\n",
    "}\n",
    "```"
   ]
  },
  {
   "cell_type": "markdown",
   "id": "infrared-edward",
   "metadata": {
    "slideshow": {
     "slide_type": "subslide"
    }
   },
   "source": [
    "For loop\n",
    "```javascript\n",
    "for (let i=0; i<10; i++) {\n",
    "    instructions repetead 10 times;\n",
    "}\n",
    "\n",
    "// array\n",
    "for (let i in myArray)\n",
    "    console.log(myArray[i]);\n",
    "\n",
    "// or\n",
    "for (let i of myArray) {\n",
    "    console.log(i);  // display the value\n",
    "}\n",
    "\n",
    "// dictionnary\n",
    "for (let [k, v] of Object.entries(my_dict))\n",
    "    console.log(`${k}: ${v}`);\n",
    "```"
   ]
  },
  {
   "cell_type": "markdown",
   "id": "satisfactory-preservation",
   "metadata": {
    "slideshow": {
     "slide_type": "subslide"
    }
   },
   "source": [
    "While\n",
    "```javascript\n",
    "while(condition) {\n",
    "    instructions;\n",
    "}\n",
    "```"
   ]
  },
  {
   "cell_type": "markdown",
   "id": "stopped-antique",
   "metadata": {
    "slideshow": {
     "slide_type": "subslide"
    }
   },
   "source": [
    "To create your own function\n",
    "```javascript\n",
    "function myFunction(arguments_needed) {\n",
    "    instructions;\n",
    "    return something\n",
    "}\n",
    "```"
   ]
  },
  {
   "cell_type": "markdown",
   "id": "retained-logging",
   "metadata": {
    "slideshow": {
     "slide_type": "subslide"
    }
   },
   "source": [
    "## The document object model (DOM)\n",
    "\n",
    "- created by the browser once the page is loaded\n",
    "- list all the tags, their attributes and their values\n",
    "- the root is the \"document\" object\n",
    "- you can open the developer tools of your browser to see it\n",
    "\n",
    "<figure>\n",
    "    <img src=\"img/dom.svg\" alt=\"DOM\" width=300/>\n",
    "</figure>"
   ]
  },
  {
   "cell_type": "markdown",
   "id": "perceived-brother",
   "metadata": {
    "slideshow": {
     "slide_type": "subslide"
    }
   },
   "source": [
    "- can be called with js\n",
    "- document.title: displays or changes the title (tab name)\n",
    "- console.log(\"text displayed in the console\");"
   ]
  },
  {
   "cell_type": "markdown",
   "id": "coupled-breath",
   "metadata": {
    "slideshow": {
     "slide_type": "subslide"
    }
   },
   "source": [
    "### Selection of html tags with querySelector and querySelectorAll\n",
    "\n",
    "- querySelector returns the first element that matches the request\n",
    "- querySelectorAll return an array with all the elements that match the resquest\n",
    "- the request can be a tag, an id, a class etc.\n",
    "- you have a list of the existing selector [here](https://www.w3.org/Style/css3-selectors-updates/WD-css3-selectors-20010126.fr.html#selectors)\n",
    "- the easiest way is to set an id to the html element, and to select the element by its id, as in the example below. A ```#``` must be added to let the selector know that an id must be searched\n",
    "\n",
    "In the html code (a hidden paragraph only displayed if needed)\n",
    "```html\n",
    "<p id=\"error_message\" class=\"text-danger\" style=\"visibility: hidden\"></p>\n",
    "```\n",
    "\n",
    "In the script section\n",
    "```html\n",
    "<script>\n",
    "let p_error = document.querySelector(\"#error_message\");\n",
    "p_error.innerHTML = \"Please enter a value\";\n",
    "p_error.style.visibility = \"visible\";\n",
    "</script>\n",
    "```\n",
    "\n"
   ]
  },
  {
   "cell_type": "markdown",
   "id": "legitimate-double",
   "metadata": {
    "slideshow": {
     "slide_type": "subslide"
    }
   },
   "source": [
    "### Select an otree widget and get the value\n",
    "\n",
    "- otree sets an id to each widget, the id is ```id_field_name```, so a field \"nationality\" will have an id ```id_nationality```\n",
    "\n",
    "To get the value of the selected element just add ```.value```\n",
    "```javascript\n",
    "let nationality = document.querySelector(\"#id_nationality\").value;\n",
    "```\n",
    "\n",
    "For radio button, to get all the buttons\n",
    "```javascript\n",
    "document.querySelectorAll(\"input[name=field_name]\");\n",
    "```\n",
    "\n",
    "and to get the checked button\n",
    "```javascript\n",
    "document.querySelector(\"input[name=field_name]:checked\").value;\n",
    "```\n",
    "\n",
    "Example : \n",
    "```javascript\n",
    "let is_student = document.querySelector(\"input[name=student]:checked\").value;\n",
    "```\n"
   ]
  },
  {
   "cell_type": "markdown",
   "id": "74726311",
   "metadata": {
    "slideshow": {
     "slide_type": "subslide"
    }
   },
   "source": [
    "### Practice\n",
    "\n",
    "- run the demographic questionnaire\n",
    "- on the web interface click on \"open source code\" or click on an element and click \"inspect\"\n",
    "- in the browser console, try to select some elements with document.querySelector and document.querySelectorAll"
   ]
  },
  {
   "cell_type": "markdown",
   "id": "61f246f0",
   "metadata": {
    "slideshow": {
     "slide_type": "subslide"
    }
   },
   "source": [
    "## Main attributes of DOM objects\n",
    "\n",
    "- element.value : to get the value of the element\n",
    "- element.disabled : to enable / disable the element\n",
    "- element.innerHTML : to add html content to the element\n",
    "- element.style.visibility : hidden / visible to display / hide the element\n",
    "- element.style.color, element.style.backgroundColor, element.style.fontSize, element.style.fontWeight, element.style.fontStyle ... More generally, element.style.X allows to change the css value of X"
   ]
  },
  {
   "cell_type": "markdown",
   "id": "857b7040",
   "metadata": {
    "slideshow": {
     "slide_type": "subslide"
    }
   },
   "source": [
    "### Add an event listener to a widget  \n",
    "\n",
    "Connects an event to a function : each widget triggers events (change, click, input etc., see the doc of the corresponding widget)   \n",
    "Useful when you want to display/hide or enable/disable a widget depending on the value of another.  \n",
    "Below an example with student and level_of_study\n",
    "\n",
    "```html\n",
    "<script>\n",
    "    let stud_rb = document.querySelectorAll(\"input[name=student]\");\n",
    "    let stud_level = document.querySelector(\"#id_level_of_study\");\n",
    "\n",
    "    function enable_stud_level() {\n",
    "        let stud = document.querySelector(\"input[name=student]:checked\");\n",
    "        stud_level.disabled = (stud.value === \"False\");\n",
    "    }\n",
    "\n",
    "    window.onload = function () {\n",
    "        stud_level.disabled = true;\n",
    "        for (let rb of stud_rb)\n",
    "            rb.addEventListener(\"click\", enable_stud_level);\n",
    "    }\n",
    "</script>\n",
    "```"
   ]
  },
  {
   "cell_type": "markdown",
   "id": "ff518251",
   "metadata": {
    "slideshow": {
     "slide_type": "subslide"
    }
   },
   "source": [
    "### Pratice\n",
    "\n",
    "- in the demographic questionnaire, enable/disable student_level and student_discipline depending on whether the participant is/isn't a student\n",
    "\n"
   ]
  },
  {
   "cell_type": "markdown",
   "id": "e8e8a00e",
   "metadata": {
    "slideshow": {
     "slide_type": "subslide"
    }
   },
   "source": [
    "But if the widget is disabled no value is returned, so that if the field is mandatory it will raise an error.  \n",
    "To avoid this, we can add ```blank=True``` in the field declaration (init file, class Player), and use the method \n",
    "```error_message``` in the class associated to the web page:\n",
    "\n",
    "```python\n",
    "class Questionnaire(Page):\n",
    "    def error_message(player: Player, values):\n",
    "        if values[\"student\"] and values[\"level_of_study\"] is None:\n",
    "            return \"You declared to be student, so you have to select your level of study.\"\n",
    "```\n",
    "\n",
    "make the changes in the field declaration and the class associated to the web page."
   ]
  },
  {
   "cell_type": "markdown",
   "id": "f5178ca7",
   "metadata": {
    "slideshow": {
     "slide_type": "subslide"
    }
   },
   "source": [
    "## An application with javascript : the balloon Analogue Risk Task (BART)\n",
    "\n",
    "To measure the risk attitude of the participant\n",
    "\n",
    "The participant clicks on a button to inject some air in a balloon (min 0, max 64). Each injection the balloon has one half probability to explode. Each injection worths 0.5€ but if the balloon explodes the participant losts every accumulated amount."
   ]
  },
  {
   "cell_type": "markdown",
   "id": "0f6978e9",
   "metadata": {
    "slideshow": {
     "slide_type": "subslide"
    }
   },
   "source": [
    "The participant must choose the number of air injection\n",
    "\n",
    "```python\n",
    "class Player(BasePlayer):\n",
    "    injections = models.IntegerField()\n",
    "    explosion_value = models.IntegerField()\n",
    "    explosion = models.BooleanField()\n",
    "    \n",
    "\n",
    "def compute_payoff(player: Player):\n",
    "    if player.explosition:\n",
    "        player.payoff = 0\n",
    "    else:\n",
    "        player.payoff = player.injections * C.PAYOFF_PER_PUMP\n",
    "    \n",
    "    \n",
    "class Decision(Page):\n",
    "    form_model = \"player\"\n",
    "    form_field = [\"injections\", \"explosion_value\", \"explosion\"]\n",
    "```"
   ]
  },
  {
   "cell_type": "markdown",
   "id": "179b0459",
   "metadata": {
    "slideshow": {
     "slide_type": "subslide"
    }
   },
   "source": [
    "On the web interface :\n",
    "\n",
    "- a balloon picture\n",
    "- a + button that increases the number of injections and a - button that decreases it\n",
    "- if the participant clicks on the + button, the size of the ballon increases by 2 px\n",
    "- if the participant clicks on the - button, the size of the ballon decreases by 2 px\n",
    "- a text area displays the number of injections, and the payoff if the ballon doesn't explode\n",
    "- once the participant validates her decision, she discovers whether the balloon explodes or not. If it does, a picture with the exploded balloon is displayed.\n",
    "\n",
    "The pictures are available [here](http://www.duboishome.info/dimitri/cours/oTree/files/bart_pictures.zip)"
   ]
  },
  {
   "cell_type": "markdown",
   "id": "e6d4aefa",
   "metadata": {
    "slideshow": {
     "slide_type": "subslide"
    }
   },
   "source": [
    "Steps : \n",
    "\n",
    "1. a function that increases the number of injections and the size of the balloon\n",
    "2. a function that decreases the number of injections and the size of the balloon\n",
    "3. a connection between the + button and the increase function and a connection between the - button and the decreases function\n",
    "4. a button \"Validate\" that randomly selects the injection at which the ballon explodes. If the explosion value is lower than or equal the number of injections chosen by the participant the ballon explodes, otherwise it doesn't explode. If the balloon explodes the participant's payoff is equal to 0. If not, the participant's payoff is equal to the number of injections x 0.5 €\n",
    "5. once the result is displayed enabled the \"next\" button.\n",
    "\n",
    "$\\downarrow$ Help in the next slide"
   ]
  },
  {
   "cell_type": "markdown",
   "id": "d4f4f862",
   "metadata": {
    "slideshow": {
     "slide_type": "subslide"
    }
   },
   "source": [
    "### Help\n",
    "\n",
    "1. to enable / disable the next button\n",
    "```javascript\n",
    "document.querySelector(\".otree-btn-next\").disabled = True;\n",
    "```\n",
    "\n",
    "2. to select of random value between 0 and 64\n",
    "```javascript\n",
    "let explosion_value = Math.floor(Math.random() * (64 - 0) + 1); \n",
    "```\n",
    "\n",
    "3. to change the size of an image\n",
    "```javascript\n",
    "let the_image = document.querySelector(\"#img_balloon\");\n",
    "the_image.style.width += 2;\n",
    "the_image.style.height += 2;\n",
    "```\n",
    "\n",
    "4. to change an image (suppose the id of the image is img_balloon)\n",
    "```javascript\n",
    "let the_image = document.querySelector(\"#img_balloon\");\n",
    "the_image.src = \"{{ static 'bart/exploded.png' }}\";\n",
    "```\n",
    "\n",
    "$\\downarrow$ to be continued in the next slide"
   ]
  },
  {
   "cell_type": "markdown",
   "id": "e464bb96",
   "metadata": {
    "slideshow": {
     "slide_type": "subslide"
    }
   },
   "source": [
    "5. to add invisible input\n",
    "\n",
    "```html\n",
    "<input type=\"hidden\" name=\"explosion_value\" value=\"\">\n",
    "<input type=\"hidden\" name=\"explosion\" value=\"\">\n",
    "```\n",
    "and in javascript \n",
    "```javascript\n",
    "let input_exp_val = document.querySelector(\"input[name=explosion_value]\");\n",
    "let input_exp = document.querySelector(\"input[name=explosion]\");\n",
    "\n",
    "input_exp_value.value = explosion_value;\n",
    "input_exp = explosion_value > injections;\n",
    "```\n"
   ]
  },
  {
   "cell_type": "markdown",
   "id": "similar-potato",
   "metadata": {
    "slideshow": {
     "slide_type": "subslide"
    }
   },
   "source": [
    "### Practice\n",
    "\n",
    "Write the BART application"
   ]
  },
  {
   "cell_type": "markdown",
   "id": "democratic-diameter",
   "metadata": {
    "slideshow": {
     "slide_type": "slide"
    }
   },
   "source": [
    "# <a name=\"livemethod\">Live method</a>"
   ]
  },
  {
   "cell_type": "markdown",
   "id": "professional-stream",
   "metadata": {
    "slideshow": {
     "slide_type": "subslide"
    }
   },
   "source": [
    "- allows a live communication between the web page and the server\n",
    "- useful for a chat application or an auction market application for example\n",
    "- javascripts methods in the web page:\n",
    "    + **liveSend(data)** to send data to the server (usually a dictionnary)\n",
    "    + **liveRecv(data)** to receive the data from the server\n",
    "- python method (in the correspond page class): ```live_method(player: Player, data)```\n",
    "- this method must return a dictionnary, with as key the player (id_in_group) to send the data to and as value the data\n",
    "- to send to every group members the key must be 0"
   ]
  },
  {
   "cell_type": "markdown",
   "id": "7d2fdfc5",
   "metadata": {
    "slideshow": {
     "slide_type": "subslide"
    }
   },
   "source": [
    "html file : liveSend(data) $\\rightarrow$ python file: live_method(player: Player, data) $\\rightarrow$ html file : liveRecv(data)"
   ]
  },
  {
   "cell_type": "markdown",
   "id": "b31cc733",
   "metadata": {
    "slideshow": {
     "slide_type": "subslide"
    }
   },
   "source": [
    "## Example\n",
    "\n",
    "Send a random value to the other players in the group  \n",
    "\n",
    "In the init file\n",
    "```python\n",
    "class Decision(Page):\n",
    "    def live_method(player: Player, data):\n",
    "        print(data)  # to check\n",
    "        data[\"sender\"] = player.id_in_group\n",
    "        return {0: data}\n",
    "```"
   ]
  },
  {
   "cell_type": "markdown",
   "id": "575ec581",
   "metadata": {
    "slideshow": {
     "slide_type": "subslide"
    }
   },
   "source": [
    "In the Decision.html file\n",
    "```html\n",
    "{{ block content }}\n",
    "<button type=\"button\" class=\"btn btn-secondary\" onclick=\"send_random_value()\">Send a random value</button>\n",
    "{{ endblock }}\n",
    "\n",
    "{{ block scripts }}\n",
    "<script>\n",
    "    function send_random_value() {\n",
    "        let random_value = Math.random();\n",
    "        console.log(`Send ${random_value}`);\n",
    "        liveSend({random_value: random_value});\n",
    "    }\n",
    "    function liveRecv(data){\n",
    "        console.log(`Received :`);\n",
    "        for (let [k, v] of Object.entries(data))\n",
    "            console.log(`${k}: ${v}`)\n",
    "    }\n",
    "</script>\n",
    "{{ endblock }}\n",
    "```"
   ]
  },
  {
   "cell_type": "markdown",
   "id": "funded-cabin",
   "metadata": {
    "slideshow": {
     "slide_type": "subslide"
    }
   },
   "source": [
    "## Practice\n",
    "\n",
    "- write a simple application (chat for example) where the player sends messages to everyone in her group"
   ]
  },
  {
   "cell_type": "markdown",
   "id": "alone-provincial",
   "metadata": {
    "slideshow": {
     "slide_type": "slide"
    }
   },
   "source": [
    "# <a name=\"highcharts\">Highcharts</a>"
   ]
  },
  {
   "cell_type": "markdown",
   "id": "brutal-columbus",
   "metadata": {
    "slideshow": {
     "slide_type": "subslide"
    }
   },
   "source": [
    "- js/css library to make graphics\n",
    "- website: https://www.highcharts.com/\n",
    "- installation: just load the library by adding \n",
    "```html \n",
    "<script src=\"https://code.highcharts.com/highcharts.js\"></script>`\n",
    "```\n",
    "\n",
    "Visit the Highcharts' website, and in demos select the desired graphic, and click on \"edit in jsfiddle\" to download the code."
   ]
  },
  {
   "cell_type": "markdown",
   "id": "25d73e77",
   "metadata": {
    "slideshow": {
     "slide_type": "subslide"
    }
   },
   "source": [
    "## Example \n",
    "\n",
    "In the block content create a div\n",
    "```html\n",
    "<div id=\"graphic\"></div>\n",
    "```\n",
    "\n",
    "and in the scripts block : \n",
    "```html\n",
    "<script>\n",
    "Highcharts.chart('graphic', {\n",
    "    chart: {\n",
    "        type: 'line'\n",
    "    },\n",
    "    title: {\n",
    "        text: 'Injections dans le BART'\n",
    "    },\n",
    "    xAxis: {\n",
    "        title: {text: \"Rounds\"},\n",
    "        min: 0.5,\n",
    "        max: 10.5,\n",
    "        tickInterval: 1\n",
    "    },\n",
    "    yAxis: {\n",
    "        title: {text: \"Injections\"},\n",
    "        min: 0,\n",
    "        max: 64,\n",
    "        tickInterval: 8\n",
    "    },\n",
    "    series: [{\n",
    "        name: 'Injections',\n",
    "        data: [[1, 11], [2, 17], [3, 34], [4, 22], [5, 9], [6, 45], [7, 21], [8, 23], [9, 38], [10, 52]]\n",
    "    }],\n",
    "    credits: {enabled: false}\n",
    "});\n",
    "</script>\n",
    "```"
   ]
  },
  {
   "cell_type": "markdown",
   "id": "d4acf7ee",
   "metadata": {
    "slideshow": {
     "slide_type": "subslide"
    }
   },
   "source": [
    "## Practice\n",
    "\n",
    "- create an application (graph for example) and inside the page display a graph with highcharts"
   ]
  },
  {
   "cell_type": "markdown",
   "id": "9dcdf698",
   "metadata": {
    "slideshow": {
     "slide_type": "slide"
    }
   },
   "source": [
    "# <a name=\"i18n\">Internationalisation</a>"
   ]
  },
  {
   "cell_type": "markdown",
   "id": "4e03b64a",
   "metadata": {
    "slideshow": {
     "slide_type": "subslide"
    }
   },
   "source": [
    "Create a lexicon with the words or sentences translated in the different languages. For example, a file **lexicon_en.py**:\n",
    "\n",
    "```python\n",
    "class Lexicon:\n",
    "    amount_sent=\"You have to decide the amount you sent to the trustee.\"\n",
    "    amount_sent_back=\"You have to decide the amount you sent back to the trustor.\"\n",
    "```\n",
    "\n",
    "and a file **lexicon_fr.py**\n",
    "\n",
    "```python\n",
    "class Lexicon:\n",
    "    amount_sent=\"Vous devez décider du montant que vous  envoyez au joueur B.\"\n",
    "    amount_sent_back=\"Vous devez décider du montant que vous renvoyez au joueur A.\"\n",
    "```"
   ]
  },
  {
   "cell_type": "markdown",
   "id": "d73f9db9",
   "metadata": {
    "slideshow": {
     "slide_type": "subslide"
    }
   },
   "source": [
    "Import the language code and depending on it import the corresponding lexicon file\n",
    "\n",
    "In the \\_\\_init\\_\\_ file in the import section\n",
    "\n",
    "```python\n",
    "from settings import LANGUAGE_CODE\n",
    "\n",
    "if LANGUAGE_CODE == 'en':\n",
    "    from .lexicon_en import Lexicon\n",
    "else:\n",
    "    from .lexicon_fr import Lexicon\n",
    "```\n",
    "\n",
    "\n"
   ]
  },
  {
   "cell_type": "markdown",
   "id": "0da0428b",
   "metadata": {
    "slideshow": {
     "slide_type": "subslide"
    }
   },
   "source": [
    "In the page class you add the lexicon in the vars_for_template method\n",
    "```python\n",
    "class DecisionTrustor(Page):\n",
    "    def vars_for_template(player: Player):\n",
    "        return dict(\n",
    "            language=LANGUAGE_CODE,\n",
    "            lexicon=Lexicon\n",
    "        )\n",
    "```\n",
    "and then in the html file\n",
    "```html\n",
    "{{ lexicon.amount_sent }}\n",
    "```"
   ]
  },
  {
   "cell_type": "markdown",
   "id": "52f7d1ef",
   "metadata": {
    "slideshow": {
     "slide_type": "subslide"
    }
   },
   "source": [
    "For long sentences or whole paragraphs, or if some variables are needed (as ```player.payoff``` for example), it is easier to use the if statement\n",
    "\n",
    "```html\n",
    "{{ if language == \"fr\" }}\n",
    "    <p>\n",
    "        Un paragraphe en français\n",
    "    </p>\n",
    "    \n",
    "{{ elif language == \"en\" }}\n",
    "    <p>\n",
    "        a paragraph in english.\n",
    "    </p>\n",
    "    \n",
    "{{ endif }}\n",
    "```"
   ]
  },
  {
   "cell_type": "markdown",
   "id": "39853a28",
   "metadata": {
    "slideshow": {
     "slide_type": "subslide"
    }
   },
   "source": [
    "## Pratice\n",
    "\n",
    "- add a language for one of the applications"
   ]
  },
  {
   "cell_type": "markdown",
   "id": "48f4fda8",
   "metadata": {
    "slideshow": {
     "slide_type": "slide"
    }
   },
   "source": [
    "# <a name=\"tips_and_tricks\">Tips & tricks</a>"
   ]
  },
  {
   "cell_type": "markdown",
   "id": "207bcc07",
   "metadata": {
    "slideshow": {
     "slide_type": "subslide"
    }
   },
   "source": [
    "## Manual wait page\n",
    "\n",
    "- if the experimenter wants to read the instructions aloud after subjects have read them silently, i.e. the experimenter wants to control the moment at which the next page will be displayed\n",
    "- create a page without any button, so that subjects are forced to wait\n",
    "- use \"Advance slowest user\" on the administration page (server side), in the \"Monitor\" tab\n",
    "- by personal convention the name of this kind of page ends with \"WaitMonitor\"."
   ]
  },
  {
   "cell_type": "markdown",
   "id": "e0ca4a80",
   "metadata": {
    "slideshow": {
     "slide_type": "subslide"
    },
    "tags": []
   },
   "source": [
    "## Display a value as a currency \n",
    "\n",
    "- add ```|cu``` filter to the variable\n",
    "\n",
    "```html\n",
    "<p>\n",
    "    You have an endowment of {{ C.ENDOWMENT|cu }}.\n",
    "</p>\n",
    "```\n",
    "will display \"You have an endowment of €10.00\"."
   ]
  }
 ],
 "metadata": {
  "celltoolbar": "Diaporama",
  "kernelspec": {
   "display_name": "Python 3 (ipykernel)",
   "language": "python",
   "name": "python3"
  },
  "language_info": {
   "codemirror_mode": {
    "name": "ipython",
    "version": 3
   },
   "file_extension": ".py",
   "mimetype": "text/x-python",
   "name": "python",
   "nbconvert_exporter": "python",
   "pygments_lexer": "ipython3",
   "version": "3.9.13"
  },
  "rise": {
   "custom_css": "custom.css",
   "overlay": true,
   "scroll": true,
   "theme": "simple",
   "transition": "fade"
  },
  "toc": {
   "base_numbering": 1
  },
  "toc-autonumbering": true,
  "toc-showcode": false,
  "toc-showmarkdowntxt": false,
  "toc-showtags": false
 },
 "nbformat": 4,
 "nbformat_minor": 5
}
